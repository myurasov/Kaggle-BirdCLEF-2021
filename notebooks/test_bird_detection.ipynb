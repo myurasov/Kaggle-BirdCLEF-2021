{
 "cells": [
  {
   "cell_type": "code",
   "execution_count": 13,
   "id": "d0e88d9f-1b66-4b76-b93c-30f6e981d8f1",
   "metadata": {},
   "outputs": [],
   "source": [
    "import matplotlib.pyplot as plt\n",
    "import numpy as np\n",
    "import pandas as pd\n",
    "import tensorflow_addons as tfa\n",
    "from sklearn.metrics import f1_score\n",
    "from tensorflow import keras\n",
    "from tqdm import tqdm\n",
    "\n",
    "from lib.utils import fix_random_seed, read_json\n",
    "from src.config import c\n",
    "from src.data_utils import (\n",
    "    geofilter_predictions,\n",
    "    normalize_soundscapes_df,\n",
    "    predictions_to_text_labels,\n",
    "    read_soundscapes_info,\n",
    ")\n",
    "from src.generator import Generator\n",
    "from src.geo_filter import filters as geo_filters\n",
    "from src.models import Div, SinCos, YMToDate\n",
    "from src.services import get_msg_provider, get_wave_provider"
   ]
  },
  {
   "cell_type": "code",
   "execution_count": 8,
   "id": "e70c69f0-b1a8-4104-bbfe-4efcc57f4bd7",
   "metadata": {},
   "outputs": [],
   "source": [
    "fix_random_seed(c[\"SEED\"])"
   ]
  },
  {
   "cell_type": "code",
   "execution_count": 116,
   "id": "faad9e90-08ed-434e-a86e-6523e8baff2e",
   "metadata": {},
   "outputs": [],
   "source": [
    "IN_CSV = \"/app/_data/competition_data/train_soundscape_labels.csv\"\n",
    "MODEL = \"/app/_work/models/B1_nrsw_2/B1_nrsw_2.h5\"\n",
    "STRIDE = 5  # seconds\n",
    "LEN = 5\n",
    "DURATION = 600"
   ]
  },
  {
   "cell_type": "code",
   "execution_count": 117,
   "id": "935e69ec-c8d9-4706-bd28-2ce5de3f3320",
   "metadata": {},
   "outputs": [],
   "source": [
    "df = pd.read_csv(IN_CSV)\n",
    "df = normalize_soundscapes_df(df, quiet=True)"
   ]
  },
  {
   "cell_type": "code",
   "execution_count": 118,
   "id": "32b9aa8c-471c-4465-96ef-902eab46dde0",
   "metadata": {},
   "outputs": [
    {
     "name": "stdout",
     "output_type": "stream",
     "text": [
      "2782_SSW_20170701.ogg\n"
     ]
    }
   ],
   "source": [
    "AUDIO_FILE = df[\"filename\"].unique()[10]\n",
    "print(AUDIO_FILE)"
   ]
  },
  {
   "cell_type": "code",
   "execution_count": 119,
   "id": "db0c9146-249d-4ae3-b6f1-014d18920e94",
   "metadata": {},
   "outputs": [],
   "source": [
    "N = (DURATION - LEN) // STRIDE + 1\n",
    "df = pd.DataFrame([df.iloc[df[df.filename == AUDIO_FILE].index[0]]] * N).reset_index(\n",
    "    drop=True\n",
    ")"
   ]
  },
  {
   "cell_type": "code",
   "execution_count": 120,
   "id": "ddcb11cc-c513-45d2-ac75-db85ffcbe7a9",
   "metadata": {},
   "outputs": [],
   "source": [
    "df._from_s = list(range(0, DURATION - LEN + STRIDE, STRIDE))\n",
    "df._to_s = list(range(LEN, DURATION + STRIDE, STRIDE))"
   ]
  },
  {
   "cell_type": "code",
   "execution_count": 10,
   "id": "8578cd39-89ff-44c1-a4da-d6f6328d5e76",
   "metadata": {},
   "outputs": [],
   "source": [
    "meta = read_json(MODEL.replace(\".h5\", \".json\"))"
   ]
  },
  {
   "cell_type": "code",
   "execution_count": 5,
   "id": "4e1b9e05-f5e9-4f01-af23-a7ccab73fcfe",
   "metadata": {},
   "outputs": [
    {
     "name": "stdout",
     "output_type": "stream",
     "text": [
      "INFO:tensorflow:Mixed precision compatibility check (mixed_float16): OK\n",
      "Your GPU will likely run quickly with dtype policy mixed_float16 as it has compute capability of at least 7.0. Your GPU: NVIDIA Tesla V100-DGXS-32GB, compute capability 7.0\n"
     ]
    }
   ],
   "source": [
    "model = keras.models.load_model(\n",
    "    MODEL,\n",
    "    custom_objects={\n",
    "        \"SinCos\": SinCos,\n",
    "        \"Div\": Div,\n",
    "        \"YMToDate\": YMToDate,\n",
    "    },\n",
    ")"
   ]
  },
  {
   "cell_type": "code",
   "execution_count": null,
   "id": "26c651c2-1021-4aa8-bb39-0ada82d2eca2",
   "metadata": {},
   "outputs": [],
   "source": [
    "input_shape = model.get_layer(\"i_msg\").input_shape[0][1:]\n",
    "wave_p = get_wave_provider(meta[\"config\"])\n",
    "msg_p = get_msg_provider(\n",
    "    meta[\"config\"],\n",
    "    n_mels=input_shape[0],\n",
    "    time_steps=input_shape[1],\n",
    ")"
   ]
  },
  {
   "cell_type": "code",
   "execution_count": null,
   "id": "77509827-c318-4642-aa3a-887e4277ab82",
   "metadata": {},
   "outputs": [],
   "source": [
    "g = Generator(\n",
    "    df=df,\n",
    "    shuffle=False,\n",
    "    augmentation=None,\n",
    "    rating_as_sw=False,\n",
    "    rareness_as_sw=False,\n",
    "    msg_provider=msg_p,\n",
    "    wave_provider=wave_p,\n",
    "    msg_as_rgb=(3 == input_shape[-1]),\n",
    "    geo_coordinates_bins=meta[\"config\"][\"GEO_COORDINATES_BINS\"],\n",
    "    batch_size=64,\n",
    ")"
   ]
  },
  {
   "cell_type": "code",
   "execution_count": null,
   "id": "c636f69a-e1bb-4385-b04f-77cca25147d6",
   "metadata": {},
   "outputs": [],
   "source": []
  }
 ],
 "metadata": {
  "kernelspec": {
   "display_name": "Python 3",
   "language": "python",
   "name": "python3"
  },
  "language_info": {
   "codemirror_mode": {
    "name": "ipython",
    "version": 3
   },
   "file_extension": ".py",
   "mimetype": "text/x-python",
   "name": "python",
   "nbconvert_exporter": "python",
   "pygments_lexer": "ipython3",
   "version": "3.8.5"
  }
 },
 "nbformat": 4,
 "nbformat_minor": 5
}
