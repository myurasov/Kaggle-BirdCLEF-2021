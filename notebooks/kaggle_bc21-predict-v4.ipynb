{
 "cells": [
  {
   "cell_type": "code",
   "execution_count": 1,
   "metadata": {
    "tags": []
   },
   "outputs": [],
   "source": [
    "! touch submission.csv"
   ]
  },
  {
   "cell_type": "code",
   "execution_count": 2,
   "metadata": {
    "tags": []
   },
   "outputs": [],
   "source": [
    "import os\n",
    "import sys"
   ]
  },
  {
   "cell_type": "code",
   "execution_count": 3,
   "metadata": {
    "tags": []
   },
   "outputs": [],
   "source": [
    "os.environ[\"__KAGGLE__\"] = \"1\"\n",
    "sys.path.append(\"/kaggle/input/bc21-code/\")"
   ]
  },
  {
   "cell_type": "code",
   "execution_count": 4,
   "metadata": {
    "tags": []
   },
   "outputs": [],
   "source": [
    "import numpy as np\n",
    "import pandas as pd\n",
    "import tensorflow_addons as tfa\n",
    "\n",
    "from src.config import c\n",
    "from src.data_utils import (\n",
    "    boost_multiple_occurences,\n",
    "    geofilter_predictions,\n",
    "    normalize_soundscapes_df,\n",
    "    predictions_to_text_labels,\n",
    ")\n",
    "from src.generator import Generator\n",
    "from src.geo_filter import filters as geo_filters\n",
    "from src.kaggle_utils import predict"
   ]
  },
  {
   "cell_type": "code",
   "execution_count": 5,
   "metadata": {
    "tags": []
   },
   "outputs": [],
   "source": [
    "IN_KAGGLE_SUBMIT = os.environ[\"KAGGLE_KERNEL_RUN_TYPE\"] != \"Interactive\"\n",
    "\n",
    "IN_CSV = \"/kaggle/input/birdclef-2021/train_soundscape_labels.csv\"\n",
    "\n",
    "if IN_KAGGLE_SUBMIT:\n",
    "    IN_CSV = \"/kaggle/input/birdclef-2021/test.csv\"\n",
    "\n",
    "\n",
    "GEOFILTER = \"all-500mi-last_5y-1mo_tolerance\"\n",
    "\n",
    "BOOST_COEF = 2.4\n",
    "BOOST_MAX = BOOST_COEF * 5\n",
    "THRESHOLD = 0.5\n",
    "\n",
    "MODELS = [\n",
    "    \"/kaggle/input/bc21-models/E1_g_xae332.h5\",\n",
    "    \"/kaggle/input/bc21-models/D1_xae332.h5\",\n",
    "    \"/kaggle/input/bc21-models/C1.h5\",\n",
    "]"
   ]
  },
  {
   "cell_type": "code",
   "execution_count": 6,
   "metadata": {},
   "outputs": [],
   "source": [
    "Ys = []\n",
    "labels = None\n",
    "\n",
    "df = pd.read_csv(IN_CSV)\n",
    "df = normalize_soundscapes_df(df)"
   ]
  },
  {
   "cell_type": "code",
   "execution_count": 7,
   "metadata": {},
   "outputs": [],
   "source": [
    "# from lib.utils import load_pickle, read_json, save_pickle\n",
    "# # save_pickle('Ys', Ys)\n",
    "# Ys = load_pickle(\"Ys\")\n",
    "# meta = read_json(MODELS[0].replace(\".h5\", \".json\"))\n",
    "# labels = meta[\"labels\"]"
   ]
  },
  {
   "cell_type": "code",
   "execution_count": null,
   "metadata": {},
   "outputs": [
    {
     "name": "stdout",
     "output_type": "stream",
     "text": [
      "INFO:tensorflow:Mixed precision compatibility check (mixed_float16): OK\n",
      "Your GPU will likely run quickly with dtype policy mixed_float16 as it has compute capability of at least 7.0. Your GPU: NVIDIA Tesla V100-DGXS-32GB, compute capability 7.0\n"
     ]
    }
   ],
   "source": [
    "for model in MODELS:\n",
    "\n",
    "    Y, labels = predict(\n",
    "        model_path=model,\n",
    "        df=df,\n",
    "        quiet=IN_KAGGLE_SUBMIT,\n",
    "    )\n",
    "\n",
    "    Ys.append(Y)"
   ]
  },
  {
   "cell_type": "code",
   "execution_count": null,
   "metadata": {},
   "outputs": [],
   "source": [
    "# combine predictions\n",
    "\n",
    "# sqrt(sum_squares)\n",
    "# Y = np.sqrt(np.sum(np.array(Ys).astype(np.float64) ** 2, axis=0))\n",
    "\n",
    "# mean\n",
    "Y = np.mean(np.array(Ys).astype(np.float64), axis=0)\n",
    "\n",
    "# sum+threshold\n",
    "Y = np.where(\n",
    "    np.sum(np.array(Ys).astype(np.float64), axis=0) > len(MODELS) * THRESHOLD, 1, 0\n",
    ")\n",
    "BOOST_COEF = None"
   ]
  },
  {
   "cell_type": "code",
   "execution_count": null,
   "metadata": {},
   "outputs": [],
   "source": [
    "# add Y column\n",
    "df[\"y\"] = list(map(lambda x: x, Y))\n",
    "\n",
    "# geofilter\n",
    "if GEOFILTER is not None:\n",
    "\n",
    "    Y = geofilter_predictions(\n",
    "        df=df,\n",
    "        Y_pred=Y,\n",
    "        site_labels=geo_filters[GEOFILTER],\n",
    "        labels=labels,\n",
    "        downgrade_const=0,\n",
    "    )\n",
    "\n",
    "    df[\"y\"] = list(map(lambda x: x, Y))\n",
    "\n",
    "\n",
    "# boost\n",
    "if BOOST_COEF is not None:\n",
    "\n",
    "    df = boost_multiple_occurences(\n",
    "        df=df,\n",
    "        labels=labels,\n",
    "        pred_col=\"y\",\n",
    "        out_col=\"y\",\n",
    "        boost_coef=BOOST_COEF,\n",
    "        max_boost_coef=BOOST_MAX,\n",
    "        threshold=THRESHOLD,\n",
    "    )\n",
    "\n",
    "# convert to text labels\n",
    "df[\"birds\"] = predictions_to_text_labels(\n",
    "    df[\"y\"],\n",
    "    labels,\n",
    "    default_label=\"nocall\",\n",
    "    threshold=THRESHOLD,\n",
    ")"
   ]
  },
  {
   "cell_type": "code",
   "execution_count": null,
   "metadata": {},
   "outputs": [],
   "source": [
    "# verify that we've created not a complete garbage\n",
    "\n",
    "if not IN_KAGGLE_SUBMIT:\n",
    "\n",
    "    from sklearn.metrics import f1_score\n",
    "\n",
    "    print(\n",
    "        \"f1\",\n",
    "        f1_score(\n",
    "            list(df[\"_primary_labels\"]),\n",
    "            list(df[\"birds\"]),\n",
    "            labels=labels,\n",
    "            average=\"micro\",\n",
    "        ),\n",
    "    )"
   ]
  },
  {
   "cell_type": "code",
   "execution_count": null,
   "metadata": {},
   "outputs": [],
   "source": [
    "# create submission\n",
    "df[[\"row_id\", \"birds\"]].to_csv(\"submission.csv\", index=False)"
   ]
  },
  {
   "cell_type": "code",
   "execution_count": null,
   "metadata": {},
   "outputs": [],
   "source": []
  }
 ],
 "metadata": {
  "kernelspec": {
   "display_name": "Python 3",
   "language": "python",
   "name": "python3"
  },
  "language_info": {
   "codemirror_mode": {
    "name": "ipython",
    "version": 3
   },
   "file_extension": ".py",
   "mimetype": "text/x-python",
   "name": "python",
   "nbconvert_exporter": "python",
   "pygments_lexer": "ipython3",
   "version": "3.8.5"
  },
  "widgets": {
   "application/vnd.jupyter.widget-state+json": {
    "state": {},
    "version_major": 2,
    "version_minor": 0
   }
  }
 },
 "nbformat": 4,
 "nbformat_minor": 4
}
