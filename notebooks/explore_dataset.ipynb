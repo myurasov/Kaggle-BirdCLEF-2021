{
 "cells": [
  {
   "cell_type": "code",
   "execution_count": 1,
   "id": "productive-constitutional",
   "metadata": {},
   "outputs": [],
   "source": [
    "import pandas as pd\n",
    "import plotly.graph_objects as go\n",
    "import plotly.io as pio\n",
    "\n",
    "pio.renderers.default = \"iframe\""
   ]
  },
  {
   "cell_type": "code",
   "execution_count": 2,
   "id": "upset-examination",
   "metadata": {},
   "outputs": [],
   "source": [
    "def _show_df_class_balance(df):\n",
    "\n",
    "    species = df[\"_primary_labels\"].value_counts()\n",
    "\n",
    "    fig = go.Figure(\n",
    "        data=[go.Bar(y=species.values, x=species.index)],\n",
    "        layout=go.Layout(margin=go.layout.Margin(l=0, r=0, b=10, t=50)),\n",
    "    )\n",
    "\n",
    "    fig.show()"
   ]
  },
  {
   "cell_type": "code",
   "execution_count": 3,
   "id": "fossil-track",
   "metadata": {},
   "outputs": [
    {
     "data": {
      "text/html": [
       "<iframe\n",
       "    scrolling=\"no\"\n",
       "    width=\"100%\"\n",
       "    height=\"545px\"\n",
       "    src=\"iframe_figures/figure_3.html\"\n",
       "    frameborder=\"0\"\n",
       "    allowfullscreen\n",
       "></iframe>\n"
      ]
     },
     "metadata": {},
     "output_type": "display_data"
    }
   ],
   "source": [
    "df = pd.read_pickle(\"/app/_work/dataset.pickle\")\n",
    "\n",
    "s = df[\"_primary_labels\"].value_counts()\n",
    "\n",
    "fig = go.Figure(\n",
    "    data=[go.Bar(y=s.values, x=s.index)],\n",
    "    layout=go.Layout(margin=go.layout.Margin(l=0, r=0, b=10, t=50)),\n",
    ")\n",
    "\n",
    "fig.show()"
   ]
  },
  {
   "cell_type": "code",
   "execution_count": null,
   "id": "spoken-modification",
   "metadata": {},
   "outputs": [],
   "source": []
  },
  {
   "cell_type": "code",
   "execution_count": null,
   "id": "7cb1d1f4-7906-4894-98c8-a61955392739",
   "metadata": {},
   "outputs": [],
   "source": []
  }
 ],
 "metadata": {
  "kernelspec": {
   "display_name": "Python 3",
   "language": "python",
   "name": "python3"
  },
  "language_info": {
   "codemirror_mode": {
    "name": "ipython",
    "version": 3
   },
   "file_extension": ".py",
   "mimetype": "text/x-python",
   "name": "python",
   "nbconvert_exporter": "python",
   "pygments_lexer": "ipython3",
   "version": "3.8.5"
  }
 },
 "nbformat": 4,
 "nbformat_minor": 5
}
