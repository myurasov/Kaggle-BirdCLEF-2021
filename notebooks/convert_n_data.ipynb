{
 "cells": [
  {
   "cell_type": "code",
   "execution_count": 1,
   "id": "af4e9537-6958-4780-ae8c-6bdca2800ac4",
   "metadata": {},
   "outputs": [],
   "source": [
    "import numpy as np\n",
    "import pandas as pd\n",
    "from tqdm import tqdm\n",
    "\n",
    "from src.config import c"
   ]
  },
  {
   "cell_type": "code",
   "execution_count": 2,
   "id": "8465b642-1692-4591-b33b-9a35aee2d1b7",
   "metadata": {},
   "outputs": [],
   "source": [
    "df = pd.read_csv(\"/app/res/n_nocall_labels.csv\")"
   ]
  },
  {
   "cell_type": "code",
   "execution_count": 3,
   "id": "7a972f30-7446-4030-9abe-babe9d16f705",
   "metadata": {},
   "outputs": [],
   "source": [
    "train_metadata = pd.read_csv(\"/app/_data/competition_data/train_metadata.csv\")\n",
    "train_metadata = train_metadata[\n",
    "    train_metadata[\"filename\"].isin(df[\"filename\"].unique())\n",
    "]"
   ]
  },
  {
   "cell_type": "code",
   "execution_count": 4,
   "id": "8dc71692-9028-4879-a348-7da79bb2c762",
   "metadata": {},
   "outputs": [],
   "source": [
    "# leave only nocalls and short audio\n",
    "df = df[df[\"filename\"].str.startswith(\"XC\") & (df[\"birds\"] == \"nocall\")]\n",
    "# sort by filename and start time\n",
    "df = df.sort_values([\"filename\", \"start_sec\"]).reset_index(drop=True)"
   ]
  },
  {
   "cell_type": "code",
   "execution_count": 5,
   "id": "1c99974d-8d08-4f24-a377-5cd640a4b202",
   "metadata": {},
   "outputs": [
    {
     "name": "stderr",
     "output_type": "stream",
     "text": [
      "100%|██████████| 518/518 [00:08<00:00, 60.36it/s]\n"
     ]
    }
   ],
   "source": [
    "# sample intervals\n",
    "\n",
    "STRIDE_S = 5\n",
    "LEN_S = c[\"AUDIO_TARGET_LEN_S\"]\n",
    "\n",
    "out_df = pd.DataFrame()\n",
    "\n",
    "for ix, row in tqdm(df.iterrows(), total=df.shape[0]):\n",
    "    for start_s in np.arange(row[\"start_sec\"], row[\"end_sec\"] - LEN_S, STRIDE_S):\n",
    "        file_info = train_metadata[train_metadata.filename == row.filename].iloc[0]\n",
    "        out_df = out_df.append(\n",
    "            {\n",
    "                \"filename\": row[\"filename\"],\n",
    "                \"_from_s\": start_s,\n",
    "                \"_to_s\": start_s + LEN_S,\n",
    "                \"_primary_labels\": \"nocall\",\n",
    "                \"__date__\": file_info[\"date\"],\n",
    "                \"_year\": (file_info[\"date\"][:4]),\n",
    "                \"_month\": int(file_info[\"date\"][5:7]),\n",
    "                \"latitude\": file_info[\"latitude\"],\n",
    "                \"longitude\": file_info[\"longitude\"],\n",
    "                \"rating\": file_info[\"rating\"],\n",
    "                \"_source\": \"n_nocall_labels\",\n",
    "            },\n",
    "            ignore_index=True,\n",
    "        )"
   ]
  },
  {
   "cell_type": "code",
   "execution_count": 6,
   "id": "2ecda9ea-6815-446c-8cb1-65d58981d42d",
   "metadata": {},
   "outputs": [],
   "source": [
    "# add missing standard cols\n",
    "for col in c[\"DATASET_COLS\"]:\n",
    "    if col not in out_df:\n",
    "        out_df[col] = \"\"\n",
    "\n",
    "# save\n",
    "out_df = out_df[c[\"DATASET_COLS\"]]\n",
    "out_df.to_csv(\"/app/_work/n_nocall.csv\", index=False)"
   ]
  }
 ],
 "metadata": {
  "kernelspec": {
   "display_name": "Python 3",
   "language": "python",
   "name": "python3"
  },
  "language_info": {
   "codemirror_mode": {
    "name": "ipython",
    "version": 3
   },
   "file_extension": ".py",
   "mimetype": "text/x-python",
   "name": "python",
   "nbconvert_exporter": "python",
   "pygments_lexer": "ipython3",
   "version": "3.8.5"
  },
  "widgets": {
   "application/vnd.jupyter.widget-state+json": {
    "state": {},
    "version_major": 2,
    "version_minor": 0
   }
  }
 },
 "nbformat": 4,
 "nbformat_minor": 5
}
