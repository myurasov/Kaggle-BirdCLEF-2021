{
 "cells": [
  {
   "cell_type": "code",
   "execution_count": null,
   "id": "introductory-lying",
   "metadata": {},
   "outputs": [],
   "source": [
    "import pandas as pd\n",
    "import plotly.graph_objects as go"
   ]
  },
  {
   "cell_type": "code",
   "execution_count": null,
   "id": "surrounded-stadium",
   "metadata": {},
   "outputs": [],
   "source": [
    "def _show_df_class_balance(path):\n",
    "\n",
    "    df = pd.read_csv(path)\n",
    "\n",
    "    species = df[\"_primary_labels\"].value_counts()\n",
    "\n",
    "    fig = go.Figure(\n",
    "        data=[go.Bar(y=species.values, x=species.index)],\n",
    "        layout=go.Layout(margin=go.layout.Margin(l=0, r=0, b=10, t=50)),\n",
    "    )\n",
    "\n",
    "    fig.show()"
   ]
  },
  {
   "cell_type": "code",
   "execution_count": 10,
   "id": "executed-envelope",
   "metadata": {},
   "outputs": [
    {
     "data": {
      "text/html": [
       "<div>                            <div id=\"58f3237a-ee46-4eca-b22e-835544d654c7\" class=\"plotly-graph-div\" style=\"height:525px; width:100%;\"></div>            <script type=\"text/javascript\">                require([\"plotly\"], function(Plotly) {                    window.PLOTLYENV=window.PLOTLYENV || {};                                    if (document.getElementById(\"58f3237a-ee46-4eca-b22e-835544d654c7\")) {                    Plotly.newPlot(                        \"58f3237a-ee46-4eca-b22e-835544d654c7\",                        [{\"type\": \"bar\", \"x\": [\"houwre\", \"houspa\", \"eursta\", \"comrav\", \"redcro\", \"sonspa\", \"gbwwre1\", \"spotow\", \"barswa\", \"rewbla\", \"bncfly\", \"norcar\", \"amerob\", \"carwre\", \"bewwre\", \"rucspa1\", \"normoc\", \"comyel\", \"swathr\", \"rubpep1\", \"wesmea\", \"grhowl\", \"cubthr\", \"compau\", \"marwre\", \"herthr\", \"roahaw\", \"mallar3\", \"warvir\", \"savspa\", \"daejun\", \"blujay\", \"ducfly\", \"houfin\", \"whcspa\", \"grycat\", \"grekis\", \"wbwwre1\", \"eastow\", \"banana\", \"grasal1\", \"brratt1\", \"obnthr1\", \"yeofly1\", \"yebcha\", \"azaspi1\", \"chcant2\", \"easmea\", \"andsol1\", \"lobgna5\", \"whtdov\", \"whevir\", \"astfly\", \"fepowl\", \"bkhgro\", \"trokin\", \"amecro\", \"amered\", \"cangoo\", \"bcnher\", \"meapar\", \"whtspa\", \"reevir1\", \"ruboro1\", \"ovenbi1\", \"woothr\", \"wewpew\", \"indbun\", \"socfly1\", \"chispa\", \"scbwre1\", \"bobfly1\", \"plupig2\", \"tuftit\", \"grethr1\", \"orcwar\", \"laufal1\", \"barant1\", \"linspa\", \"eucdov\", \"ccbfin\", \"belvir\", \"sumtan\", \"butsal1\", \"bkmtou1\", \"grtgra\", \"clcrob\", \"wlswar\", \"burwar1\", \"baywre1\", \"buggna\", \"caskin\", \"macwar\", \"strcuc1\", \"chbant1\", \"ruckin\", \"whimbr\", \"bkcchi\", \"cobtan1\", \"whbnut\", \"rcatan1\", \"lesgol\", \"blbgra1\", \"norwat\", \"sltred\", \"whbman1\", \"foxspa\", \"sobtyr1\", \"blugrb1\", \"gnttow\", \"rucwar1\", \"littin1\", \"gnwtea\", \"norfli\", \"pirfly1\", \"stejay\", \"magwar\", \"veery\", \"logshr\", \"brnthr\", \"bulori\", \"scptyr1\", \"bnhcow\", \"brncre\", \"subfly\", \"hergul\", \"chswar\", \"brbsol1\", \"coltro1\", \"strfly1\", \"gockin\", \"yerwar\", \"hutvir\", \"tropar\", \"gwfgoo\", \"compot1\", \"orbspa1\", \"mutswa\", \"grnjay\", \"fiespa\", \"acowoo\", \"amegfi\", \"pabspi1\", \"squcuc1\", \"orbeup1\", \"plsvir\", \"westan\", \"sancra\", \"haiwoo\", \"norpar\", \"buhvir\", \"rucwar\", \"lesvio1\", \"smbani\", \"cinfly2\", \"killde\", \"pinsis\", \"oliwoo1\", \"mouchi\", \"casvir\", \"plaxen1\", \"bushti\", \"osprey\", \"verdin\", \"whiwre1\", \"sinwre1\", \"bawwar\", \"soulap1\", \"thswar1\", \"blsspa1\", \"mastro1\", \"rebnut\", \"grcfly\", \"cacwre\", \"tromoc\", \"tenwar\", \"lazbun\", \"casfin\", \"bknsti\", \"gcrwar\", \"strsal1\", \"aldfly\", \"pasfly\", \"bugtan\", \"linwoo1\", \"towsol\", \"naswar\", \"banwre1\", \"dowwoo\", \"rubrob\", \"gocfly1\", \"saffin\", \"scatan\", \"eawpew\", \"blkpho\", \"balori\", \"comgra\", \"rutjac1\", \"yelwar\", \"btywar\", \"larspa\", \"carchi\", \"caltow\", \"rebwoo\", \"creoro1\", \"banswa\", \"canwar\", \"acafly\", \"stbori\", \"purfin\", \"moudov\", \"webwoo1\", \"swaspa\", \"trogna1\", \"bkbplo\", \"dusfly\", \"yebsee1\", \"caster1\", \"sibtan2\", \"yehbla\", \"blhpar1\", \"bbwduc\", \"spvear1\", \"robgro\", \"wilfly\", \"whwdov\", \"rudpig\", \"yebela1\", \"bkbwar\", \"btnwar\", \"blbthr1\", \"weskin\", \"calqua\", \"goftyr1\", \"olsfly\", \"rudtur\", \"leafly\", \"easpho\", \"wesant1\", \"oaktit\", \"mouela1\", \"cliswa\", \"rumfly1\", \"mouwar\", \"sthant1\", \"relpar\", \"bawswa1\", \"reshaw\", \"yetvir\", \"paltan1\", \"rocpig\", \"thbeup1\", \"annhum\", \"snogoo\", \"botgra\", \"pilwoo\", \"easblu\", \"gadwal\", \"putfru1\", \"chbwre1\", \"rubwre1\", \"yelgro\", \"yehcar1\", \"orcpar\", \"coohaw\", \"whwbec1\", \"lucwar\", \"yebfly\", \"gilwoo\", \"thbkin\", \"treswa\", \"yegvir\", \"greegr\", \"brbmot1\", \"y00475\", \"whcsee1\", \"eletro\", \"ocbfly1\", \"clanut\", \"grepew\", \"categr\", \"gamqua\", \"rethaw\", \"cotfly1\", \"rinkin1\", \"plawre1\", \"wilsni1\", \"whfpar1\", \"blcjay1\", \"gohque1\", \"btbwar\", \"brcvir1\", \"gocspa\", \"scamac1\", \"tunswa\", \"melbla1\", \"yebori1\", \"brwhaw\", \"prowar\", \"pibgre\", \"willet1\", \"rawwre1\", \"brnjay\", \"rtlhum\", \"wrenti\", \"shicow\", \"lesgre1\", \"saypho\", \"kebtou1\", \"royter1\", \"comgol\", \"amekes\", \"incdov\", \"pygnut\", \"cocwoo1\", \"bkbmag1\", \"grbher3\", \"greyel\", \"pavpig2\", \"chbchi\", \"wiltur\", \"monoro1\", \"phivir\", \"gryhaw2\", \"grbani\", \"commer\", \"easkin\", \"cedwax\", \"gartro1\", \"cowscj1\", \"amepip\", \"colcha1\", \"sposan\", \"laugul\", \"amtspa\", \"vigswa\", \"brebla\", \"gbbgul\", \"comloo\", \"lotman1\", \"yefgra1\", \"lobdow\", \"yebsap\", \"rotbec\", \"purgal2\", \"gretin1\", \"herwar\", \"semplo\", \"belkin1\", \"labwoo\", \"goowoo1\", \"cregua1\", \"sthwoo1\", \"lotduc\", \"wesblu\", \"solsan\", \"nutwoo\", \"yeteup1\", \"bongul\", \"batpig1\", \"brwpar1\", \"palwar\", \"babwar\", \"norsho\", \"blctan1\", \"rugdov\", \"higmot1\", \"sander\", \"leasan\", \"cogdov\", \"ribgul\", \"cacgoo1\", \"orfpar\", \"tropew1\", \"baleag\", \"rufhum\", \"mouqua\", \"wooduc\", \"rehbar1\", \"grnher\", \"ameavo\", \"scrtan1\", \"bucmot2\", \"buwtea\", \"grhcha1\", \"nrwswa\", \"rebsap\", \"rthhum\", \"amewig\", \"flrtan1\", \"hofwoo1\", \"heptan\", \"runwre1\", \"whcpar\", \"crfpar\", \"stvhum2\", \"wegspa1\"], \"y\": [3380, 3282, 3161, 3113, 3030, 2911, 2786, 2602, 2180, 2112, 2110, 2104, 2037, 1751, 1719, 1705, 1695, 1659, 1510, 1509, 1489, 1419, 1415, 1405, 1396, 1371, 1355, 1329, 1311, 1307, 1288, 1268, 1237, 1231, 1230, 1225, 1225, 1187, 1180, 1179, 1177, 1155, 1123, 1123, 1122, 1122, 1103, 1095, 1088, 1054, 1040, 1022, 1014, 976, 970, 968, 966, 951, 951, 924, 922, 919, 916, 904, 898, 897, 894, 865, 864, 858, 853, 843, 841, 835, 832, 828, 828, 826, 826, 820, 816, 807, 806, 801, 793, 790, 787, 787, 786, 784, 782, 782, 775, 772, 765, 759, 754, 753, 749, 746, 745, 744, 743, 743, 739, 735, 725, 716, 716, 712, 711, 711, 710, 704, 700, 699, 694, 690, 687, 684, 674, 671, 670, 668, 666, 666, 665, 663, 661, 645, 643, 638, 638, 637, 636, 633, 632, 630, 627, 625, 624, 620, 615, 611, 608, 608, 601, 601, 598, 596, 593, 593, 592, 588, 587, 586, 586, 584, 576, 573, 573, 572, 571, 571, 570, 569, 567, 563, 563, 551, 547, 544, 543, 541, 538, 534, 532, 531, 529, 524, 518, 518, 517, 511, 510, 508, 505, 504, 504, 501, 494, 493, 491, 491, 483, 482, 482, 480, 474, 474, 473, 471, 469, 468, 466, 464, 463, 461, 460, 453, 452, 451, 450, 449, 446, 445, 444, 440, 439, 438, 434, 433, 428, 427, 427, 426, 425, 423, 422, 422, 414, 411, 409, 406, 405, 404, 402, 400, 399, 396, 395, 392, 387, 386, 383, 383, 381, 380, 377, 373, 373, 370, 370, 369, 364, 364, 363, 362, 362, 359, 359, 359, 356, 354, 354, 352, 351, 351, 351, 347, 346, 345, 345, 344, 342, 340, 339, 337, 336, 335, 333, 329, 328, 327, 325, 324, 316, 316, 316, 316, 313, 312, 311, 308, 304, 303, 303, 302, 301, 300, 299, 296, 295, 293, 293, 291, 290, 288, 286, 280, 279, 278, 277, 277, 268, 265, 265, 264, 259, 253, 252, 251, 247, 244, 243, 239, 231, 229, 228, 225, 224, 224, 223, 222, 222, 215, 212, 209, 208, 208, 207, 203, 201, 200, 199, 198, 196, 196, 194, 193, 186, 184, 183, 182, 181, 175, 175, 173, 172, 170, 168, 168, 161, 158, 156, 155, 149, 145, 144, 144, 142, 141, 140, 139, 130, 128, 122, 116, 109, 109, 108, 104, 95, 91, 90, 89, 80, 73, 69, 68, 50, 45, 45, 28, 20, 17, 15]}],                        {\"margin\": {\"b\": 10, \"l\": 0, \"r\": 0, \"t\": 50}, \"template\": {\"data\": {\"bar\": [{\"error_x\": {\"color\": \"#2a3f5f\"}, \"error_y\": {\"color\": \"#2a3f5f\"}, \"marker\": {\"line\": {\"color\": \"#E5ECF6\", \"width\": 0.5}}, \"type\": \"bar\"}], \"barpolar\": [{\"marker\": {\"line\": {\"color\": \"#E5ECF6\", \"width\": 0.5}}, \"type\": \"barpolar\"}], \"carpet\": [{\"aaxis\": {\"endlinecolor\": \"#2a3f5f\", \"gridcolor\": \"white\", \"linecolor\": \"white\", \"minorgridcolor\": \"white\", \"startlinecolor\": \"#2a3f5f\"}, \"baxis\": {\"endlinecolor\": \"#2a3f5f\", \"gridcolor\": \"white\", \"linecolor\": \"white\", \"minorgridcolor\": \"white\", \"startlinecolor\": \"#2a3f5f\"}, \"type\": \"carpet\"}], \"choropleth\": [{\"colorbar\": {\"outlinewidth\": 0, \"ticks\": \"\"}, \"type\": \"choropleth\"}], \"contour\": [{\"colorbar\": {\"outlinewidth\": 0, \"ticks\": \"\"}, \"colorscale\": [[0.0, \"#0d0887\"], [0.1111111111111111, \"#46039f\"], [0.2222222222222222, \"#7201a8\"], [0.3333333333333333, \"#9c179e\"], [0.4444444444444444, \"#bd3786\"], [0.5555555555555556, \"#d8576b\"], [0.6666666666666666, \"#ed7953\"], [0.7777777777777778, \"#fb9f3a\"], [0.8888888888888888, \"#fdca26\"], [1.0, \"#f0f921\"]], \"type\": \"contour\"}], \"contourcarpet\": [{\"colorbar\": {\"outlinewidth\": 0, \"ticks\": \"\"}, \"type\": \"contourcarpet\"}], \"heatmap\": [{\"colorbar\": {\"outlinewidth\": 0, \"ticks\": \"\"}, \"colorscale\": [[0.0, \"#0d0887\"], [0.1111111111111111, \"#46039f\"], [0.2222222222222222, \"#7201a8\"], [0.3333333333333333, \"#9c179e\"], [0.4444444444444444, \"#bd3786\"], [0.5555555555555556, \"#d8576b\"], [0.6666666666666666, \"#ed7953\"], [0.7777777777777778, \"#fb9f3a\"], [0.8888888888888888, \"#fdca26\"], [1.0, \"#f0f921\"]], \"type\": \"heatmap\"}], \"heatmapgl\": [{\"colorbar\": {\"outlinewidth\": 0, \"ticks\": \"\"}, \"colorscale\": [[0.0, \"#0d0887\"], [0.1111111111111111, \"#46039f\"], [0.2222222222222222, \"#7201a8\"], [0.3333333333333333, \"#9c179e\"], [0.4444444444444444, \"#bd3786\"], [0.5555555555555556, \"#d8576b\"], [0.6666666666666666, \"#ed7953\"], [0.7777777777777778, \"#fb9f3a\"], [0.8888888888888888, \"#fdca26\"], [1.0, \"#f0f921\"]], \"type\": \"heatmapgl\"}], \"histogram\": [{\"marker\": {\"colorbar\": {\"outlinewidth\": 0, \"ticks\": \"\"}}, \"type\": \"histogram\"}], \"histogram2d\": [{\"colorbar\": {\"outlinewidth\": 0, \"ticks\": \"\"}, \"colorscale\": [[0.0, \"#0d0887\"], [0.1111111111111111, \"#46039f\"], [0.2222222222222222, \"#7201a8\"], [0.3333333333333333, \"#9c179e\"], [0.4444444444444444, \"#bd3786\"], [0.5555555555555556, \"#d8576b\"], [0.6666666666666666, \"#ed7953\"], [0.7777777777777778, \"#fb9f3a\"], [0.8888888888888888, \"#fdca26\"], [1.0, \"#f0f921\"]], \"type\": \"histogram2d\"}], \"histogram2dcontour\": [{\"colorbar\": {\"outlinewidth\": 0, \"ticks\": \"\"}, \"colorscale\": [[0.0, \"#0d0887\"], [0.1111111111111111, \"#46039f\"], [0.2222222222222222, \"#7201a8\"], [0.3333333333333333, \"#9c179e\"], [0.4444444444444444, \"#bd3786\"], [0.5555555555555556, \"#d8576b\"], [0.6666666666666666, \"#ed7953\"], [0.7777777777777778, \"#fb9f3a\"], [0.8888888888888888, \"#fdca26\"], [1.0, \"#f0f921\"]], \"type\": \"histogram2dcontour\"}], \"mesh3d\": [{\"colorbar\": {\"outlinewidth\": 0, \"ticks\": \"\"}, \"type\": \"mesh3d\"}], \"parcoords\": [{\"line\": {\"colorbar\": {\"outlinewidth\": 0, \"ticks\": \"\"}}, \"type\": \"parcoords\"}], \"pie\": [{\"automargin\": true, \"type\": \"pie\"}], \"scatter\": [{\"marker\": {\"colorbar\": {\"outlinewidth\": 0, \"ticks\": \"\"}}, \"type\": \"scatter\"}], \"scatter3d\": [{\"line\": {\"colorbar\": {\"outlinewidth\": 0, \"ticks\": \"\"}}, \"marker\": {\"colorbar\": {\"outlinewidth\": 0, \"ticks\": \"\"}}, \"type\": \"scatter3d\"}], \"scattercarpet\": [{\"marker\": {\"colorbar\": {\"outlinewidth\": 0, \"ticks\": \"\"}}, \"type\": \"scattercarpet\"}], \"scattergeo\": [{\"marker\": {\"colorbar\": {\"outlinewidth\": 0, \"ticks\": \"\"}}, \"type\": \"scattergeo\"}], \"scattergl\": [{\"marker\": {\"colorbar\": {\"outlinewidth\": 0, \"ticks\": \"\"}}, \"type\": \"scattergl\"}], \"scattermapbox\": [{\"marker\": {\"colorbar\": {\"outlinewidth\": 0, \"ticks\": \"\"}}, \"type\": \"scattermapbox\"}], \"scatterpolar\": [{\"marker\": {\"colorbar\": {\"outlinewidth\": 0, \"ticks\": \"\"}}, \"type\": \"scatterpolar\"}], \"scatterpolargl\": [{\"marker\": {\"colorbar\": {\"outlinewidth\": 0, \"ticks\": \"\"}}, \"type\": \"scatterpolargl\"}], \"scatterternary\": [{\"marker\": {\"colorbar\": {\"outlinewidth\": 0, \"ticks\": \"\"}}, \"type\": \"scatterternary\"}], \"surface\": [{\"colorbar\": {\"outlinewidth\": 0, \"ticks\": \"\"}, \"colorscale\": [[0.0, \"#0d0887\"], [0.1111111111111111, \"#46039f\"], [0.2222222222222222, \"#7201a8\"], [0.3333333333333333, \"#9c179e\"], [0.4444444444444444, \"#bd3786\"], [0.5555555555555556, \"#d8576b\"], [0.6666666666666666, \"#ed7953\"], [0.7777777777777778, \"#fb9f3a\"], [0.8888888888888888, \"#fdca26\"], [1.0, \"#f0f921\"]], \"type\": \"surface\"}], \"table\": [{\"cells\": {\"fill\": {\"color\": \"#EBF0F8\"}, \"line\": {\"color\": \"white\"}}, \"header\": {\"fill\": {\"color\": \"#C8D4E3\"}, \"line\": {\"color\": \"white\"}}, \"type\": \"table\"}]}, \"layout\": {\"annotationdefaults\": {\"arrowcolor\": \"#2a3f5f\", \"arrowhead\": 0, \"arrowwidth\": 1}, \"autotypenumbers\": \"strict\", \"coloraxis\": {\"colorbar\": {\"outlinewidth\": 0, \"ticks\": \"\"}}, \"colorscale\": {\"diverging\": [[0, \"#8e0152\"], [0.1, \"#c51b7d\"], [0.2, \"#de77ae\"], [0.3, \"#f1b6da\"], [0.4, \"#fde0ef\"], [0.5, \"#f7f7f7\"], [0.6, \"#e6f5d0\"], [0.7, \"#b8e186\"], [0.8, \"#7fbc41\"], [0.9, \"#4d9221\"], [1, \"#276419\"]], \"sequential\": [[0.0, \"#0d0887\"], [0.1111111111111111, \"#46039f\"], [0.2222222222222222, \"#7201a8\"], [0.3333333333333333, \"#9c179e\"], [0.4444444444444444, \"#bd3786\"], [0.5555555555555556, \"#d8576b\"], [0.6666666666666666, \"#ed7953\"], [0.7777777777777778, \"#fb9f3a\"], [0.8888888888888888, \"#fdca26\"], [1.0, \"#f0f921\"]], \"sequentialminus\": [[0.0, \"#0d0887\"], [0.1111111111111111, \"#46039f\"], [0.2222222222222222, \"#7201a8\"], [0.3333333333333333, \"#9c179e\"], [0.4444444444444444, \"#bd3786\"], [0.5555555555555556, \"#d8576b\"], [0.6666666666666666, \"#ed7953\"], [0.7777777777777778, \"#fb9f3a\"], [0.8888888888888888, \"#fdca26\"], [1.0, \"#f0f921\"]]}, \"colorway\": [\"#636efa\", \"#EF553B\", \"#00cc96\", \"#ab63fa\", \"#FFA15A\", \"#19d3f3\", \"#FF6692\", \"#B6E880\", \"#FF97FF\", \"#FECB52\"], \"font\": {\"color\": \"#2a3f5f\"}, \"geo\": {\"bgcolor\": \"white\", \"lakecolor\": \"white\", \"landcolor\": \"#E5ECF6\", \"showlakes\": true, \"showland\": true, \"subunitcolor\": \"white\"}, \"hoverlabel\": {\"align\": \"left\"}, \"hovermode\": \"closest\", \"mapbox\": {\"style\": \"light\"}, \"paper_bgcolor\": \"white\", \"plot_bgcolor\": \"#E5ECF6\", \"polar\": {\"angularaxis\": {\"gridcolor\": \"white\", \"linecolor\": \"white\", \"ticks\": \"\"}, \"bgcolor\": \"#E5ECF6\", \"radialaxis\": {\"gridcolor\": \"white\", \"linecolor\": \"white\", \"ticks\": \"\"}}, \"scene\": {\"xaxis\": {\"backgroundcolor\": \"#E5ECF6\", \"gridcolor\": \"white\", \"gridwidth\": 2, \"linecolor\": \"white\", \"showbackground\": true, \"ticks\": \"\", \"zerolinecolor\": \"white\"}, \"yaxis\": {\"backgroundcolor\": \"#E5ECF6\", \"gridcolor\": \"white\", \"gridwidth\": 2, \"linecolor\": \"white\", \"showbackground\": true, \"ticks\": \"\", \"zerolinecolor\": \"white\"}, \"zaxis\": {\"backgroundcolor\": \"#E5ECF6\", \"gridcolor\": \"white\", \"gridwidth\": 2, \"linecolor\": \"white\", \"showbackground\": true, \"ticks\": \"\", \"zerolinecolor\": \"white\"}}, \"shapedefaults\": {\"line\": {\"color\": \"#2a3f5f\"}}, \"ternary\": {\"aaxis\": {\"gridcolor\": \"white\", \"linecolor\": \"white\", \"ticks\": \"\"}, \"baxis\": {\"gridcolor\": \"white\", \"linecolor\": \"white\", \"ticks\": \"\"}, \"bgcolor\": \"#E5ECF6\", \"caxis\": {\"gridcolor\": \"white\", \"linecolor\": \"white\", \"ticks\": \"\"}}, \"title\": {\"x\": 0.05}, \"xaxis\": {\"automargin\": true, \"gridcolor\": \"white\", \"linecolor\": \"white\", \"ticks\": \"\", \"title\": {\"standoff\": 15}, \"zerolinecolor\": \"white\", \"zerolinewidth\": 2}, \"yaxis\": {\"automargin\": true, \"gridcolor\": \"white\", \"linecolor\": \"white\", \"ticks\": \"\", \"title\": {\"standoff\": 15}, \"zerolinecolor\": \"white\", \"zerolinewidth\": 2}}}},                        {\"responsive\": true}                    ).then(function(){\n",
       "                            \n",
       "var gd = document.getElementById('58f3237a-ee46-4eca-b22e-835544d654c7');\n",
       "var x = new MutationObserver(function (mutations, observer) {{\n",
       "        var display = window.getComputedStyle(gd).display;\n",
       "        if (!display || display === 'none') {{\n",
       "            console.log([gd, 'removed!']);\n",
       "            Plotly.purge(gd);\n",
       "            observer.disconnect();\n",
       "        }}\n",
       "}});\n",
       "\n",
       "// Listen for the removal of the full notebook cells\n",
       "var notebookContainer = gd.closest('#notebook-container');\n",
       "if (notebookContainer) {{\n",
       "    x.observe(notebookContainer, {childList: true});\n",
       "}}\n",
       "\n",
       "// Listen for the clearing of the current output cell\n",
       "var outputEl = gd.closest('.output');\n",
       "if (outputEl) {{\n",
       "    x.observe(outputEl, {childList: true});\n",
       "}}\n",
       "\n",
       "                        })                };                });            </script>        </div>"
      ]
     },
     "metadata": {},
     "output_type": "display_data"
    }
   ],
   "source": [
    "_show_df_class_balance(\"/app/_work/short10.csv\")"
   ]
  },
  {
   "cell_type": "code",
   "execution_count": 11,
   "id": "innocent-state",
   "metadata": {},
   "outputs": [
    {
     "data": {
      "text/html": [
       "<div>                            <div id=\"034fc307-6299-4512-9f4b-bd892bd3be3c\" class=\"plotly-graph-div\" style=\"height:525px; width:100%;\"></div>            <script type=\"text/javascript\">                require([\"plotly\"], function(Plotly) {                    window.PLOTLYENV=window.PLOTLYENV || {};                                    if (document.getElementById(\"034fc307-6299-4512-9f4b-bd892bd3be3c\")) {                    Plotly.newPlot(                        \"034fc307-6299-4512-9f4b-bd892bd3be3c\",                        [{\"type\": \"bar\", \"x\": [\"eursta\", \"comrav\", \"houspa\", \"houwre\", \"normoc\", \"sonspa\", \"bncfly\", \"redcro\", \"gbwwre1\", \"cubthr\", \"spotow\", \"rewbla\", \"norcar\", \"amerob\", \"swathr\", \"herthr\", \"barswa\", \"grhowl\", \"bewwre\", \"wesmea\", \"warvir\", \"yebcha\", \"comyel\", \"savspa\", \"carwre\", \"ducfly\", \"marwre\", \"bulori\", \"astfly\", \"rucspa1\", \"grycat\", \"whcspa\", \"compau\", \"daejun\", \"mallar3\", \"roahaw\", \"brnthr\", \"amecro\", \"obnthr1\", \"houfin\", \"andsol1\", \"rubpep1\", \"eastow\", \"bkhgro\", \"chcant2\", \"baywre1\", \"subfly\", \"grekis\", \"whtspa\", \"woothr\", \"grtgra\", \"easmea\", \"whtdov\", \"linspa\", \"laufal1\", \"grasal1\", \"reevir1\", \"ovenbi1\", \"blujay\", \"caskin\", \"wewpew\", \"logshr\", \"wbwwre1\", \"azaspi1\", \"fepowl\", \"buggna\", \"meapar\", \"burwar1\", \"whevir\", \"banana\", \"brratt1\", \"amered\", \"macwar\", \"scbwre1\", \"indbun\", \"sumtan\", \"chispa\", \"gnttow\", \"belvir\", \"trokin\", \"yeofly1\", \"bkmtou1\", \"brbsol1\", \"grethr1\", \"cangoo\", \"ruckin\", \"whbnut\", \"ruboro1\", \"orcwar\", \"chbant1\", \"clcrob\", \"stbori\", \"lobgna5\", \"banswa\", \"sancra\", \"tuftit\", \"rubrob\", \"sinwre1\", \"norwat\", \"bkcchi\", \"foxspa\", \"socfly1\", \"casfin\", \"cobtan1\", \"lesgol\", \"bnhcow\", \"plsvir\", \"wlswar\", \"blugrb1\", \"bcnher\", \"eucdov\", \"westan\", \"towsol\", \"whbman1\", \"bobfly1\", \"veery\", \"plupig2\", \"acowoo\", \"whfpar1\", \"ccbfin\", \"brncre\", \"butsal1\", \"norfli\", \"buhvir\", \"chswar\", \"casvir\", \"stejay\", \"barant1\", \"yelgro\", \"haiwoo\", \"pinsis\", \"rucwar1\", \"amegfi\", \"fiespa\", \"grnjay\", \"strcuc1\", \"whimbr\", \"whiwre1\", \"grepew\", \"magwar\", \"gockin\", \"norpar\", \"rcatan1\", \"yerwar\", \"scatan\", \"sobtyr1\", \"thbkin\", \"sltred\", \"rucwar\", \"grcfly\", \"eletro\", \"tromoc\", \"gnwtea\", \"pirfly1\", \"lazbun\", \"bawwar\", \"compot1\", \"banwre1\", \"coltro1\", \"hutvir\", \"larspa\", \"tropar\", \"mastro1\", \"naswar\", \"aldfly\", \"yehbla\", \"btywar\", \"orbspa1\", \"cinfly2\", \"mouchi\", \"strfly1\", \"blbgra1\", \"dowwoo\", \"gilwoo\", \"calqua\", \"verdin\", \"blsspa1\", \"thswar1\", \"littin1\", \"killde\", \"gwfgoo\", \"rebwoo\", \"orbeup1\", \"lucwar\", \"lesvio1\", \"scptyr1\", \"moudov\", \"soulap1\", \"osprey\", \"prowar\", \"pasfly\", \"bushti\", \"tenwar\", \"hergul\", \"pabspi1\", \"easblu\", \"blkpho\", \"mutswa\", \"acafly\", \"bkbwar\", \"squcuc1\", \"snogoo\", \"pilwoo\", \"cacwre\", \"smbani\", \"plaxen1\", \"canwar\", \"dusfly\", \"oaktit\", \"relpar\", \"weskin\", \"caltow\", \"linwoo1\", \"rebnut\", \"oliwoo1\", \"blcjay1\", \"comgra\", \"saffin\", \"mouwar\", \"olsfly\", \"pibgre\", \"strsal1\", \"caster1\", \"reshaw\", \"coohaw\", \"incdov\", \"swaspa\", \"eawpew\", \"wilfly\", \"purfin\", \"yegvir\", \"carchi\", \"brbmot1\", \"bknsti\", \"gcrwar\", \"leafly\", \"bugtan\", \"whwdov\", \"blbthr1\", \"gocfly1\", \"rotbec\", \"yelwar\", \"creoro1\", \"wesant1\", \"btnwar\", \"rudtur\", \"balori\", \"spvear1\", \"gamqua\", \"wilsni1\", \"kebtou1\", \"wiltur\", \"goftyr1\", \"yebsee1\", \"robgro\", \"treswa\", \"chbwre1\", \"btbwar\", \"rutjac1\", \"annhum\", \"gocspa\", \"botgra\", \"bbwduc\", \"categr\", \"yebfly\", \"cliswa\", \"webwoo1\", \"phivir\", \"thbeup1\", \"saypho\", \"paltan1\", \"mouela1\", \"rumfly1\", \"greegr\", \"rubwre1\", \"yebela1\", \"easpho\", \"sibtan2\", \"wrenti\", \"yetvir\", \"rocpig\", \"bkbplo\", \"rudpig\", \"brnjay\", \"trogna1\", \"putfru1\", \"blhpar1\", \"brwhaw\", \"vigswa\", \"gadwal\", \"melbla1\", \"ocbfly1\", \"bawswa1\", \"sthant1\", \"y00475\", \"gryhaw2\", \"whcsee1\", \"orcpar\", \"colcha1\", \"yehcar1\", \"plawre1\", \"clanut\", \"rethaw\", \"willet1\", \"rawwre1\", \"rtlhum\", \"easkin\", \"wesblu\", \"bkbmag1\", \"monoro1\", \"gohque1\", \"amekes\", \"lesgre1\", \"cotfly1\", \"shicow\", \"brcvir1\", \"tunswa\", \"cocwoo1\", \"royter1\", \"grbher3\", \"cowscj1\", \"babwar\", \"whwbec1\", \"yebori1\", \"gartro1\", \"comgol\", \"rinkin1\", \"pavpig2\", \"pygnut\", \"commer\", \"belkin1\", \"chbchi\", \"lotman1\", \"scamac1\", \"cogdov\", \"herwar\", \"amtspa\", \"greyel\", \"labwoo\", \"gretin1\", \"comloo\", \"batpig1\", \"cedwax\", \"brebla\", \"cregua1\", \"purgal2\", \"amepip\", \"solsan\", \"sposan\", \"yefgra1\", \"laugul\", \"palwar\", \"grbani\", \"bongul\", \"lobdow\", \"nutwoo\", \"higmot1\", \"yebsap\", \"gbbgul\", \"brwpar1\", \"semplo\", \"goowoo1\", \"cacgoo1\", \"sthwoo1\", \"mouqua\", \"orfpar\", \"lotduc\", \"blctan1\", \"yeteup1\", \"grnher\", \"rugdov\", \"sander\", \"leasan\", \"tropew1\", \"norsho\", \"baleag\", \"ribgul\", \"wooduc\", \"rufhum\", \"grhcha1\", \"ameavo\", \"buwtea\", \"rehbar1\", \"scrtan1\", \"rebsap\", \"flrtan1\", \"nrwswa\", \"bucmot2\", \"amewig\", \"rthhum\", \"crfpar\", \"hofwoo1\", \"runwre1\", \"heptan\", \"whcpar\", \"stvhum2\", \"wegspa1\"], \"y\": [7170, 6066, 5650, 5356, 5200, 5056, 5049, 5031, 4390, 4382, 4126, 3793, 3656, 3600, 3296, 3243, 3226, 3028, 2916, 2734, 2650, 2642, 2624, 2621, 2523, 2438, 2361, 2353, 2292, 2268, 2213, 2197, 2112, 2094, 2042, 2037, 2005, 1976, 1963, 1958, 1936, 1936, 1891, 1876, 1868, 1843, 1820, 1805, 1800, 1791, 1783, 1766, 1744, 1718, 1692, 1680, 1677, 1676, 1674, 1656, 1654, 1651, 1631, 1611, 1611, 1589, 1585, 1580, 1557, 1551, 1549, 1546, 1542, 1492, 1486, 1484, 1473, 1465, 1460, 1457, 1453, 1452, 1446, 1446, 1428, 1426, 1412, 1388, 1368, 1346, 1329, 1325, 1310, 1301, 1298, 1292, 1288, 1287, 1271, 1263, 1250, 1236, 1235, 1233, 1225, 1222, 1217, 1213, 1207, 1201, 1191, 1190, 1188, 1179, 1178, 1174, 1157, 1155, 1144, 1133, 1133, 1131, 1129, 1123, 1119, 1110, 1094, 1088, 1085, 1082, 1080, 1066, 1063, 1062, 1059, 1057, 1057, 1051, 1046, 1041, 1033, 1031, 1017, 1015, 1000, 996, 993, 979, 976, 970, 970, 966, 964, 964, 963, 957, 953, 952, 949, 944, 944, 926, 924, 921, 919, 918, 915, 911, 910, 899, 897, 896, 894, 894, 892, 883, 878, 878, 875, 874, 870, 869, 861, 857, 847, 847, 844, 836, 829, 825, 822, 822, 822, 816, 813, 809, 802, 802, 798, 796, 792, 784, 781, 773, 764, 747, 745, 742, 740, 740, 739, 738, 728, 728, 726, 718, 716, 714, 714, 701, 701, 701, 700, 696, 696, 695, 691, 690, 690, 687, 676, 676, 674, 673, 672, 663, 661, 658, 655, 646, 645, 645, 644, 644, 641, 640, 640, 636, 631, 621, 617, 616, 614, 613, 611, 604, 586, 583, 576, 573, 572, 564, 561, 553, 553, 551, 546, 545, 542, 541, 540, 537, 531, 530, 529, 528, 527, 526, 526, 515, 514, 513, 510, 509, 508, 502, 502, 501, 492, 490, 488, 487, 485, 484, 479, 479, 477, 477, 476, 474, 474, 472, 463, 458, 458, 455, 445, 440, 422, 419, 413, 406, 404, 403, 403, 399, 397, 397, 393, 390, 389, 384, 384, 373, 366, 366, 363, 357, 355, 355, 349, 348, 345, 342, 342, 341, 337, 334, 328, 323, 320, 315, 293, 286, 286, 284, 281, 280, 275, 273, 273, 271, 266, 250, 246, 245, 239, 236, 229, 226, 225, 222, 218, 214, 206, 206, 205, 198, 186, 185, 182, 181, 181, 176, 174, 174, 155, 153, 145, 130, 129, 120, 115, 110, 108, 106, 105, 104, 98, 82, 76, 64, 54, 53, 37, 17, 15]}],                        {\"margin\": {\"b\": 10, \"l\": 0, \"r\": 0, \"t\": 50}, \"template\": {\"data\": {\"bar\": [{\"error_x\": {\"color\": \"#2a3f5f\"}, \"error_y\": {\"color\": \"#2a3f5f\"}, \"marker\": {\"line\": {\"color\": \"#E5ECF6\", \"width\": 0.5}}, \"type\": \"bar\"}], \"barpolar\": [{\"marker\": {\"line\": {\"color\": \"#E5ECF6\", \"width\": 0.5}}, \"type\": \"barpolar\"}], \"carpet\": [{\"aaxis\": {\"endlinecolor\": \"#2a3f5f\", \"gridcolor\": \"white\", \"linecolor\": \"white\", \"minorgridcolor\": \"white\", \"startlinecolor\": \"#2a3f5f\"}, \"baxis\": {\"endlinecolor\": \"#2a3f5f\", \"gridcolor\": \"white\", \"linecolor\": \"white\", \"minorgridcolor\": \"white\", \"startlinecolor\": \"#2a3f5f\"}, \"type\": \"carpet\"}], \"choropleth\": [{\"colorbar\": {\"outlinewidth\": 0, \"ticks\": \"\"}, \"type\": \"choropleth\"}], \"contour\": [{\"colorbar\": {\"outlinewidth\": 0, \"ticks\": \"\"}, \"colorscale\": [[0.0, \"#0d0887\"], [0.1111111111111111, \"#46039f\"], [0.2222222222222222, \"#7201a8\"], [0.3333333333333333, \"#9c179e\"], [0.4444444444444444, \"#bd3786\"], [0.5555555555555556, \"#d8576b\"], [0.6666666666666666, \"#ed7953\"], [0.7777777777777778, \"#fb9f3a\"], [0.8888888888888888, \"#fdca26\"], [1.0, \"#f0f921\"]], \"type\": \"contour\"}], \"contourcarpet\": [{\"colorbar\": {\"outlinewidth\": 0, \"ticks\": \"\"}, \"type\": \"contourcarpet\"}], \"heatmap\": [{\"colorbar\": {\"outlinewidth\": 0, \"ticks\": \"\"}, \"colorscale\": [[0.0, \"#0d0887\"], [0.1111111111111111, \"#46039f\"], [0.2222222222222222, \"#7201a8\"], [0.3333333333333333, \"#9c179e\"], [0.4444444444444444, \"#bd3786\"], [0.5555555555555556, \"#d8576b\"], [0.6666666666666666, \"#ed7953\"], [0.7777777777777778, \"#fb9f3a\"], [0.8888888888888888, \"#fdca26\"], [1.0, \"#f0f921\"]], \"type\": \"heatmap\"}], \"heatmapgl\": [{\"colorbar\": {\"outlinewidth\": 0, \"ticks\": \"\"}, \"colorscale\": [[0.0, \"#0d0887\"], [0.1111111111111111, \"#46039f\"], [0.2222222222222222, \"#7201a8\"], [0.3333333333333333, \"#9c179e\"], [0.4444444444444444, \"#bd3786\"], [0.5555555555555556, \"#d8576b\"], [0.6666666666666666, \"#ed7953\"], [0.7777777777777778, \"#fb9f3a\"], [0.8888888888888888, \"#fdca26\"], [1.0, \"#f0f921\"]], \"type\": \"heatmapgl\"}], \"histogram\": [{\"marker\": {\"colorbar\": {\"outlinewidth\": 0, \"ticks\": \"\"}}, \"type\": \"histogram\"}], \"histogram2d\": [{\"colorbar\": {\"outlinewidth\": 0, \"ticks\": \"\"}, \"colorscale\": [[0.0, \"#0d0887\"], [0.1111111111111111, \"#46039f\"], [0.2222222222222222, \"#7201a8\"], [0.3333333333333333, \"#9c179e\"], [0.4444444444444444, \"#bd3786\"], [0.5555555555555556, \"#d8576b\"], [0.6666666666666666, \"#ed7953\"], [0.7777777777777778, \"#fb9f3a\"], [0.8888888888888888, \"#fdca26\"], [1.0, \"#f0f921\"]], \"type\": \"histogram2d\"}], \"histogram2dcontour\": [{\"colorbar\": {\"outlinewidth\": 0, \"ticks\": \"\"}, \"colorscale\": [[0.0, \"#0d0887\"], [0.1111111111111111, \"#46039f\"], [0.2222222222222222, \"#7201a8\"], [0.3333333333333333, \"#9c179e\"], [0.4444444444444444, \"#bd3786\"], [0.5555555555555556, \"#d8576b\"], [0.6666666666666666, \"#ed7953\"], [0.7777777777777778, \"#fb9f3a\"], [0.8888888888888888, \"#fdca26\"], [1.0, \"#f0f921\"]], \"type\": \"histogram2dcontour\"}], \"mesh3d\": [{\"colorbar\": {\"outlinewidth\": 0, \"ticks\": \"\"}, \"type\": \"mesh3d\"}], \"parcoords\": [{\"line\": {\"colorbar\": {\"outlinewidth\": 0, \"ticks\": \"\"}}, \"type\": \"parcoords\"}], \"pie\": [{\"automargin\": true, \"type\": \"pie\"}], \"scatter\": [{\"marker\": {\"colorbar\": {\"outlinewidth\": 0, \"ticks\": \"\"}}, \"type\": \"scatter\"}], \"scatter3d\": [{\"line\": {\"colorbar\": {\"outlinewidth\": 0, \"ticks\": \"\"}}, \"marker\": {\"colorbar\": {\"outlinewidth\": 0, \"ticks\": \"\"}}, \"type\": \"scatter3d\"}], \"scattercarpet\": [{\"marker\": {\"colorbar\": {\"outlinewidth\": 0, \"ticks\": \"\"}}, \"type\": \"scattercarpet\"}], \"scattergeo\": [{\"marker\": {\"colorbar\": {\"outlinewidth\": 0, \"ticks\": \"\"}}, \"type\": \"scattergeo\"}], \"scattergl\": [{\"marker\": {\"colorbar\": {\"outlinewidth\": 0, \"ticks\": \"\"}}, \"type\": \"scattergl\"}], \"scattermapbox\": [{\"marker\": {\"colorbar\": {\"outlinewidth\": 0, \"ticks\": \"\"}}, \"type\": \"scattermapbox\"}], \"scatterpolar\": [{\"marker\": {\"colorbar\": {\"outlinewidth\": 0, \"ticks\": \"\"}}, \"type\": \"scatterpolar\"}], \"scatterpolargl\": [{\"marker\": {\"colorbar\": {\"outlinewidth\": 0, \"ticks\": \"\"}}, \"type\": \"scatterpolargl\"}], \"scatterternary\": [{\"marker\": {\"colorbar\": {\"outlinewidth\": 0, \"ticks\": \"\"}}, \"type\": \"scatterternary\"}], \"surface\": [{\"colorbar\": {\"outlinewidth\": 0, \"ticks\": \"\"}, \"colorscale\": [[0.0, \"#0d0887\"], [0.1111111111111111, \"#46039f\"], [0.2222222222222222, \"#7201a8\"], [0.3333333333333333, \"#9c179e\"], [0.4444444444444444, \"#bd3786\"], [0.5555555555555556, \"#d8576b\"], [0.6666666666666666, \"#ed7953\"], [0.7777777777777778, \"#fb9f3a\"], [0.8888888888888888, \"#fdca26\"], [1.0, \"#f0f921\"]], \"type\": \"surface\"}], \"table\": [{\"cells\": {\"fill\": {\"color\": \"#EBF0F8\"}, \"line\": {\"color\": \"white\"}}, \"header\": {\"fill\": {\"color\": \"#C8D4E3\"}, \"line\": {\"color\": \"white\"}}, \"type\": \"table\"}]}, \"layout\": {\"annotationdefaults\": {\"arrowcolor\": \"#2a3f5f\", \"arrowhead\": 0, \"arrowwidth\": 1}, \"autotypenumbers\": \"strict\", \"coloraxis\": {\"colorbar\": {\"outlinewidth\": 0, \"ticks\": \"\"}}, \"colorscale\": {\"diverging\": [[0, \"#8e0152\"], [0.1, \"#c51b7d\"], [0.2, \"#de77ae\"], [0.3, \"#f1b6da\"], [0.4, \"#fde0ef\"], [0.5, \"#f7f7f7\"], [0.6, \"#e6f5d0\"], [0.7, \"#b8e186\"], [0.8, \"#7fbc41\"], [0.9, \"#4d9221\"], [1, \"#276419\"]], \"sequential\": [[0.0, \"#0d0887\"], [0.1111111111111111, \"#46039f\"], [0.2222222222222222, \"#7201a8\"], [0.3333333333333333, \"#9c179e\"], [0.4444444444444444, \"#bd3786\"], [0.5555555555555556, \"#d8576b\"], [0.6666666666666666, \"#ed7953\"], [0.7777777777777778, \"#fb9f3a\"], [0.8888888888888888, \"#fdca26\"], [1.0, \"#f0f921\"]], \"sequentialminus\": [[0.0, \"#0d0887\"], [0.1111111111111111, \"#46039f\"], [0.2222222222222222, \"#7201a8\"], [0.3333333333333333, \"#9c179e\"], [0.4444444444444444, \"#bd3786\"], [0.5555555555555556, \"#d8576b\"], [0.6666666666666666, \"#ed7953\"], [0.7777777777777778, \"#fb9f3a\"], [0.8888888888888888, \"#fdca26\"], [1.0, \"#f0f921\"]]}, \"colorway\": [\"#636efa\", \"#EF553B\", \"#00cc96\", \"#ab63fa\", \"#FFA15A\", \"#19d3f3\", \"#FF6692\", \"#B6E880\", \"#FF97FF\", \"#FECB52\"], \"font\": {\"color\": \"#2a3f5f\"}, \"geo\": {\"bgcolor\": \"white\", \"lakecolor\": \"white\", \"landcolor\": \"#E5ECF6\", \"showlakes\": true, \"showland\": true, \"subunitcolor\": \"white\"}, \"hoverlabel\": {\"align\": \"left\"}, \"hovermode\": \"closest\", \"mapbox\": {\"style\": \"light\"}, \"paper_bgcolor\": \"white\", \"plot_bgcolor\": \"#E5ECF6\", \"polar\": {\"angularaxis\": {\"gridcolor\": \"white\", \"linecolor\": \"white\", \"ticks\": \"\"}, \"bgcolor\": \"#E5ECF6\", \"radialaxis\": {\"gridcolor\": \"white\", \"linecolor\": \"white\", \"ticks\": \"\"}}, \"scene\": {\"xaxis\": {\"backgroundcolor\": \"#E5ECF6\", \"gridcolor\": \"white\", \"gridwidth\": 2, \"linecolor\": \"white\", \"showbackground\": true, \"ticks\": \"\", \"zerolinecolor\": \"white\"}, \"yaxis\": {\"backgroundcolor\": \"#E5ECF6\", \"gridcolor\": \"white\", \"gridwidth\": 2, \"linecolor\": \"white\", \"showbackground\": true, \"ticks\": \"\", \"zerolinecolor\": \"white\"}, \"zaxis\": {\"backgroundcolor\": \"#E5ECF6\", \"gridcolor\": \"white\", \"gridwidth\": 2, \"linecolor\": \"white\", \"showbackground\": true, \"ticks\": \"\", \"zerolinecolor\": \"white\"}}, \"shapedefaults\": {\"line\": {\"color\": \"#2a3f5f\"}}, \"ternary\": {\"aaxis\": {\"gridcolor\": \"white\", \"linecolor\": \"white\", \"ticks\": \"\"}, \"baxis\": {\"gridcolor\": \"white\", \"linecolor\": \"white\", \"ticks\": \"\"}, \"bgcolor\": \"#E5ECF6\", \"caxis\": {\"gridcolor\": \"white\", \"linecolor\": \"white\", \"ticks\": \"\"}}, \"title\": {\"x\": 0.05}, \"xaxis\": {\"automargin\": true, \"gridcolor\": \"white\", \"linecolor\": \"white\", \"ticks\": \"\", \"title\": {\"standoff\": 15}, \"zerolinecolor\": \"white\", \"zerolinewidth\": 2}, \"yaxis\": {\"automargin\": true, \"gridcolor\": \"white\", \"linecolor\": \"white\", \"ticks\": \"\", \"title\": {\"standoff\": 15}, \"zerolinecolor\": \"white\", \"zerolinewidth\": 2}}}},                        {\"responsive\": true}                    ).then(function(){\n",
       "                            \n",
       "var gd = document.getElementById('034fc307-6299-4512-9f4b-bd892bd3be3c');\n",
       "var x = new MutationObserver(function (mutations, observer) {{\n",
       "        var display = window.getComputedStyle(gd).display;\n",
       "        if (!display || display === 'none') {{\n",
       "            console.log([gd, 'removed!']);\n",
       "            Plotly.purge(gd);\n",
       "            observer.disconnect();\n",
       "        }}\n",
       "}});\n",
       "\n",
       "// Listen for the removal of the full notebook cells\n",
       "var notebookContainer = gd.closest('#notebook-container');\n",
       "if (notebookContainer) {{\n",
       "    x.observe(notebookContainer, {childList: true});\n",
       "}}\n",
       "\n",
       "// Listen for the clearing of the current output cell\n",
       "var outputEl = gd.closest('.output');\n",
       "if (outputEl) {{\n",
       "    x.observe(outputEl, {childList: true});\n",
       "}}\n",
       "\n",
       "                        })                };                });            </script>        </div>"
      ]
     },
     "metadata": {},
     "output_type": "display_data"
    }
   ],
   "source": [
    "_show_df_class_balance(\"/app/_work/short100.csv\")"
   ]
  },
  {
   "cell_type": "code",
   "execution_count": 12,
   "id": "sticky-nightmare",
   "metadata": {},
   "outputs": [
    {
     "data": {
      "text/html": [
       "<div>                            <div id=\"0851816e-802e-4539-b61a-bf712cb353c5\" class=\"plotly-graph-div\" style=\"height:525px; width:100%;\"></div>            <script type=\"text/javascript\">                require([\"plotly\"], function(Plotly) {                    window.PLOTLYENV=window.PLOTLYENV || {};                                    if (document.getElementById(\"0851816e-802e-4539-b61a-bf712cb353c5\")) {                    Plotly.newPlot(                        \"0851816e-802e-4539-b61a-bf712cb353c5\",                        [{\"type\": \"bar\", \"x\": [\"comrav\", \"redcro\", \"houspa\", \"houwre\", \"gbwwre1\", \"eursta\", \"sonspa\", \"barswa\", \"spotow\", \"rewbla\", \"norcar\", \"mallar3\", \"carwre\", \"amerob\", \"bncfly\", \"rucspa1\", \"rubpep1\", \"bewwre\", \"comyel\", \"grekis\", \"blujay\", \"wbwwre1\", \"roahaw\", \"yeofly1\", \"normoc\", \"compau\", \"wesmea\", \"swathr\", \"azaspi1\", \"grasal1\", \"banana\", \"bcnher\", \"marwre\", \"ducfly\", \"daejun\", \"cubthr\", \"lobgna5\", \"whimbr\", \"houfin\", \"grhowl\", \"brratt1\", \"grycat\", \"savspa\", \"eastow\", \"eucdov\", \"trokin\", \"herthr\", \"obnthr1\", \"cangoo\", \"whcspa\", \"gnwtea\", \"warvir\", \"andsol1\", \"chcant2\", \"easmea\", \"socfly1\", \"whevir\", \"whtdov\", \"fepowl\", \"bobfly1\", \"tuftit\", \"amecro\", \"ruboro1\", \"meapar\", \"plupig2\", \"sobtyr1\", \"squcuc1\", \"butsal1\", \"yebcha\", \"oliwoo1\", \"bkhgro\", \"barant1\", \"astfly\", \"mutswa\", \"sltred\", \"chispa\", \"sumtan\", \"wewpew\", \"whtspa\", \"burwar1\", \"scptyr1\", \"amered\", \"baywre1\", \"norfli\", \"hergul\", \"strcuc1\", \"blbgra1\", \"grtgra\", \"gwfgoo\", \"soulap1\", \"chbant1\", \"grethr1\", \"ovenbi1\", \"laufal1\", \"orcwar\", \"buggna\", \"reevir1\", \"whbnut\", \"woothr\", \"ruckin\", \"lesgol\", \"indbun\", \"strfly1\", \"littin1\", \"wlswar\", \"pirfly1\", \"rcatan1\", \"bkbplo\", \"smbani\", \"scbwre1\", \"ccbfin\", \"hutvir\", \"clcrob\", \"stejay\", \"macwar\", \"whbman1\", \"cobtan1\", \"belvir\", \"bkcchi\", \"linspa\", \"rucwar1\", \"caskin\", \"bkmtou1\", \"killde\", \"norwat\", \"coltro1\", \"tropar\", \"lesvio1\", \"plaxen1\", \"acowoo\", \"greegr\", \"orbeup1\", \"osprey\", \"orbspa1\", \"linwoo1\", \"pabspi1\", \"blhpar1\", \"foxspa\", \"bknsti\", \"blugrb1\", \"haiwoo\", \"cinfly2\", \"bnhcow\", \"gnttow\", \"amegfi\", \"logshr\", \"brbsol1\", \"compot1\", \"cacwre\", \"whiwre1\", \"bushti\", \"caster1\", \"magwar\", \"yerwar\", \"gocfly1\", \"rutjac1\", \"brncre\", \"bugtan\", \"bbwduc\", \"gcrwar\", \"grnjay\", \"sancra\", \"yebela1\", \"rudtur\", \"thswar1\", \"chswar\", \"veery\", \"gockin\", \"rucwar\", \"pinsis\", \"norpar\", \"mouchi\", \"mastro1\", \"subfly\", \"carchi\", \"bulori\", \"trogna1\", \"rebnut\", \"creoro1\", \"gadwal\", \"sibtan2\", \"blkpho\", \"brnthr\", \"verdin\", \"bawwar\", \"rinkin1\", \"plsvir\", \"y00475\", \"yelwar\", \"grcfly\", \"webwoo1\", \"rudpig\", \"blsspa1\", \"strsal1\", \"cotfly1\", \"tromoc\", \"dowwoo\", \"fiespa\", \"saffin\", \"whwbec1\", \"westan\", \"banwre1\", \"goftyr1\", \"aldfly\", \"rumfly1\", \"banswa\", \"eawpew\", \"buhvir\", \"tenwar\", \"lazbun\", \"yebsee1\", \"rebwoo\", \"paltan1\", \"pibgre\", \"comgra\", \"sinwre1\", \"yehcar1\", \"casfin\", \"pasfly\", \"casvir\", \"acafly\", \"balori\", \"swaspa\", \"rocpig\", \"towsol\", \"naswar\", \"spvear1\", \"relpar\", \"greyel\", \"calqua\", \"annhum\", \"leafly\", \"bawswa1\", \"rubrob\", \"wilfly\", \"reshaw\", \"moudov\", \"whwdov\", \"wesant1\", \"btywar\", \"larspa\", \"scatan\", \"canwar\", \"pilwoo\", \"purfin\", \"coohaw\", \"blbthr1\", \"caltow\", \"gohque1\", \"dusfly\", \"weskin\", \"plawre1\", \"thbeup1\", \"easpho\", \"sthant1\", \"categr\", \"mouela1\", \"willet1\", \"cliswa\", \"snogoo\", \"shicow\", \"botgra\", \"amepip\", \"bkbwar\", \"btnwar\", \"gilwoo\", \"grbher3\", \"lesgre1\", \"brcvir1\", \"putfru1\", \"stbori\", \"robgro\", \"comgol\", \"clanut\", \"oaktit\", \"yehbla\", \"orcpar\", \"ocbfly1\", \"royter1\", \"chbwre1\", \"rtlhum\", \"rubwre1\", \"yetvir\", \"yebori1\", \"treswa\", \"melbla1\", \"brbmot1\", \"olsfly\", \"amekes\", \"goowoo1\", \"scamac1\", \"pavpig2\", \"tunswa\", \"easblu\", \"yebfly\", \"gbbgul\", \"brnjay\", \"rethaw\", \"purgal2\", \"whfpar1\", \"grepew\", \"wrenti\", \"wilsni1\", \"semplo\", \"sposan\", \"grbani\", \"laugul\", \"lobdow\", \"gamqua\", \"yegvir\", \"lucwar\", \"mouwar\", \"gocspa\", \"cocwoo1\", \"thbkin\", \"whcsee1\", \"saypho\", \"cedwax\", \"rawwre1\", \"pygnut\", \"brwhaw\", \"commer\", \"eletro\", \"gryhaw2\", \"yelgro\", \"amtspa\", \"kebtou1\", \"btbwar\", \"incdov\", \"prowar\", \"labwoo\", \"chbchi\", \"blcjay1\", \"monoro1\", \"sthwoo1\", \"lotduc\", \"norsho\", \"leasan\", \"sander\", \"gartro1\", \"vigswa\", \"grnher\", \"brebla\", \"bkbmag1\", \"solsan\", \"belkin1\", \"batpig1\", \"ribgul\", \"easkin\", \"brwpar1\", \"gretin1\", \"nutwoo\", \"yefgra1\", \"cowscj1\", \"comloo\", \"wiltur\", \"bongul\", \"colcha1\", \"cregua1\", \"yebsap\", \"rufhum\", \"rotbec\", \"rugdov\", \"yeteup1\", \"lotman1\", \"tropew1\", \"higmot1\", \"phivir\", \"ameavo\", \"wesblu\", \"rehbar1\", \"baleag\", \"orfpar\", \"blctan1\", \"palwar\", \"cacgoo1\", \"wooduc\", \"herwar\", \"cogdov\", \"babwar\", \"amewig\", \"nrwswa\", \"buwtea\", \"scrtan1\", \"bucmot2\", \"rthhum\", \"mouqua\", \"rebsap\", \"hofwoo1\", \"grhcha1\", \"flrtan1\", \"heptan\", \"whcpar\", \"runwre1\", \"stvhum2\", \"wegspa1\", \"crfpar\"], \"y\": [500, 500, 500, 499, 485, 454, 420, 383, 343, 305, 302, 289, 282, 277, 274, 273, 260, 253, 234, 222, 220, 216, 212, 208, 208, 206, 204, 198, 193, 193, 192, 188, 187, 185, 183, 179, 179, 176, 176, 175, 173, 171, 170, 170, 170, 167, 165, 165, 164, 164, 162, 160, 150, 149, 149, 149, 149, 148, 147, 146, 145, 144, 143, 143, 139, 137, 135, 133, 133, 132, 132, 131, 130, 129, 129, 128, 128, 127, 127, 127, 126, 126, 126, 126, 125, 125, 124, 123, 122, 122, 121, 121, 120, 120, 119, 119, 118, 118, 118, 117, 117, 117, 116, 116, 116, 116, 115, 114, 113, 113, 113, 112, 111, 111, 110, 110, 110, 110, 109, 108, 108, 107, 107, 106, 106, 105, 105, 102, 102, 101, 101, 99, 99, 99, 99, 99, 98, 98, 98, 97, 96, 96, 95, 95, 94, 94, 94, 94, 93, 93, 93, 92, 92, 92, 92, 92, 92, 91, 91, 91, 91, 90, 90, 90, 89, 88, 88, 87, 87, 87, 85, 85, 84, 84, 84, 84, 84, 84, 83, 83, 82, 82, 82, 82, 81, 81, 81, 81, 81, 80, 80, 80, 80, 80, 80, 79, 79, 78, 78, 77, 77, 76, 76, 76, 76, 76, 75, 74, 74, 73, 72, 72, 71, 71, 70, 70, 70, 69, 69, 69, 69, 69, 69, 68, 68, 67, 67, 67, 66, 66, 65, 65, 65, 65, 65, 65, 64, 64, 64, 64, 64, 63, 63, 63, 63, 63, 62, 62, 62, 62, 62, 62, 61, 61, 60, 60, 60, 60, 60, 60, 59, 59, 59, 59, 58, 58, 58, 58, 58, 58, 57, 57, 57, 57, 57, 56, 56, 56, 56, 56, 56, 55, 55, 55, 55, 55, 55, 55, 54, 54, 54, 53, 53, 53, 53, 52, 52, 52, 51, 50, 50, 49, 49, 49, 48, 48, 48, 48, 48, 48, 48, 48, 46, 46, 45, 45, 45, 45, 45, 45, 45, 44, 44, 43, 42, 42, 42, 42, 41, 41, 41, 41, 41, 40, 40, 39, 39, 38, 38, 38, 38, 37, 36, 36, 36, 36, 35, 35, 35, 35, 35, 35, 35, 34, 34, 32, 32, 32, 31, 31, 30, 30, 30, 30, 30, 28, 27, 27, 26, 26, 25, 25, 25, 25, 24, 24, 24, 24, 22, 21, 20, 20, 20, 19, 17, 17, 17, 14, 14, 13, 12, 9, 8, 7, 4, 4, 3]}],                        {\"margin\": {\"b\": 10, \"l\": 0, \"r\": 0, \"t\": 50}, \"template\": {\"data\": {\"bar\": [{\"error_x\": {\"color\": \"#2a3f5f\"}, \"error_y\": {\"color\": \"#2a3f5f\"}, \"marker\": {\"line\": {\"color\": \"#E5ECF6\", \"width\": 0.5}}, \"type\": \"bar\"}], \"barpolar\": [{\"marker\": {\"line\": {\"color\": \"#E5ECF6\", \"width\": 0.5}}, \"type\": \"barpolar\"}], \"carpet\": [{\"aaxis\": {\"endlinecolor\": \"#2a3f5f\", \"gridcolor\": \"white\", \"linecolor\": \"white\", \"minorgridcolor\": \"white\", \"startlinecolor\": \"#2a3f5f\"}, \"baxis\": {\"endlinecolor\": \"#2a3f5f\", \"gridcolor\": \"white\", \"linecolor\": \"white\", \"minorgridcolor\": \"white\", \"startlinecolor\": \"#2a3f5f\"}, \"type\": \"carpet\"}], \"choropleth\": [{\"colorbar\": {\"outlinewidth\": 0, \"ticks\": \"\"}, \"type\": \"choropleth\"}], \"contour\": [{\"colorbar\": {\"outlinewidth\": 0, \"ticks\": \"\"}, \"colorscale\": [[0.0, \"#0d0887\"], [0.1111111111111111, \"#46039f\"], [0.2222222222222222, \"#7201a8\"], [0.3333333333333333, \"#9c179e\"], [0.4444444444444444, \"#bd3786\"], [0.5555555555555556, \"#d8576b\"], [0.6666666666666666, \"#ed7953\"], [0.7777777777777778, \"#fb9f3a\"], [0.8888888888888888, \"#fdca26\"], [1.0, \"#f0f921\"]], \"type\": \"contour\"}], \"contourcarpet\": [{\"colorbar\": {\"outlinewidth\": 0, \"ticks\": \"\"}, \"type\": \"contourcarpet\"}], \"heatmap\": [{\"colorbar\": {\"outlinewidth\": 0, \"ticks\": \"\"}, \"colorscale\": [[0.0, \"#0d0887\"], [0.1111111111111111, \"#46039f\"], [0.2222222222222222, \"#7201a8\"], [0.3333333333333333, \"#9c179e\"], [0.4444444444444444, \"#bd3786\"], [0.5555555555555556, \"#d8576b\"], [0.6666666666666666, \"#ed7953\"], [0.7777777777777778, \"#fb9f3a\"], [0.8888888888888888, \"#fdca26\"], [1.0, \"#f0f921\"]], \"type\": \"heatmap\"}], \"heatmapgl\": [{\"colorbar\": {\"outlinewidth\": 0, \"ticks\": \"\"}, \"colorscale\": [[0.0, \"#0d0887\"], [0.1111111111111111, \"#46039f\"], [0.2222222222222222, \"#7201a8\"], [0.3333333333333333, \"#9c179e\"], [0.4444444444444444, \"#bd3786\"], [0.5555555555555556, \"#d8576b\"], [0.6666666666666666, \"#ed7953\"], [0.7777777777777778, \"#fb9f3a\"], [0.8888888888888888, \"#fdca26\"], [1.0, \"#f0f921\"]], \"type\": \"heatmapgl\"}], \"histogram\": [{\"marker\": {\"colorbar\": {\"outlinewidth\": 0, \"ticks\": \"\"}}, \"type\": \"histogram\"}], \"histogram2d\": [{\"colorbar\": {\"outlinewidth\": 0, \"ticks\": \"\"}, \"colorscale\": [[0.0, \"#0d0887\"], [0.1111111111111111, \"#46039f\"], [0.2222222222222222, \"#7201a8\"], [0.3333333333333333, \"#9c179e\"], [0.4444444444444444, \"#bd3786\"], [0.5555555555555556, \"#d8576b\"], [0.6666666666666666, \"#ed7953\"], [0.7777777777777778, \"#fb9f3a\"], [0.8888888888888888, \"#fdca26\"], [1.0, \"#f0f921\"]], \"type\": \"histogram2d\"}], \"histogram2dcontour\": [{\"colorbar\": {\"outlinewidth\": 0, \"ticks\": \"\"}, \"colorscale\": [[0.0, \"#0d0887\"], [0.1111111111111111, \"#46039f\"], [0.2222222222222222, \"#7201a8\"], [0.3333333333333333, \"#9c179e\"], [0.4444444444444444, \"#bd3786\"], [0.5555555555555556, \"#d8576b\"], [0.6666666666666666, \"#ed7953\"], [0.7777777777777778, \"#fb9f3a\"], [0.8888888888888888, \"#fdca26\"], [1.0, \"#f0f921\"]], \"type\": \"histogram2dcontour\"}], \"mesh3d\": [{\"colorbar\": {\"outlinewidth\": 0, \"ticks\": \"\"}, \"type\": \"mesh3d\"}], \"parcoords\": [{\"line\": {\"colorbar\": {\"outlinewidth\": 0, \"ticks\": \"\"}}, \"type\": \"parcoords\"}], \"pie\": [{\"automargin\": true, \"type\": \"pie\"}], \"scatter\": [{\"marker\": {\"colorbar\": {\"outlinewidth\": 0, \"ticks\": \"\"}}, \"type\": \"scatter\"}], \"scatter3d\": [{\"line\": {\"colorbar\": {\"outlinewidth\": 0, \"ticks\": \"\"}}, \"marker\": {\"colorbar\": {\"outlinewidth\": 0, \"ticks\": \"\"}}, \"type\": \"scatter3d\"}], \"scattercarpet\": [{\"marker\": {\"colorbar\": {\"outlinewidth\": 0, \"ticks\": \"\"}}, \"type\": \"scattercarpet\"}], \"scattergeo\": [{\"marker\": {\"colorbar\": {\"outlinewidth\": 0, \"ticks\": \"\"}}, \"type\": \"scattergeo\"}], \"scattergl\": [{\"marker\": {\"colorbar\": {\"outlinewidth\": 0, \"ticks\": \"\"}}, \"type\": \"scattergl\"}], \"scattermapbox\": [{\"marker\": {\"colorbar\": {\"outlinewidth\": 0, \"ticks\": \"\"}}, \"type\": \"scattermapbox\"}], \"scatterpolar\": [{\"marker\": {\"colorbar\": {\"outlinewidth\": 0, \"ticks\": \"\"}}, \"type\": \"scatterpolar\"}], \"scatterpolargl\": [{\"marker\": {\"colorbar\": {\"outlinewidth\": 0, \"ticks\": \"\"}}, \"type\": \"scatterpolargl\"}], \"scatterternary\": [{\"marker\": {\"colorbar\": {\"outlinewidth\": 0, \"ticks\": \"\"}}, \"type\": \"scatterternary\"}], \"surface\": [{\"colorbar\": {\"outlinewidth\": 0, \"ticks\": \"\"}, \"colorscale\": [[0.0, \"#0d0887\"], [0.1111111111111111, \"#46039f\"], [0.2222222222222222, \"#7201a8\"], [0.3333333333333333, \"#9c179e\"], [0.4444444444444444, \"#bd3786\"], [0.5555555555555556, \"#d8576b\"], [0.6666666666666666, \"#ed7953\"], [0.7777777777777778, \"#fb9f3a\"], [0.8888888888888888, \"#fdca26\"], [1.0, \"#f0f921\"]], \"type\": \"surface\"}], \"table\": [{\"cells\": {\"fill\": {\"color\": \"#EBF0F8\"}, \"line\": {\"color\": \"white\"}}, \"header\": {\"fill\": {\"color\": \"#C8D4E3\"}, \"line\": {\"color\": \"white\"}}, \"type\": \"table\"}]}, \"layout\": {\"annotationdefaults\": {\"arrowcolor\": \"#2a3f5f\", \"arrowhead\": 0, \"arrowwidth\": 1}, \"autotypenumbers\": \"strict\", \"coloraxis\": {\"colorbar\": {\"outlinewidth\": 0, \"ticks\": \"\"}}, \"colorscale\": {\"diverging\": [[0, \"#8e0152\"], [0.1, \"#c51b7d\"], [0.2, \"#de77ae\"], [0.3, \"#f1b6da\"], [0.4, \"#fde0ef\"], [0.5, \"#f7f7f7\"], [0.6, \"#e6f5d0\"], [0.7, \"#b8e186\"], [0.8, \"#7fbc41\"], [0.9, \"#4d9221\"], [1, \"#276419\"]], \"sequential\": [[0.0, \"#0d0887\"], [0.1111111111111111, \"#46039f\"], [0.2222222222222222, \"#7201a8\"], [0.3333333333333333, \"#9c179e\"], [0.4444444444444444, \"#bd3786\"], [0.5555555555555556, \"#d8576b\"], [0.6666666666666666, \"#ed7953\"], [0.7777777777777778, \"#fb9f3a\"], [0.8888888888888888, \"#fdca26\"], [1.0, \"#f0f921\"]], \"sequentialminus\": [[0.0, \"#0d0887\"], [0.1111111111111111, \"#46039f\"], [0.2222222222222222, \"#7201a8\"], [0.3333333333333333, \"#9c179e\"], [0.4444444444444444, \"#bd3786\"], [0.5555555555555556, \"#d8576b\"], [0.6666666666666666, \"#ed7953\"], [0.7777777777777778, \"#fb9f3a\"], [0.8888888888888888, \"#fdca26\"], [1.0, \"#f0f921\"]]}, \"colorway\": [\"#636efa\", \"#EF553B\", \"#00cc96\", \"#ab63fa\", \"#FFA15A\", \"#19d3f3\", \"#FF6692\", \"#B6E880\", \"#FF97FF\", \"#FECB52\"], \"font\": {\"color\": \"#2a3f5f\"}, \"geo\": {\"bgcolor\": \"white\", \"lakecolor\": \"white\", \"landcolor\": \"#E5ECF6\", \"showlakes\": true, \"showland\": true, \"subunitcolor\": \"white\"}, \"hoverlabel\": {\"align\": \"left\"}, \"hovermode\": \"closest\", \"mapbox\": {\"style\": \"light\"}, \"paper_bgcolor\": \"white\", \"plot_bgcolor\": \"#E5ECF6\", \"polar\": {\"angularaxis\": {\"gridcolor\": \"white\", \"linecolor\": \"white\", \"ticks\": \"\"}, \"bgcolor\": \"#E5ECF6\", \"radialaxis\": {\"gridcolor\": \"white\", \"linecolor\": \"white\", \"ticks\": \"\"}}, \"scene\": {\"xaxis\": {\"backgroundcolor\": \"#E5ECF6\", \"gridcolor\": \"white\", \"gridwidth\": 2, \"linecolor\": \"white\", \"showbackground\": true, \"ticks\": \"\", \"zerolinecolor\": \"white\"}, \"yaxis\": {\"backgroundcolor\": \"#E5ECF6\", \"gridcolor\": \"white\", \"gridwidth\": 2, \"linecolor\": \"white\", \"showbackground\": true, \"ticks\": \"\", \"zerolinecolor\": \"white\"}, \"zaxis\": {\"backgroundcolor\": \"#E5ECF6\", \"gridcolor\": \"white\", \"gridwidth\": 2, \"linecolor\": \"white\", \"showbackground\": true, \"ticks\": \"\", \"zerolinecolor\": \"white\"}}, \"shapedefaults\": {\"line\": {\"color\": \"#2a3f5f\"}}, \"ternary\": {\"aaxis\": {\"gridcolor\": \"white\", \"linecolor\": \"white\", \"ticks\": \"\"}, \"baxis\": {\"gridcolor\": \"white\", \"linecolor\": \"white\", \"ticks\": \"\"}, \"bgcolor\": \"#E5ECF6\", \"caxis\": {\"gridcolor\": \"white\", \"linecolor\": \"white\", \"ticks\": \"\"}}, \"title\": {\"x\": 0.05}, \"xaxis\": {\"automargin\": true, \"gridcolor\": \"white\", \"linecolor\": \"white\", \"ticks\": \"\", \"title\": {\"standoff\": 15}, \"zerolinecolor\": \"white\", \"zerolinewidth\": 2}, \"yaxis\": {\"automargin\": true, \"gridcolor\": \"white\", \"linecolor\": \"white\", \"ticks\": \"\", \"title\": {\"standoff\": 15}, \"zerolinecolor\": \"white\", \"zerolinewidth\": 2}}}},                        {\"responsive\": true}                    ).then(function(){\n",
       "                            \n",
       "var gd = document.getElementById('0851816e-802e-4539-b61a-bf712cb353c5');\n",
       "var x = new MutationObserver(function (mutations, observer) {{\n",
       "        var display = window.getComputedStyle(gd).display;\n",
       "        if (!display || display === 'none') {{\n",
       "            console.log([gd, 'removed!']);\n",
       "            Plotly.purge(gd);\n",
       "            observer.disconnect();\n",
       "        }}\n",
       "}});\n",
       "\n",
       "// Listen for the removal of the full notebook cells\n",
       "var notebookContainer = gd.closest('#notebook-container');\n",
       "if (notebookContainer) {{\n",
       "    x.observe(notebookContainer, {childList: true});\n",
       "}}\n",
       "\n",
       "// Listen for the clearing of the current output cell\n",
       "var outputEl = gd.closest('.output');\n",
       "if (outputEl) {{\n",
       "    x.observe(outputEl, {childList: true});\n",
       "}}\n",
       "\n",
       "                        })                };                });            </script>        </div>"
      ]
     },
     "metadata": {},
     "output_type": "display_data"
    }
   ],
   "source": [
    "_show_df_class_balance(\"/app/_work/short1.csv\")"
   ]
  },
  {
   "cell_type": "code",
   "execution_count": null,
   "id": "latin-saver",
   "metadata": {},
   "outputs": [],
   "source": [
    "_show_df_class_balance(\"/app/_work/short_dataset_rectified.csv\")"
   ]
  },
  {
   "cell_type": "code",
   "execution_count": null,
   "id": "varied-pencil",
   "metadata": {},
   "outputs": [],
   "source": [
    "_show_df_class_balance(\"/app/_data/competition_data/train_metadata.csv\")"
   ]
  },
  {
   "cell_type": "code",
   "execution_count": null,
   "id": "constant-voice",
   "metadata": {},
   "outputs": [],
   "source": [
    "df = pd.read_csv(\"/app/_data/competition_data/train_metadata.csv\")"
   ]
  },
  {
   "cell_type": "code",
   "execution_count": null,
   "id": "genetic-locking",
   "metadata": {
    "jupyter": {
     "source_hidden": true
    },
    "tags": []
   },
   "outputs": [],
   "source": [
    "nodates = [\n",
    "    \"amecro\",\n",
    "    \"amegfi\",\n",
    "    \"amekes\",\n",
    "    \"amerob\",\n",
    "    \"azaspi1\",\n",
    "    \"azaspi1\",\n",
    "    \"barant1\",\n",
    "    \"barant1\",\n",
    "    \"barswa\",\n",
    "    \"bcnher\",\n",
    "    \"bewwre\",\n",
    "    \"bkmtou1\",\n",
    "    \"bkmtou1\",\n",
    "    \"bkmtou1\",\n",
    "    \"bkmtou1\",\n",
    "    \"bkmtou1\",\n",
    "    \"bkmtou1\",\n",
    "    \"blbgra1\",\n",
    "    \"blhpar1\",\n",
    "    \"blkpho\",\n",
    "    \"bulori\",\n",
    "    \"butsal1\",\n",
    "    \"chbwre1\",\n",
    "    \"chbwre1\",\n",
    "    \"chbwre1\",\n",
    "    \"chbwre1\",\n",
    "    \"chbwre1\",\n",
    "    \"chbwre1\",\n",
    "    \"chbwre1\",\n",
    "    \"chbwre1\",\n",
    "    \"chbwre1\",\n",
    "    \"chbwre1\",\n",
    "    \"chbwre1\",\n",
    "    \"chbwre1\",\n",
    "    \"chbwre1\",\n",
    "    \"chbwre1\",\n",
    "    \"chbwre1\",\n",
    "    \"chbwre1\",\n",
    "    \"chbwre1\",\n",
    "    \"chbwre1\",\n",
    "    \"chbwre1\",\n",
    "    \"chbwre1\",\n",
    "    \"chbwre1\",\n",
    "    \"chbwre1\",\n",
    "    \"chbwre1\",\n",
    "    \"chbwre1\",\n",
    "    \"cinfly2\",\n",
    "    \"coltro1\",\n",
    "    \"easmea\",\n",
    "    \"eursta\",\n",
    "    \"eursta\",\n",
    "    \"fepowl\",\n",
    "    \"fepowl\",\n",
    "    \"fepowl\",\n",
    "    \"gbwwre1\",\n",
    "    \"gbwwre1\",\n",
    "    \"gbwwre1\",\n",
    "    \"gohque1\",\n",
    "    \"gohque1\",\n",
    "    \"grasal1\",\n",
    "    \"grnjay\",\n",
    "    \"houwre\",\n",
    "    \"laufal1\",\n",
    "    \"leafly\",\n",
    "    \"lesvio1\",\n",
    "    \"lesvio1\",\n",
    "    \"lesvio1\",\n",
    "    \"lesvio1\",\n",
    "    \"lesvio1\",\n",
    "    \"lesvio1\",\n",
    "    \"lesvio1\",\n",
    "    \"lesvio1\",\n",
    "    \"lesvio1\",\n",
    "    \"lesvio1\",\n",
    "    \"lesvio1\",\n",
    "    \"littin1\",\n",
    "    \"littin1\",\n",
    "    \"littin1\",\n",
    "    \"littin1\",\n",
    "    \"littin1\",\n",
    "    \"norcar\",\n",
    "    \"norcar\",\n",
    "    \"pabspi1\",\n",
    "    \"rawwre1\",\n",
    "    \"rewbla\",\n",
    "    \"roahaw\",\n",
    "    \"roahaw\",\n",
    "    \"roahaw\",\n",
    "    \"roahaw\",\n",
    "    \"roahaw\",\n",
    "    \"roahaw\",\n",
    "    \"roahaw\",\n",
    "    \"roahaw\",\n",
    "    \"roahaw\",\n",
    "    \"rocpig\",\n",
    "    \"rubpep1\",\n",
    "    \"rubpep1\",\n",
    "    \"rubwre1\",\n",
    "    \"rubwre1\",\n",
    "    \"rucwar1\",\n",
    "    \"saffin\",\n",
    "    \"scbwre1\",\n",
    "    \"scptyr1\",\n",
    "    \"smbani\",\n",
    "    \"soulap1\",\n",
    "    \"squcuc1\",\n",
    "    \"swaspa\",\n",
    "    \"trokin\",\n",
    "    \"tropar\",\n",
    "    \"wewpew\",\n",
    "    \"yeofly1\",\n",
    "    \"yetvir\",\n",
    "]"
   ]
  },
  {
   "cell_type": "code",
   "execution_count": null,
   "id": "authentic-metabolism",
   "metadata": {},
   "outputs": [],
   "source": [
    "for nodate in nodates:\n",
    "    print(\n",
    "        nodate, df[df[\"primary_label\"] == nodate].primary_label.value_counts().values[0]\n",
    "    )"
   ]
  },
  {
   "cell_type": "code",
   "execution_count": null,
   "id": "lesbian-greene",
   "metadata": {},
   "outputs": [],
   "source": []
  }
 ],
 "metadata": {
  "kernelspec": {
   "display_name": "Python 3",
   "language": "python",
   "name": "python3"
  },
  "language_info": {
   "codemirror_mode": {
    "name": "ipython",
    "version": 3
   },
   "file_extension": ".py",
   "mimetype": "text/x-python",
   "name": "python",
   "nbconvert_exporter": "python",
   "pygments_lexer": "ipython3",
   "version": "3.8.5"
  }
 },
 "nbformat": 4,
 "nbformat_minor": 5
}
