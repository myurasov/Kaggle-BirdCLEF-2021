{
 "cells": [
  {
   "cell_type": "code",
   "execution_count": 16,
   "metadata": {
    "execution": {
     "iopub.execute_input": "2021-05-25T05:27:22.454454Z",
     "iopub.status.busy": "2021-05-25T05:27:22.454066Z",
     "iopub.status.idle": "2021-05-25T05:27:23.144762Z",
     "shell.execute_reply": "2021-05-25T05:27:23.143627Z",
     "shell.execute_reply.started": "2021-05-25T05:27:22.454420Z"
    }
   },
   "outputs": [],
   "source": [
    "! touch submission.csv"
   ]
  },
  {
   "cell_type": "code",
   "execution_count": 17,
   "metadata": {
    "execution": {
     "iopub.execute_input": "2021-05-25T05:27:23.146973Z",
     "iopub.status.busy": "2021-05-25T05:27:23.146662Z",
     "iopub.status.idle": "2021-05-25T05:27:23.154787Z",
     "shell.execute_reply": "2021-05-25T05:27:23.153955Z",
     "shell.execute_reply.started": "2021-05-25T05:27:23.146942Z"
    }
   },
   "outputs": [],
   "source": [
    "# environment setup\n",
    "\n",
    "import os\n",
    "import sys\n",
    "\n",
    "os.environ[\"__KAGGLE__\"] = \"1\"\n",
    "sys.path.append(\"/kaggle/input/bc21-code/\")"
   ]
  },
  {
   "cell_type": "code",
   "execution_count": 18,
   "metadata": {
    "execution": {
     "iopub.execute_input": "2021-05-25T05:27:23.158791Z",
     "iopub.status.busy": "2021-05-25T05:27:23.158527Z",
     "iopub.status.idle": "2021-05-25T05:27:23.167538Z",
     "shell.execute_reply": "2021-05-25T05:27:23.166621Z",
     "shell.execute_reply.started": "2021-05-25T05:27:23.158767Z"
    }
   },
   "outputs": [],
   "source": [
    "import numpy as np\n",
    "import pandas as pd\n",
    "import tensorflow_addons as tfa\n",
    "from sklearn.metrics import f1_score\n",
    "from tensorflow import keras\n",
    "from tqdm import tqdm\n",
    "\n",
    "from lib.utils import fix_random_seed, read_json\n",
    "from src.config import c\n",
    "from src.data_utils import (\n",
    "    boost_multiple_occurences,\n",
    "    geofilter_predictions,\n",
    "    normalize_soundscapes_df,\n",
    "    predictions_to_text_labels,\n",
    "    read_soundscapes_info,\n",
    ")\n",
    "from src.generator import Generator\n",
    "from src.geo_filter import filters as geo_filters\n",
    "from src.models import Div, SinCos, YMToDate, MelSpectrogram, Float2DToFloatRGB, Float2DToRGB, PowerToDb\n",
    "from src.services import get_msg_provider, get_wave_provider"
   ]
  },
  {
   "cell_type": "code",
   "execution_count": 19,
   "metadata": {
    "execution": {
     "iopub.execute_input": "2021-05-25T05:27:23.171363Z",
     "iopub.status.busy": "2021-05-25T05:27:23.170964Z",
     "iopub.status.idle": "2021-05-25T05:27:23.179055Z",
     "shell.execute_reply": "2021-05-25T05:27:23.178177Z",
     "shell.execute_reply.started": "2021-05-25T05:27:23.171324Z"
    }
   },
   "outputs": [],
   "source": [
    "IN_KAGGLE_SUBMIT = os.environ[\"KAGGLE_KERNEL_RUN_TYPE\"] != \"Interactive\"\n",
    "\n",
    "IN_CSV = (\n",
    "    \"/kaggle/input/birdclef-2021/test.csv\"\n",
    "    if IN_KAGGLE_SUBMIT\n",
    "    else \"/kaggle/input/birdclef-2021/train_soundscape_labels.csv\"\n",
    ")\n",
    "\n",
    "MODEL = \"/kaggle/input/bc21-models/C2_enb4.h5\"\n",
    "\n",
    "GEOFILTER = \"all-500mi-last_5y-1mo_tolerance\"\n",
    "BOOST_COEF = 2.4\n",
    "MAX_BOOST_COEF = BOOST_COEF * 5\n",
    "THRESHOLD = 0.5\n",
    "\n",
    "RES_COL = \"birds_geof_boosted\""
   ]
  },
  {
   "cell_type": "code",
   "execution_count": 20,
   "metadata": {
    "execution": {
     "iopub.execute_input": "2021-05-25T05:27:23.180998Z",
     "iopub.status.busy": "2021-05-25T05:27:23.180450Z",
     "iopub.status.idle": "2021-05-25T05:27:23.188291Z",
     "shell.execute_reply": "2021-05-25T05:27:23.187282Z",
     "shell.execute_reply.started": "2021-05-25T05:27:23.180951Z"
    }
   },
   "outputs": [],
   "source": [
    "# ! md5sum $MODEL"
   ]
  },
  {
   "cell_type": "code",
   "execution_count": 21,
   "metadata": {
    "execution": {
     "iopub.execute_input": "2021-05-25T05:27:23.189692Z",
     "iopub.status.busy": "2021-05-25T05:27:23.189402Z",
     "iopub.status.idle": "2021-05-25T05:27:23.207609Z",
     "shell.execute_reply": "2021-05-25T05:27:23.206807Z",
     "shell.execute_reply.started": "2021-05-25T05:27:23.189665Z"
    }
   },
   "outputs": [],
   "source": [
    "# metadata from model training run\n",
    "meta = read_json(MODEL.replace(\".h5\", \".json\"))\n",
    "\n",
    "# copy kaggle-specific configs\n",
    "for k in [\n",
    "    \"WORK_DIR\",\n",
    "    \"CACHE_DIR\",\n",
    "    \"COMPETITION_DATA\",\n",
    "    \"SRC_DATA_DIRS\",\n",
    "    \"CACHE_AUDIO_FRAGMENTS\",\n",
    "]:\n",
    "    meta[\"config\"][k] = c[k]"
   ]
  },
  {
   "cell_type": "code",
   "execution_count": 22,
   "metadata": {
    "execution": {
     "iopub.execute_input": "2021-05-25T05:27:23.209191Z",
     "iopub.status.busy": "2021-05-25T05:27:23.208848Z",
     "iopub.status.idle": "2021-05-25T05:27:26.828657Z",
     "shell.execute_reply": "2021-05-25T05:27:26.827785Z",
     "shell.execute_reply.started": "2021-05-25T05:27:23.209157Z"
    }
   },
   "outputs": [],
   "source": [
    "# prepare soundscapes df\n",
    "df = pd.read_csv(IN_CSV)\n",
    "df = normalize_soundscapes_df(df, quiet=True, seconds=5)"
   ]
  },
  {
   "cell_type": "code",
   "execution_count": 23,
   "metadata": {
    "execution": {
     "iopub.execute_input": "2021-05-25T05:27:26.830346Z",
     "iopub.status.busy": "2021-05-25T05:27:26.829995Z",
     "iopub.status.idle": "2021-05-25T05:27:36.642569Z",
     "shell.execute_reply": "2021-05-25T05:27:36.641707Z",
     "shell.execute_reply.started": "2021-05-25T05:27:26.830310Z"
    }
   },
   "outputs": [],
   "source": [
    "# load model\n",
    "model = keras.models.load_model(\n",
    "    MODEL,\n",
    "    custom_objects={\n",
    "        \"SinCos\": SinCos,\n",
    "        \"Div\": Div,\n",
    "        \"YMToDate\": YMToDate,\n",
    "        'MelSpectrogram': MelSpectrogram,\n",
    "        'Float2DToFloatRGB': Float2DToFloatRGB,\n",
    "        'Float2DToRGB': Float2DToRGB,\n",
    "        'PowerToDb': PowerToDb\n",
    "    },\n",
    ")"
   ]
  },
  {
   "cell_type": "code",
   "execution_count": 24,
   "metadata": {
    "execution": {
     "iopub.execute_input": "2021-05-25T05:27:36.645243Z",
     "iopub.status.busy": "2021-05-25T05:27:36.644982Z",
     "iopub.status.idle": "2021-05-25T05:27:36.688120Z",
     "shell.execute_reply": "2021-05-25T05:27:36.687205Z",
     "shell.execute_reply.started": "2021-05-25T05:27:36.645218Z"
    }
   },
   "outputs": [],
   "source": [
    "# create generator\n",
    "\n",
    "wave_p = get_wave_provider(meta[\"config\"])\n",
    "\n",
    "if meta['args']['model'].startswith('msg_'):\n",
    "\n",
    "    input_shape = model.get_layer(\"i_msg\").input_shape[0][1:]\n",
    "    msg_p = get_msg_provider(meta[\"config\"])\n",
    "\n",
    "    generator = Generator(\n",
    "        df=df,\n",
    "        shuffle=False,\n",
    "        augmentation=None,\n",
    "        rating_as_sw=False,\n",
    "        rareness_as_sw=False,\n",
    "        msg_provider=msg_p,\n",
    "        wave_provider=wave_p,\n",
    "        msg_output_size=input_shape,\n",
    "        msg_power=meta[\"config\"][\"MSG_POWER\"],\n",
    "        geo_coordinates_bins=meta[\"config\"][\"GEO_COORDINATES_BINS\"],\n",
    "        batch_size=1,\n",
    "    )\n",
    "    \n",
    "else:\n",
    "    \n",
    "    generator = Generator(\n",
    "        df=df,\n",
    "        shuffle=False,\n",
    "        augmentation=None,\n",
    "        rating_as_sw=False,\n",
    "        rareness_as_sw=False,\n",
    "        msg_provider=None,\n",
    "        wave_provider=wave_p,\n",
    "        geo_coordinates_bins=meta[\"config\"][\"GEO_COORDINATES_BINS\"],\n",
    "        batch_size=1,\n",
    "    )"
   ]
  },
  {
   "cell_type": "code",
   "execution_count": 25,
   "metadata": {
    "execution": {
     "iopub.execute_input": "2021-05-25T05:27:36.690073Z",
     "iopub.status.busy": "2021-05-25T05:27:36.689707Z",
     "iopub.status.idle": "2021-05-25T05:30:26.887079Z",
     "shell.execute_reply": "2021-05-25T05:30:26.886199Z",
     "shell.execute_reply.started": "2021-05-25T05:27:36.690020Z"
    }
   },
   "outputs": [
    {
     "name": "stdout",
     "output_type": "stream",
     "text": [
      "2400/2400 [==============================] - 170s 69ms/step\n"
     ]
    }
   ],
   "source": [
    "# predict\n",
    "Y_pred = model.predict(\n",
    "    x=generator,\n",
    "    use_multiprocessing=False,\n",
    "    verbose=0 if IN_KAGGLE_SUBMIT else 1,\n",
    ")"
   ]
  },
  {
   "cell_type": "code",
   "execution_count": 26,
   "metadata": {
    "execution": {
     "iopub.execute_input": "2021-05-25T05:30:26.889114Z",
     "iopub.status.busy": "2021-05-25T05:30:26.888631Z",
     "iopub.status.idle": "2021-05-25T05:30:26.895925Z",
     "shell.execute_reply": "2021-05-25T05:30:26.894974Z",
     "shell.execute_reply.started": "2021-05-25T05:30:26.889074Z"
    }
   },
   "outputs": [],
   "source": [
    "df[\"_y_pred\"] = list(map(lambda x: x, Y_pred))"
   ]
  },
  {
   "cell_type": "code",
   "execution_count": 27,
   "metadata": {
    "execution": {
     "iopub.execute_input": "2021-05-25T05:30:26.897868Z",
     "iopub.status.busy": "2021-05-25T05:30:26.897388Z",
     "iopub.status.idle": "2021-05-25T05:30:27.052391Z",
     "shell.execute_reply": "2021-05-25T05:30:27.051381Z",
     "shell.execute_reply.started": "2021-05-25T05:30:26.897829Z"
    },
    "tags": []
   },
   "outputs": [],
   "source": [
    "# boost\n",
    "if BOOST_COEF is not None:\n",
    "\n",
    "    df = boost_multiple_occurences(\n",
    "        df=df,\n",
    "        labels=meta[\"labels\"],\n",
    "        pred_col=\"_y_pred\",\n",
    "        out_col=\"_y_pred_boosted\",\n",
    "        boost_coef=BOOST_COEF,\n",
    "        max_boost_coef=MAX_BOOST_COEF,\n",
    "        threshold=THRESHOLD,\n",
    "    )"
   ]
  },
  {
   "cell_type": "code",
   "execution_count": 28,
   "metadata": {
    "execution": {
     "iopub.execute_input": "2021-05-25T05:30:27.054225Z",
     "iopub.status.busy": "2021-05-25T05:30:27.053853Z",
     "iopub.status.idle": "2021-05-25T05:30:27.095168Z",
     "shell.execute_reply": "2021-05-25T05:30:27.094315Z",
     "shell.execute_reply.started": "2021-05-25T05:30:27.054186Z"
    }
   },
   "outputs": [],
   "source": [
    "# geofiltering\n",
    "\n",
    "if GEOFILTER is not None:\n",
    "\n",
    "    yp = geofilter_predictions(\n",
    "        df=df,\n",
    "        Y_pred=np.array(list(df[\"_y_pred\"])),\n",
    "        site_labels=geo_filters[GEOFILTER],\n",
    "        labels=meta[\"labels\"],\n",
    "        downgrade_const=0.0,\n",
    "    )\n",
    "    df[\"_y_pred_geof\"] = list(map(lambda x: x, yp))\n",
    "\n",
    "    if \"_y_pred_boosted\" in df:\n",
    "\n",
    "        yp = geofilter_predictions(\n",
    "            df=df,\n",
    "            Y_pred=np.array(list(df[\"_y_pred_boosted\"])),\n",
    "            site_labels=geo_filters[GEOFILTER],\n",
    "            labels=meta[\"labels\"],\n",
    "            downgrade_const=0.0,\n",
    "        )\n",
    "        df[\"_y_pred_geof_boosted\"] = list(map(lambda x: x, yp))"
   ]
  },
  {
   "cell_type": "code",
   "execution_count": 29,
   "metadata": {
    "execution": {
     "iopub.execute_input": "2021-05-25T05:30:27.096993Z",
     "iopub.status.busy": "2021-05-25T05:30:27.096635Z",
     "iopub.status.idle": "2021-05-25T05:30:27.325459Z",
     "shell.execute_reply": "2021-05-25T05:30:27.324457Z",
     "shell.execute_reply.started": "2021-05-25T05:30:27.096953Z"
    }
   },
   "outputs": [
    {
     "name": "stdout",
     "output_type": "stream",
     "text": [
      "birds f1 0.9855947955390334\n",
      "birds_boosted f1 0.9817842129845866\n",
      "birds_geof f1 0.9855947955390334\n",
      "birds_geof_boosted f1 0.9817842129845866\n"
     ]
    }
   ],
   "source": [
    "# convert predictions to words\n",
    "\n",
    "labels_cols = []\n",
    "\n",
    "for col in [\n",
    "    \"_y_pred\",\n",
    "    \"_y_pred_boosted\",\n",
    "    \"_y_pred_geof\",\n",
    "    \"_y_pred_geof_boosted\",\n",
    "]:\n",
    "    if col in df:\n",
    "\n",
    "        labels_pred = predictions_to_text_labels(\n",
    "            np.array(list(df[col])),\n",
    "            meta[\"labels\"],\n",
    "            default_label=\"nocall\",\n",
    "            max_labels=None,\n",
    "            priority_to_nocall=False,\n",
    "            threshold=THRESHOLD,\n",
    "        )\n",
    "\n",
    "        labels_col = col.replace(\"_y_pred\", \"birds\")\n",
    "        labels_cols.append(labels_col)\n",
    "        df[labels_col] = labels_pred\n",
    "\n",
    "        if not IN_KAGGLE_SUBMIT:\n",
    "\n",
    "            # print f1 info and save wrong predictions\n",
    "\n",
    "            df[df[\"_primary_labels\"] != df[\"birds\"]][\n",
    "                [\"filename\", \"_primary_labels\"] + labels_cols\n",
    "            ].to_csv(\"wrong.csv\", index=False)\n",
    "\n",
    "            print(\n",
    "                labels_col,\n",
    "                \"f1\",\n",
    "                f1_score(\n",
    "                    df[\"_primary_labels\"],\n",
    "                    df[labels_col],\n",
    "                    labels=meta[\"labels\"],\n",
    "                    average=\"micro\",\n",
    "                ),\n",
    "            )"
   ]
  },
  {
   "cell_type": "code",
   "execution_count": 30,
   "metadata": {
    "execution": {
     "iopub.execute_input": "2021-05-25T05:30:27.327404Z",
     "iopub.status.busy": "2021-05-25T05:30:27.327018Z",
     "iopub.status.idle": "2021-05-25T05:30:27.341112Z",
     "shell.execute_reply": "2021-05-25T05:30:27.340293Z",
     "shell.execute_reply.started": "2021-05-25T05:30:27.327339Z"
    }
   },
   "outputs": [],
   "source": [
    "df[[\"row_id\", RES_COL]].rename(columns={RES_COL: \"birds\"}).to_csv(\n",
    "    \"submission.csv\", index=False\n",
    ")"
   ]
  },
  {
   "cell_type": "code",
   "execution_count": null,
   "metadata": {},
   "outputs": [],
   "source": []
  }
 ],
 "metadata": {
  "kernelspec": {
   "display_name": "Python 3",
   "language": "python",
   "name": "python3"
  },
  "language_info": {
   "codemirror_mode": {
    "name": "ipython",
    "version": 3
   },
   "file_extension": ".py",
   "mimetype": "text/x-python",
   "name": "python",
   "nbconvert_exporter": "python",
   "pygments_lexer": "ipython3",
   "version": "3.8.5"
  },
  "widgets": {
   "application/vnd.jupyter.widget-state+json": {
    "state": {},
    "version_major": 2,
    "version_minor": 0
   }
  }
 },
 "nbformat": 4,
 "nbformat_minor": 4
}
