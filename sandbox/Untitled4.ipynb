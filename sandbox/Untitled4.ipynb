{
 "cells": [
  {
   "cell_type": "code",
   "execution_count": 1,
   "id": "1e460bcb-c2fe-4eea-9d60-00367400cc96",
   "metadata": {},
   "outputs": [],
   "source": [
    "import matplotlib.pyplot as plt\n",
    "import numpy as np\n",
    "from tensorflow import keras\n",
    "\n",
    "from lib.utils import save_keras_model"
   ]
  },
  {
   "cell_type": "code",
   "execution_count": 2,
   "id": "7264cda3-bec0-4c93-a9b4-a4bc5fd338c9",
   "metadata": {},
   "outputs": [],
   "source": [
    "i1 = keras.layers.Input(shape=(1,), name=\"i1\")\n",
    "i2 = keras.layers.Input(shape=(1,), name=\"i2\")\n",
    "x = keras.layers.Concatenate()([i1, i2])\n",
    "x = keras.layers.Dense(128, activation=\"relu\")(x)\n",
    "x = keras.layers.Dense(128, activation=\"relu\")(x)\n",
    "x = keras.layers.Dense(128, activation=\"relu\")(x)\n",
    "x = keras.layers.Dense(128, activation=\"relu\")(x)\n",
    "x = keras.layers.Dense(1, activation=\"linear\")(x)\n",
    "m = keras.models.Model(inputs=[i1, i2], outputs=x)"
   ]
  },
  {
   "cell_type": "code",
   "execution_count": 3,
   "id": "0337f09a-5d21-4fad-a585-9d5483ff5790",
   "metadata": {},
   "outputs": [],
   "source": [
    "m.compile(optimizer=\"adam\", loss=\"mse\")"
   ]
  },
  {
   "cell_type": "code",
   "execution_count": 4,
   "id": "ab7c8eba-6939-4677-9a5b-7c01d1a976fe",
   "metadata": {},
   "outputs": [],
   "source": [
    "save_keras_model(m, \"model.jpg\")"
   ]
  },
  {
   "cell_type": "code",
   "execution_count": 14,
   "id": "29834c28-74b3-44a2-9c84-f1a7bfeb71b9",
   "metadata": {},
   "outputs": [],
   "source": [
    "class G(keras.utils.Sequence):\n",
    "    n = 1024 * 1000\n",
    "\n",
    "    def __init__(self, batch_size=10):\n",
    "        self.x1 = np.random.uniform(-100, 100, self.n)\n",
    "        self.x2 = np.random.uniform(-100, 100, self.n)\n",
    "        self.y = np.sin(self.x1) * 5 + self.x2\n",
    "        self._batch_size = batch_size\n",
    "\n",
    "    def __len__(self):\n",
    "        return self.n // self._batch_size\n",
    "\n",
    "    def __getitem__(self, b_ix):\n",
    "        return {\n",
    "            \"i1\": self.x1[b_ix * self._batch_size : (1 + b_ix) * self._batch_size],\n",
    "            \"i2\": self.x2[b_ix * self._batch_size : (1 + b_ix) * self._batch_size],\n",
    "        }, self.y[b_ix * self._batch_size : (1 + b_ix) * self._batch_size]"
   ]
  },
  {
   "cell_type": "code",
   "execution_count": 15,
   "id": "effbabe0-83ac-49c9-bb4a-3f24a827401a",
   "metadata": {},
   "outputs": [],
   "source": [
    "g = G(batch_size=1024)"
   ]
  },
  {
   "cell_type": "code",
   "execution_count": 16,
   "id": "8d787722-c6ed-41a5-b998-0ef666d63565",
   "metadata": {},
   "outputs": [
    {
     "data": {
      "text/plain": [
       "({'i1': array([ -2.84293112,  63.66532162, -89.96389979, ...,   9.85189386,\n",
       "         -50.96743751,  21.35211341]),\n",
       "  'i2': array([ 97.33937521,  21.44461683,  11.04136527, ...,  57.99600805,\n",
       "         -47.53428496,  25.77614645])},\n",
       " array([ 95.86816892,  25.14595566,   6.49343413, ...,  55.92477043,\n",
       "        -50.76284379,  28.7582528 ]))"
      ]
     },
     "execution_count": 16,
     "metadata": {},
     "output_type": "execute_result"
    }
   ],
   "source": [
    "g.__getitem__(0)"
   ]
  },
  {
   "cell_type": "code",
   "execution_count": 23,
   "id": "0a6f0000-b073-4ab0-bfeb-0804e8a32edf",
   "metadata": {},
   "outputs": [
    {
     "name": "stdout",
     "output_type": "stream",
     "text": [
      "Epoch 1/10\n",
      "1000/1000 [==============================] - 3s 3ms/step - loss: 9.9206\n",
      "Epoch 2/10\n",
      "1000/1000 [==============================] - 3s 3ms/step - loss: 9.8743\n",
      "Epoch 3/10\n",
      "1000/1000 [==============================] - 3s 3ms/step - loss: 9.7987\n",
      "Epoch 4/10\n",
      "1000/1000 [==============================] - 3s 3ms/step - loss: 9.6961\n",
      "Epoch 5/10\n",
      "1000/1000 [==============================] - 3s 3ms/step - loss: 9.5749\n",
      "Epoch 6/10\n",
      "1000/1000 [==============================] - 3s 3ms/step - loss: 9.4861\n",
      "Epoch 7/10\n",
      "1000/1000 [==============================] - 3s 3ms/step - loss: 9.3750\n",
      "Epoch 8/10\n",
      "1000/1000 [==============================] - 3s 3ms/step - loss: 9.2994\n",
      "Epoch 9/10\n",
      "1000/1000 [==============================] - 3s 3ms/step - loss: 9.1835\n",
      "Epoch 10/10\n",
      "1000/1000 [==============================] - 3s 3ms/step - loss: 9.1122\n"
     ]
    },
    {
     "data": {
      "text/plain": [
       "<tensorflow.python.keras.callbacks.History at 0x7feccbb230d0>"
      ]
     },
     "execution_count": 23,
     "metadata": {},
     "output_type": "execute_result"
    }
   ],
   "source": [
    "m.fit(x=g, epochs=10)"
   ]
  },
  {
   "cell_type": "code",
   "execution_count": 24,
   "id": "1068f008-9ef8-4cb3-8608-e2caf6f0e537",
   "metadata": {},
   "outputs": [],
   "source": [
    "x1 = np.arange(-20, 20, 0.02)\n",
    "x2 = np.arange(-20, 20, 0.02)\n",
    "p = m.predict({\"i1\": x1, \"i2\": x2})\n",
    "y = np.sin(x1)*5 + x2"
   ]
  },
  {
   "cell_type": "code",
   "execution_count": 25,
   "id": "53cd2a75-17b9-4bbb-a254-bef4b9050351",
   "metadata": {},
   "outputs": [
    {
     "data": {
      "text/plain": [
       "[<matplotlib.lines.Line2D at 0x7feccb9e67f0>]"
      ]
     },
     "execution_count": 25,
     "metadata": {},
     "output_type": "execute_result"
    },
    {
     "data": {
      "image/png": "[encoded data removed]",
      "text/plain": [
       "<Figure size 432x288 with 1 Axes>"
      ]
     },
     "metadata": {
      "image/png": {
       "height": 248,
       "width": 377
      },
      "needs_background": "light"
     },
     "output_type": "display_data"
    }
   ],
   "source": [
    "plt.plot(p.flatten())\n",
    "plt.plot(y)"
   ]
  },
  {
   "cell_type": "code",
   "execution_count": 26,
   "id": "9a110d95-87da-4b5f-b1f3-401289eb158b",
   "metadata": {},
   "outputs": [
    {
     "ename": "AttributeError",
     "evalue": "module 'numpy' has no attribute 'astype'",
     "output_type": "error",
     "traceback": [
      "\u001b[0;31m\u001b[0m",
      "\u001b[0;31mAttributeError\u001b[0mTraceback (most recent call last)",
      "\u001b[0;32m<ipython-input-26-626782ef7f71>\u001b[0m in \u001b[0;36m<module>\u001b[0;34m\u001b[0m\n\u001b[0;32m----> 1\u001b[0;31m \u001b[0mnp\u001b[0m\u001b[0;34m.\u001b[0m\u001b[0mastype\u001b[0m\u001b[0;34m(\u001b[0m\u001b[0;36m1\u001b[0m\u001b[0;34m,\u001b[0m \u001b[0mnp\u001b[0m\u001b[0;34m.\u001b[0m\u001b[0mfloat16\u001b[0m\u001b[0;34m)\u001b[0m\u001b[0;34m\u001b[0m\u001b[0;34m\u001b[0m\u001b[0m\n\u001b[0m",
      "\u001b[0;32m/usr/local/lib/python3.8/dist-packages/numpy/__init__.py\u001b[0m in \u001b[0;36m__getattr__\u001b[0;34m(attr)\u001b[0m\n\u001b[1;32m    212\u001b[0m                 \u001b[0;32mreturn\u001b[0m \u001b[0mTester\u001b[0m\u001b[0;34m\u001b[0m\u001b[0;34m\u001b[0m\u001b[0m\n\u001b[1;32m    213\u001b[0m             \u001b[0;32melse\u001b[0m\u001b[0;34m:\u001b[0m\u001b[0;34m\u001b[0m\u001b[0;34m\u001b[0m\u001b[0m\n\u001b[0;32m--> 214\u001b[0;31m                 raise AttributeError(\"module {!r} has no attribute \"\n\u001b[0m\u001b[1;32m    215\u001b[0m                                      \"{!r}\".format(__name__, attr))\n\u001b[1;32m    216\u001b[0m \u001b[0;34m\u001b[0m\u001b[0m\n",
      "\u001b[0;31mAttributeError\u001b[0m: module 'numpy' has no attribute 'astype'"
     ]
    }
   ],
   "source": [
    "np.astype(1, np.float16)"
   ]
  },
  {
   "cell_type": "code",
   "execution_count": 32,
   "id": "a52266f0-e139-4af5-bdad-153ec76baa61",
   "metadata": {},
   "outputs": [
    {
     "data": {
      "text/plain": [
       "array(1, dtype=uint8)"
      ]
     },
     "execution_count": 32,
     "metadata": {},
     "output_type": "execute_result"
    }
   ],
   "source": [
    "a.astype(np.uint8)"
   ]
  },
  {
   "cell_type": "code",
   "execution_count": null,
   "id": "c876271b-e0b9-4e85-b55e-712db43d382e",
   "metadata": {},
   "outputs": [],
   "source": []
  }
 ],
 "metadata": {
  "kernelspec": {
   "display_name": "Python 3",
   "language": "python",
   "name": "python3"
  },
  "language_info": {
   "codemirror_mode": {
    "name": "ipython",
    "version": 3
   },
   "file_extension": ".py",
   "mimetype": "text/x-python",
   "name": "python",
   "nbconvert_exporter": "python",
   "pygments_lexer": "ipython3",
   "version": "3.8.5"
  }
 },
 "nbformat": 4,
 "nbformat_minor": 5
}
