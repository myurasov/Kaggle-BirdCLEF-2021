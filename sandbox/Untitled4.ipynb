{
 "cells": [
  {
   "cell_type": "code",
   "execution_count": 17,
   "id": "ede2b01e-2708-4269-9338-3d642ce59429",
   "metadata": {},
   "outputs": [],
   "source": [
    "import matplotlib.pyplot as plt\n",
    "import numpy as np\n",
    "import pandas as pd\n",
    "import tensorflow_addons as tfa\n",
    "from tensorflow import keras\n",
    "\n",
    "from lib.utils import *\n",
    "from src.config import c\n",
    "from src.data_utils import *\n",
    "from src.generator import Generator\n",
    "from src.geo_filter import filters as geo_filters\n",
    "from src.kaggle_utils import predict\n",
    "from src.models import custom_objects as models_custom_objects\n",
    "from src.services import *"
   ]
  },
  {
   "cell_type": "code",
   "execution_count": 18,
   "id": "cbe85d5d-8c18-42fb-a721-9d002383f1b3",
   "metadata": {},
   "outputs": [],
   "source": [
    "fix_random_seed(c[\"SEED\"])"
   ]
  },
  {
   "cell_type": "code",
   "execution_count": 19,
   "id": "f0165741-5be9-482b-8c32-96224a78e560",
   "metadata": {},
   "outputs": [],
   "source": [
    "DATASET = \"/app/_work/dataset-D.pickle\"\n",
    "VAL_SPLIT = 0.25\n",
    "MODEL = \"/app/_work/kaggle_models/D1_xae332.h5\""
   ]
  },
  {
   "cell_type": "code",
   "execution_count": 64,
   "id": "ab362d1f-f16d-4ff1-a97b-fdfbea8e4867",
   "metadata": {},
   "outputs": [],
   "source": [
    "df = pd.read_pickle(DATASET)\n",
    "df = df[df._source == \"long\"]"
   ]
  },
  {
   "cell_type": "code",
   "execution_count": 66,
   "id": "8776053c-ad6a-4c69-b1f5-71892e9c23af",
   "metadata": {},
   "outputs": [
    {
     "data": {
      "text/plain": [
       "2848"
      ]
     },
     "execution_count": 66,
     "metadata": {},
     "output_type": "execute_result"
    }
   ],
   "source": [
    "len(df)"
   ]
  },
  {
   "cell_type": "code",
   "execution_count": 60,
   "id": "9e521e59-3372-4758-8940-57cad2677855",
   "metadata": {},
   "outputs": [],
   "source": [
    "filenames = list(df[\"filename\"].unique())\n",
    "np.random.shuffle(filenames)\n",
    "filenames_tr = filenames[: int((1 - VAL_SPLIT) * len(filenames))]\n",
    "filenames_val = filenames[len(filenames_tr) :]"
   ]
  },
  {
   "cell_type": "code",
   "execution_count": 61,
   "id": "b03031c1-8daf-4e56-a4d7-32c3d83a06a7",
   "metadata": {},
   "outputs": [
    {
     "data": {
      "text/plain": [
       "(2183, 665)"
      ]
     },
     "execution_count": 61,
     "metadata": {},
     "output_type": "execute_result"
    }
   ],
   "source": [
    "df_tr = df.query(\"filename in @filenames_tr\")\n",
    "df_val = df.query(\"filename in @filenames_val\")\n",
    "len(df_tr), len(df_val)"
   ]
  },
  {
   "cell_type": "code",
   "execution_count": 62,
   "id": "8255fbe9-f735-447a-812f-aa2289183e08",
   "metadata": {},
   "outputs": [
    {
     "data": {
      "text/plain": [
       "True"
      ]
     },
     "execution_count": 62,
     "metadata": {},
     "output_type": "execute_result"
    }
   ],
   "source": [
    "set(list(df_tr['filename'].unique())) == set(filenames_tr)"
   ]
  },
  {
   "cell_type": "code",
   "execution_count": 63,
   "id": "76038833-e1e5-4b35-a099-b7a0dae8cc0d",
   "metadata": {},
   "outputs": [
    {
     "data": {
      "text/plain": [
       "True"
      ]
     },
     "execution_count": 63,
     "metadata": {},
     "output_type": "execute_result"
    }
   ],
   "source": [
    "set(list(df_val['filename'].unique())) == set(filenames_val)"
   ]
  },
  {
   "cell_type": "code",
   "execution_count": 7,
   "id": "daa3b2ae-0cb7-49a5-835f-acc216b6db91",
   "metadata": {},
   "outputs": [],
   "source": [
    "meta = read_json(MODEL.replace(\".h5\", \".json\"))"
   ]
  },
  {
   "cell_type": "code",
   "execution_count": 8,
   "id": "134df8d6-532f-4d04-ab83-bac734a145b1",
   "metadata": {},
   "outputs": [
    {
     "name": "stdout",
     "output_type": "stream",
     "text": [
      "INFO:tensorflow:Mixed precision compatibility check (mixed_float16): OK\n",
      "Your GPU will likely run quickly with dtype policy mixed_float16 as it has compute capability of at least 7.0. Your GPU: NVIDIA Tesla V100-DGXS-32GB, compute capability 7.0\n"
     ]
    }
   ],
   "source": [
    "model = keras.models.load_model(MODEL, custom_objects=models_custom_objects)"
   ]
  },
  {
   "cell_type": "code",
   "execution_count": 19,
   "id": "0acff1d5-b9a0-4b35-8705-58c1d2c4f057",
   "metadata": {},
   "outputs": [],
   "source": [
    "features_o = model.get_layer(\"features\").get_output_at(0)"
   ]
  },
  {
   "cell_type": "code",
   "execution_count": 22,
   "id": "7cc2680d-4724-4601-9695-1b9c3233a0e6",
   "metadata": {},
   "outputs": [],
   "source": [
    "model2 = keras.models.Model(inputs=model.inputs, outputs=[features_o] + model.outputs)"
   ]
  },
  {
   "cell_type": "code",
   "execution_count": null,
   "id": "1fa187b5-cf20-48d2-a310-3d9a3041a399",
   "metadata": {},
   "outputs": [],
   "source": []
  }
 ],
 "metadata": {
  "kernelspec": {
   "display_name": "Python 3",
   "language": "python",
   "name": "python3"
  },
  "language_info": {
   "codemirror_mode": {
    "name": "ipython",
    "version": 3
   },
   "file_extension": ".py",
   "mimetype": "text/x-python",
   "name": "python",
   "nbconvert_exporter": "python",
   "pygments_lexer": "ipython3",
   "version": "3.8.5"
  },
  "widgets": {
   "application/vnd.jupyter.widget-state+json": {
    "state": {},
    "version_major": 2,
    "version_minor": 0
   }
  }
 },
 "nbformat": 4,
 "nbformat_minor": 5
}
