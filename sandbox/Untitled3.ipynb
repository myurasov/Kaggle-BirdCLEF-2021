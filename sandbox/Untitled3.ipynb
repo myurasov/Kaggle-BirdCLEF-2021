{
 "cells": [
  {
   "cell_type": "code",
   "execution_count": 1,
   "id": "played-genome",
   "metadata": {},
   "outputs": [],
   "source": [
    "from lib.utils import save_keras_model\n",
    "from src.models import MSG_Model_Builder"
   ]
  },
  {
   "cell_type": "code",
   "execution_count": 2,
   "id": "higher-reality",
   "metadata": {},
   "outputs": [],
   "source": [
    "mb = MSG_Model_Builder(100, 'enb0')"
   ]
  },
  {
   "cell_type": "code",
   "execution_count": 3,
   "id": "hollywood-preference",
   "metadata": {},
   "outputs": [],
   "source": [
    "mb.build()"
   ]
  },
  {
   "cell_type": "code",
   "execution_count": 4,
   "id": "stunning-little",
   "metadata": {},
   "outputs": [],
   "source": [
    "save_keras_model(mb.model, 'model.png')"
   ]
  },
  {
   "cell_type": "code",
   "execution_count": null,
   "id": "remarkable-therapist",
   "metadata": {},
   "outputs": [],
   "source": []
  }
 ],
 "metadata": {
  "kernelspec": {
   "display_name": "Python 3",
   "language": "python",
   "name": "python3"
  },
  "language_info": {
   "codemirror_mode": {
    "name": "ipython",
    "version": 3
   },
   "file_extension": ".py",
   "mimetype": "text/x-python",
   "name": "python",
   "nbconvert_exporter": "python",
   "pygments_lexer": "ipython3",
   "version": "3.8.5"
  }
 },
 "nbformat": 4,
 "nbformat_minor": 5
}
