{
 "cells": [
  {
   "cell_type": "code",
   "execution_count": 1,
   "id": "meaning-polish",
   "metadata": {},
   "outputs": [],
   "source": [
    "from lib.utils import save_keras_model\n",
    "from src.models import MSG_Model_Builder"
   ]
  },
  {
   "cell_type": "code",
   "execution_count": 2,
   "id": "lovely-tuning",
   "metadata": {},
   "outputs": [],
   "source": [
    "mb = MSG_Model_Builder(100, \"enb0\")"
   ]
  },
  {
   "cell_type": "code",
   "execution_count": 3,
   "id": "durable-copper",
   "metadata": {},
   "outputs": [],
   "source": [
    "mb.build()"
   ]
  },
  {
   "cell_type": "code",
   "execution_count": 4,
   "id": "informative-surgeon",
   "metadata": {},
   "outputs": [],
   "source": [
    "save_keras_model(mb.model, \"model.png\")"
   ]
  },
  {
   "cell_type": "code",
   "execution_count": null,
   "id": "charged-tours",
   "metadata": {},
   "outputs": [],
   "source": []
  }
 ],
 "metadata": {
  "kernelspec": {
   "display_name": "Python 3",
   "language": "python",
   "name": "python3"
  },
  "language_info": {
   "codemirror_mode": {
    "name": "ipython",
    "version": 3
   },
   "file_extension": ".py",
   "mimetype": "text/x-python",
   "name": "python",
   "nbconvert_exporter": "python",
   "pygments_lexer": "ipython3",
   "version": "3.8.5"
  }
 },
 "nbformat": 4,
 "nbformat_minor": 5
}
