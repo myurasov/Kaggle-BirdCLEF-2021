{
 "cells": [
  {
   "cell_type": "code",
   "execution_count": null,
   "id": "2385eb26-2705-4628-b5f9-8f83da1ff048",
   "metadata": {},
   "outputs": [],
   "source": [
    "# ! pip install git+https://github.com/Rishit-dagli/Perceiver.git"
   ]
  },
  {
   "cell_type": "code",
   "execution_count": 1,
   "id": "bac6c729-162f-4c6b-874a-3e8d4023dfda",
   "metadata": {},
   "outputs": [],
   "source": [
    "import IPython\n",
    "import IPython.display as ipd\n",
    "import librosa\n",
    "import matplotlib.pyplot as plt\n",
    "import numpy as np\n",
    "import pandas as pd\n",
    "import tensorflow as tf\n",
    "import tensorflow_addons as tfa\n",
    "from perceiver import Perceiver\n",
    "from tensorflow import keras\n",
    "from tqdm import tqdm\n",
    "\n",
    "from lib.float2d_to_rgb_layer import Float2DToRGB\n",
    "from lib.melspectrogram_layer import MelSpectrogram\n",
    "from lib.power_to_db_layer import PowerToDb\n",
    "from lib.utils import float2d_to_rgb, save_keras_model\n",
    "from src.config import c\n",
    "from src.generator import Generator\n",
    "from src.services import get_msg_provider, get_wave_provider"
   ]
  },
  {
   "cell_type": "code",
   "execution_count": 2,
   "id": "bb08c9e8-5752-4706-83a0-bc6c0d9309a3",
   "metadata": {},
   "outputs": [],
   "source": [
    "wave_p = get_wave_provider(c)\n",
    "\n",
    "df = pd.read_pickle(\"/app/_work/dataset-C.pickle\")\n",
    "\n",
    "g = Generator(\n",
    "    df=df,\n",
    "    wave_provider=wave_p,\n",
    "    batch_size=1,\n",
    "    rating_as_sw=False,\n",
    "    rareness_as_sw=False,\n",
    ")"
   ]
  },
  {
   "cell_type": "code",
   "execution_count": 3,
   "id": "09da9e69-3f48-48a6-a957-07b589db177e",
   "metadata": {},
   "outputs": [],
   "source": [
    "N = 64000"
   ]
  },
  {
   "cell_type": "code",
   "execution_count": 4,
   "id": "bd3e0cfa-3561-42ef-baf3-9e5aa08918d6",
   "metadata": {},
   "outputs": [],
   "source": [
    "waves = np.zeros((N, 160000), dtype=np.float16)\n",
    "ys = np.zeros((N, 319), dtype=np.float16)"
   ]
  },
  {
   "cell_type": "code",
   "execution_count": 5,
   "id": "6eb78503-8c71-47b3-b0a6-ba4cde89a5dc",
   "metadata": {},
   "outputs": [
    {
     "name": "stderr",
     "output_type": "stream",
     "text": [
      "100%|██████████| 64000/64000 [05:01<00:00, 212.23it/s]\n"
     ]
    }
   ],
   "source": [
    "for i in tqdm(range(N)):\n",
    "    x, y, sw = g.__getitem__(i)\n",
    "    waves[i] = x[\"i_wave\"][0]\n",
    "    ys[i] = y[0]"
   ]
  },
  {
   "cell_type": "code",
   "execution_count": 8,
   "id": "53d607cb-74ee-41a2-bb17-11c6ece55c96",
   "metadata": {},
   "outputs": [],
   "source": [
    "waves = waves[..., np.newaxis]"
   ]
  },
  {
   "cell_type": "code",
   "execution_count": 9,
   "id": "90237fd6-e56f-4601-8547-d257f430af92",
   "metadata": {},
   "outputs": [
    {
     "data": {
      "text/plain": [
       "((64000, 160000, 1), (64000, 319))"
      ]
     },
     "execution_count": 9,
     "metadata": {},
     "output_type": "execute_result"
    }
   ],
   "source": [
    "waves.shape, ys.shape"
   ]
  },
  {
   "cell_type": "code",
   "execution_count": 7,
   "id": "5f459668-ae88-4bb5-8513-66b85145753f",
   "metadata": {},
   "outputs": [],
   "source": [
    "model = Perceiver(\n",
    "    input_channels=1,  # number of channels for each token of the input\n",
    "    input_axis=1,  # number of axis for input data (2 for images, 3 for video)\n",
    "    num_freq_bands=6,  # number of freq bands, with original value (2 * K + 1)\n",
    "    max_freq=10.0,  # maximum frequency, hyperparameter depending on how fine the data is\n",
    "    depth=6,  # depth of net\n",
    "    num_latents=256,  # number of latents\n",
    "    latent_dim=512,  # latent dimension\n",
    "    cross_heads=1,  # number of heads for cross attention. paper said 1\n",
    "    latent_heads=8,  # number of heads for latent self attention, 8\n",
    "    cross_dim_head=64,\n",
    "    latent_dim_head=64,\n",
    "    num_classes=ys.shape[1],\n",
    "    attn_dropout=0.0,\n",
    "    ff_dropout=0.0,\n",
    ")"
   ]
  },
  {
   "cell_type": "code",
   "execution_count": 10,
   "id": "2d12ffd9-1d57-4912-98ec-74c500f13760",
   "metadata": {},
   "outputs": [
    {
     "name": "stdout",
     "output_type": "stream",
     "text": [
      "WARNING:tensorflow:Model was constructed with shape (None, 512) for input KerasTensor(type_spec=TensorSpec(shape=(None, 512), dtype=tf.float32, name='dense_3_input'), name='dense_3_input', description=\"created by layer 'dense_3_input'\"), but it was called on an input with incompatible shape (1, 256, 512).\n",
      "WARNING:tensorflow:Model was constructed with shape (None, 512) for input KerasTensor(type_spec=TensorSpec(shape=(None, 512), dtype=tf.float32, name='dense_8_input'), name='dense_8_input', description=\"created by layer 'dense_8_input'\"), but it was called on an input with incompatible shape (1, 256, 512).\n",
      "WARNING:tensorflow:Model was constructed with shape (None, 512) for input KerasTensor(type_spec=TensorSpec(shape=(None, 512), dtype=tf.float32, name='dense_13_input'), name='dense_13_input', description=\"created by layer 'dense_13_input'\"), but it was called on an input with incompatible shape (1, 256, 512).\n",
      "WARNING:tensorflow:Model was constructed with shape (None, 512) for input KerasTensor(type_spec=TensorSpec(shape=(None, 512), dtype=tf.float32, name='dense_18_input'), name='dense_18_input', description=\"created by layer 'dense_18_input'\"), but it was called on an input with incompatible shape (1, 256, 512).\n",
      "WARNING:tensorflow:Model was constructed with shape (None, 512) for input KerasTensor(type_spec=TensorSpec(shape=(None, 512), dtype=tf.float32, name='dense_23_input'), name='dense_23_input', description=\"created by layer 'dense_23_input'\"), but it was called on an input with incompatible shape (1, 256, 512).\n",
      "WARNING:tensorflow:Model was constructed with shape (None, 512) for input KerasTensor(type_spec=TensorSpec(shape=(None, 512), dtype=tf.float32, name='dense_28_input'), name='dense_28_input', description=\"created by layer 'dense_28_input'\"), but it was called on an input with incompatible shape (1, 256, 512).\n",
      "WARNING:tensorflow:Model was constructed with shape (None, 512) for input KerasTensor(type_spec=TensorSpec(shape=(None, 512), dtype=tf.float32, name='dense_33_input'), name='dense_33_input', description=\"created by layer 'dense_33_input'\"), but it was called on an input with incompatible shape (1, 256, 512).\n",
      "WARNING:tensorflow:Model was constructed with shape (None, 512) for input KerasTensor(type_spec=TensorSpec(shape=(None, 512), dtype=tf.float32, name='dense_38_input'), name='dense_38_input', description=\"created by layer 'dense_38_input'\"), but it was called on an input with incompatible shape (1, 256, 512).\n",
      "WARNING:tensorflow:Model was constructed with shape (None, 512) for input KerasTensor(type_spec=TensorSpec(shape=(None, 512), dtype=tf.float32, name='dense_43_input'), name='dense_43_input', description=\"created by layer 'dense_43_input'\"), but it was called on an input with incompatible shape (1, 256, 512).\n",
      "WARNING:tensorflow:Model was constructed with shape (None, 512) for input KerasTensor(type_spec=TensorSpec(shape=(None, 512), dtype=tf.float32, name='dense_48_input'), name='dense_48_input', description=\"created by layer 'dense_48_input'\"), but it was called on an input with incompatible shape (1, 256, 512).\n",
      "WARNING:tensorflow:Model was constructed with shape (None, 512) for input KerasTensor(type_spec=TensorSpec(shape=(None, 512), dtype=tf.float32, name='dense_53_input'), name='dense_53_input', description=\"created by layer 'dense_53_input'\"), but it was called on an input with incompatible shape (1, 256, 512).\n",
      "WARNING:tensorflow:Model was constructed with shape (None, 512) for input KerasTensor(type_spec=TensorSpec(shape=(None, 512), dtype=tf.float32, name='dense_58_input'), name='dense_58_input', description=\"created by layer 'dense_58_input'\"), but it was called on an input with incompatible shape (1, 256, 512).\n"
     ]
    }
   ],
   "source": [
    "model(waves[0:1]);"
   ]
  },
  {
   "cell_type": "code",
   "execution_count": 11,
   "id": "3859bb98-18b8-44c5-8d27-a6d3165abdcc",
   "metadata": {},
   "outputs": [],
   "source": [
    "model.compile(\n",
    "    optimizer=tfa.optimizers.LAMB(),\n",
    "    loss=\"bce\",\n",
    "    metrics=[\n",
    "        tfa.metrics.F1Score(\n",
    "            num_classes=ys.shape[1],\n",
    "            threshold=0.5,\n",
    "            average=\"micro\",\n",
    "        ),\n",
    "    ],\n",
    ")"
   ]
  },
  {
   "cell_type": "code",
   "execution_count": 12,
   "id": "59ebe01d-f9a6-4883-af80-783e0a4df2a7",
   "metadata": {},
   "outputs": [
    {
     "name": "stdout",
     "output_type": "stream",
     "text": [
      "Epoch 1/10\n",
      "WARNING:tensorflow:Model was constructed with shape (None, 512) for input KerasTensor(type_spec=TensorSpec(shape=(None, 512), dtype=tf.float32, name='dense_3_input'), name='dense_3_input', description=\"created by layer 'dense_3_input'\"), but it was called on an input with incompatible shape (None, 256, 512).\n",
      "WARNING:tensorflow:Model was constructed with shape (None, 512) for input KerasTensor(type_spec=TensorSpec(shape=(None, 512), dtype=tf.float32, name='dense_8_input'), name='dense_8_input', description=\"created by layer 'dense_8_input'\"), but it was called on an input with incompatible shape (None, 256, 512).\n",
      "WARNING:tensorflow:Model was constructed with shape (None, 512) for input KerasTensor(type_spec=TensorSpec(shape=(None, 512), dtype=tf.float32, name='dense_13_input'), name='dense_13_input', description=\"created by layer 'dense_13_input'\"), but it was called on an input with incompatible shape (None, 256, 512).\n",
      "WARNING:tensorflow:Model was constructed with shape (None, 512) for input KerasTensor(type_spec=TensorSpec(shape=(None, 512), dtype=tf.float32, name='dense_18_input'), name='dense_18_input', description=\"created by layer 'dense_18_input'\"), but it was called on an input with incompatible shape (None, 256, 512).\n",
      "WARNING:tensorflow:Model was constructed with shape (None, 512) for input KerasTensor(type_spec=TensorSpec(shape=(None, 512), dtype=tf.float32, name='dense_23_input'), name='dense_23_input', description=\"created by layer 'dense_23_input'\"), but it was called on an input with incompatible shape (None, 256, 512).\n",
      "WARNING:tensorflow:Model was constructed with shape (None, 512) for input KerasTensor(type_spec=TensorSpec(shape=(None, 512), dtype=tf.float32, name='dense_28_input'), name='dense_28_input', description=\"created by layer 'dense_28_input'\"), but it was called on an input with incompatible shape (None, 256, 512).\n",
      "WARNING:tensorflow:Model was constructed with shape (None, 512) for input KerasTensor(type_spec=TensorSpec(shape=(None, 512), dtype=tf.float32, name='dense_33_input'), name='dense_33_input', description=\"created by layer 'dense_33_input'\"), but it was called on an input with incompatible shape (None, 256, 512).\n",
      "WARNING:tensorflow:Model was constructed with shape (None, 512) for input KerasTensor(type_spec=TensorSpec(shape=(None, 512), dtype=tf.float32, name='dense_38_input'), name='dense_38_input', description=\"created by layer 'dense_38_input'\"), but it was called on an input with incompatible shape (None, 256, 512).\n",
      "WARNING:tensorflow:Model was constructed with shape (None, 512) for input KerasTensor(type_spec=TensorSpec(shape=(None, 512), dtype=tf.float32, name='dense_43_input'), name='dense_43_input', description=\"created by layer 'dense_43_input'\"), but it was called on an input with incompatible shape (None, 256, 512).\n",
      "WARNING:tensorflow:Model was constructed with shape (None, 512) for input KerasTensor(type_spec=TensorSpec(shape=(None, 512), dtype=tf.float32, name='dense_48_input'), name='dense_48_input', description=\"created by layer 'dense_48_input'\"), but it was called on an input with incompatible shape (None, 256, 512).\n",
      "WARNING:tensorflow:Model was constructed with shape (None, 512) for input KerasTensor(type_spec=TensorSpec(shape=(None, 512), dtype=tf.float32, name='dense_53_input'), name='dense_53_input', description=\"created by layer 'dense_53_input'\"), but it was called on an input with incompatible shape (None, 256, 512).\n",
      "WARNING:tensorflow:Model was constructed with shape (None, 512) for input KerasTensor(type_spec=TensorSpec(shape=(None, 512), dtype=tf.float32, name='dense_58_input'), name='dense_58_input', description=\"created by layer 'dense_58_input'\"), but it was called on an input with incompatible shape (None, 256, 512).\n",
      "WARNING:tensorflow:Model was constructed with shape (None, 512) for input KerasTensor(type_spec=TensorSpec(shape=(None, 512), dtype=tf.float32, name='dense_3_input'), name='dense_3_input', description=\"created by layer 'dense_3_input'\"), but it was called on an input with incompatible shape (8, 256, 512).\n",
      "WARNING:tensorflow:Model was constructed with shape (None, 512) for input KerasTensor(type_spec=TensorSpec(shape=(None, 512), dtype=tf.float32, name='dense_8_input'), name='dense_8_input', description=\"created by layer 'dense_8_input'\"), but it was called on an input with incompatible shape (8, 256, 512).\n",
      "WARNING:tensorflow:Model was constructed with shape (None, 512) for input KerasTensor(type_spec=TensorSpec(shape=(None, 512), dtype=tf.float32, name='dense_13_input'), name='dense_13_input', description=\"created by layer 'dense_13_input'\"), but it was called on an input with incompatible shape (8, 256, 512).\n",
      "WARNING:tensorflow:Model was constructed with shape (None, 512) for input KerasTensor(type_spec=TensorSpec(shape=(None, 512), dtype=tf.float32, name='dense_18_input'), name='dense_18_input', description=\"created by layer 'dense_18_input'\"), but it was called on an input with incompatible shape (8, 256, 512).\n",
      "WARNING:tensorflow:Model was constructed with shape (None, 512) for input KerasTensor(type_spec=TensorSpec(shape=(None, 512), dtype=tf.float32, name='dense_23_input'), name='dense_23_input', description=\"created by layer 'dense_23_input'\"), but it was called on an input with incompatible shape (8, 256, 512).\n",
      "WARNING:tensorflow:Model was constructed with shape (None, 512) for input KerasTensor(type_spec=TensorSpec(shape=(None, 512), dtype=tf.float32, name='dense_28_input'), name='dense_28_input', description=\"created by layer 'dense_28_input'\"), but it was called on an input with incompatible shape (8, 256, 512).\n",
      "WARNING:tensorflow:Model was constructed with shape (None, 512) for input KerasTensor(type_spec=TensorSpec(shape=(None, 512), dtype=tf.float32, name='dense_33_input'), name='dense_33_input', description=\"created by layer 'dense_33_input'\"), but it was called on an input with incompatible shape (8, 256, 512).\n",
      "WARNING:tensorflow:Model was constructed with shape (None, 512) for input KerasTensor(type_spec=TensorSpec(shape=(None, 512), dtype=tf.float32, name='dense_38_input'), name='dense_38_input', description=\"created by layer 'dense_38_input'\"), but it was called on an input with incompatible shape (8, 256, 512).\n",
      "WARNING:tensorflow:Model was constructed with shape (None, 512) for input KerasTensor(type_spec=TensorSpec(shape=(None, 512), dtype=tf.float32, name='dense_43_input'), name='dense_43_input', description=\"created by layer 'dense_43_input'\"), but it was called on an input with incompatible shape (8, 256, 512).\n",
      "WARNING:tensorflow:Model was constructed with shape (None, 512) for input KerasTensor(type_spec=TensorSpec(shape=(None, 512), dtype=tf.float32, name='dense_48_input'), name='dense_48_input', description=\"created by layer 'dense_48_input'\"), but it was called on an input with incompatible shape (8, 256, 512).\n",
      "WARNING:tensorflow:Model was constructed with shape (None, 512) for input KerasTensor(type_spec=TensorSpec(shape=(None, 512), dtype=tf.float32, name='dense_53_input'), name='dense_53_input', description=\"created by layer 'dense_53_input'\"), but it was called on an input with incompatible shape (8, 256, 512).\n",
      "WARNING:tensorflow:Model was constructed with shape (None, 512) for input KerasTensor(type_spec=TensorSpec(shape=(None, 512), dtype=tf.float32, name='dense_58_input'), name='dense_58_input', description=\"created by layer 'dense_58_input'\"), but it was called on an input with incompatible shape (8, 256, 512).\n",
      "WARNING:tensorflow:Gradients do not exist for variables ['dense_2/kernel:0', 'dense_2/bias:0', 'dense_7/kernel:0', 'dense_7/bias:0', 'dense_12/kernel:0', 'dense_12/bias:0', 'dense_17/kernel:0', 'dense_17/bias:0', 'dense_22/kernel:0', 'dense_22/bias:0', 'dense_27/kernel:0', 'dense_27/bias:0', 'dense_32/kernel:0', 'dense_32/bias:0', 'dense_37/kernel:0', 'dense_37/bias:0', 'dense_42/kernel:0', 'dense_42/bias:0', 'dense_47/kernel:0', 'dense_47/bias:0', 'dense_52/kernel:0', 'dense_52/bias:0', 'dense_57/kernel:0', 'dense_57/bias:0'] when minimizing the loss.\n",
      "WARNING:tensorflow:Model was constructed with shape (None, 512) for input KerasTensor(type_spec=TensorSpec(shape=(None, 512), dtype=tf.float32, name='dense_3_input'), name='dense_3_input', description=\"created by layer 'dense_3_input'\"), but it was called on an input with incompatible shape (8, 256, 512).\n",
      "WARNING:tensorflow:Model was constructed with shape (None, 512) for input KerasTensor(type_spec=TensorSpec(shape=(None, 512), dtype=tf.float32, name='dense_8_input'), name='dense_8_input', description=\"created by layer 'dense_8_input'\"), but it was called on an input with incompatible shape (8, 256, 512).\n",
      "WARNING:tensorflow:Model was constructed with shape (None, 512) for input KerasTensor(type_spec=TensorSpec(shape=(None, 512), dtype=tf.float32, name='dense_13_input'), name='dense_13_input', description=\"created by layer 'dense_13_input'\"), but it was called on an input with incompatible shape (8, 256, 512).\n",
      "WARNING:tensorflow:Model was constructed with shape (None, 512) for input KerasTensor(type_spec=TensorSpec(shape=(None, 512), dtype=tf.float32, name='dense_18_input'), name='dense_18_input', description=\"created by layer 'dense_18_input'\"), but it was called on an input with incompatible shape (8, 256, 512).\n",
      "WARNING:tensorflow:Model was constructed with shape (None, 512) for input KerasTensor(type_spec=TensorSpec(shape=(None, 512), dtype=tf.float32, name='dense_23_input'), name='dense_23_input', description=\"created by layer 'dense_23_input'\"), but it was called on an input with incompatible shape (8, 256, 512).\n",
      "WARNING:tensorflow:Model was constructed with shape (None, 512) for input KerasTensor(type_spec=TensorSpec(shape=(None, 512), dtype=tf.float32, name='dense_28_input'), name='dense_28_input', description=\"created by layer 'dense_28_input'\"), but it was called on an input with incompatible shape (8, 256, 512).\n",
      "WARNING:tensorflow:Model was constructed with shape (None, 512) for input KerasTensor(type_spec=TensorSpec(shape=(None, 512), dtype=tf.float32, name='dense_33_input'), name='dense_33_input', description=\"created by layer 'dense_33_input'\"), but it was called on an input with incompatible shape (8, 256, 512).\n",
      "WARNING:tensorflow:Model was constructed with shape (None, 512) for input KerasTensor(type_spec=TensorSpec(shape=(None, 512), dtype=tf.float32, name='dense_38_input'), name='dense_38_input', description=\"created by layer 'dense_38_input'\"), but it was called on an input with incompatible shape (8, 256, 512).\n",
      "WARNING:tensorflow:Model was constructed with shape (None, 512) for input KerasTensor(type_spec=TensorSpec(shape=(None, 512), dtype=tf.float32, name='dense_43_input'), name='dense_43_input', description=\"created by layer 'dense_43_input'\"), but it was called on an input with incompatible shape (8, 256, 512).\n",
      "WARNING:tensorflow:Model was constructed with shape (None, 512) for input KerasTensor(type_spec=TensorSpec(shape=(None, 512), dtype=tf.float32, name='dense_48_input'), name='dense_48_input', description=\"created by layer 'dense_48_input'\"), but it was called on an input with incompatible shape (8, 256, 512).\n",
      "WARNING:tensorflow:Model was constructed with shape (None, 512) for input KerasTensor(type_spec=TensorSpec(shape=(None, 512), dtype=tf.float32, name='dense_53_input'), name='dense_53_input', description=\"created by layer 'dense_53_input'\"), but it was called on an input with incompatible shape (8, 256, 512).\n",
      "WARNING:tensorflow:Model was constructed with shape (None, 512) for input KerasTensor(type_spec=TensorSpec(shape=(None, 512), dtype=tf.float32, name='dense_58_input'), name='dense_58_input', description=\"created by layer 'dense_58_input'\"), but it was called on an input with incompatible shape (8, 256, 512).\n",
      "WARNING:tensorflow:Gradients do not exist for variables ['dense_2/kernel:0', 'dense_2/bias:0', 'dense_7/kernel:0', 'dense_7/bias:0', 'dense_12/kernel:0', 'dense_12/bias:0', 'dense_17/kernel:0', 'dense_17/bias:0', 'dense_22/kernel:0', 'dense_22/bias:0', 'dense_27/kernel:0', 'dense_27/bias:0', 'dense_32/kernel:0', 'dense_32/bias:0', 'dense_37/kernel:0', 'dense_37/bias:0', 'dense_42/kernel:0', 'dense_42/bias:0', 'dense_47/kernel:0', 'dense_47/bias:0', 'dense_52/kernel:0', 'dense_52/bias:0', 'dense_57/kernel:0', 'dense_57/bias:0'] when minimizing the loss.\n",
      "6400/6400 [==============================] - ETA: 0s - loss: 0.2708 - f1_score: 0.0136WARNING:tensorflow:Model was constructed with shape (None, 512) for input KerasTensor(type_spec=TensorSpec(shape=(None, 512), dtype=tf.float32, name='dense_3_input'), name='dense_3_input', description=\"created by layer 'dense_3_input'\"), but it was called on an input with incompatible shape (8, 256, 512).\n",
      "WARNING:tensorflow:Model was constructed with shape (None, 512) for input KerasTensor(type_spec=TensorSpec(shape=(None, 512), dtype=tf.float32, name='dense_8_input'), name='dense_8_input', description=\"created by layer 'dense_8_input'\"), but it was called on an input with incompatible shape (8, 256, 512).\n",
      "WARNING:tensorflow:Model was constructed with shape (None, 512) for input KerasTensor(type_spec=TensorSpec(shape=(None, 512), dtype=tf.float32, name='dense_13_input'), name='dense_13_input', description=\"created by layer 'dense_13_input'\"), but it was called on an input with incompatible shape (8, 256, 512).\n",
      "WARNING:tensorflow:Model was constructed with shape (None, 512) for input KerasTensor(type_spec=TensorSpec(shape=(None, 512), dtype=tf.float32, name='dense_18_input'), name='dense_18_input', description=\"created by layer 'dense_18_input'\"), but it was called on an input with incompatible shape (8, 256, 512).\n",
      "WARNING:tensorflow:Model was constructed with shape (None, 512) for input KerasTensor(type_spec=TensorSpec(shape=(None, 512), dtype=tf.float32, name='dense_23_input'), name='dense_23_input', description=\"created by layer 'dense_23_input'\"), but it was called on an input with incompatible shape (8, 256, 512).\n",
      "WARNING:tensorflow:Model was constructed with shape (None, 512) for input KerasTensor(type_spec=TensorSpec(shape=(None, 512), dtype=tf.float32, name='dense_28_input'), name='dense_28_input', description=\"created by layer 'dense_28_input'\"), but it was called on an input with incompatible shape (8, 256, 512).\n",
      "WARNING:tensorflow:Model was constructed with shape (None, 512) for input KerasTensor(type_spec=TensorSpec(shape=(None, 512), dtype=tf.float32, name='dense_33_input'), name='dense_33_input', description=\"created by layer 'dense_33_input'\"), but it was called on an input with incompatible shape (8, 256, 512).\n",
      "WARNING:tensorflow:Model was constructed with shape (None, 512) for input KerasTensor(type_spec=TensorSpec(shape=(None, 512), dtype=tf.float32, name='dense_38_input'), name='dense_38_input', description=\"created by layer 'dense_38_input'\"), but it was called on an input with incompatible shape (8, 256, 512).\n",
      "WARNING:tensorflow:Model was constructed with shape (None, 512) for input KerasTensor(type_spec=TensorSpec(shape=(None, 512), dtype=tf.float32, name='dense_43_input'), name='dense_43_input', description=\"created by layer 'dense_43_input'\"), but it was called on an input with incompatible shape (8, 256, 512).\n",
      "WARNING:tensorflow:Model was constructed with shape (None, 512) for input KerasTensor(type_spec=TensorSpec(shape=(None, 512), dtype=tf.float32, name='dense_48_input'), name='dense_48_input', description=\"created by layer 'dense_48_input'\"), but it was called on an input with incompatible shape (8, 256, 512).\n",
      "WARNING:tensorflow:Model was constructed with shape (None, 512) for input KerasTensor(type_spec=TensorSpec(shape=(None, 512), dtype=tf.float32, name='dense_53_input'), name='dense_53_input', description=\"created by layer 'dense_53_input'\"), but it was called on an input with incompatible shape (8, 256, 512).\n",
      "WARNING:tensorflow:Model was constructed with shape (None, 512) for input KerasTensor(type_spec=TensorSpec(shape=(None, 512), dtype=tf.float32, name='dense_58_input'), name='dense_58_input', description=\"created by layer 'dense_58_input'\"), but it was called on an input with incompatible shape (8, 256, 512).\n",
      "6400/6400 [==============================] - 593s 89ms/step - loss: 0.2708 - f1_score: 0.0136 - val_loss: 0.3893 - val_f1_score: 0.0152\n",
      "Epoch 2/10\n",
      "6400/6400 [==============================] - 555s 87ms/step - loss: 0.3977 - f1_score: 0.0149 - val_loss: 0.4369 - val_f1_score: 0.0139\n",
      "Epoch 3/10\n",
      "6400/6400 [==============================] - 554s 87ms/step - loss: 0.4363 - f1_score: 0.0139 - val_loss: 0.4369 - val_f1_score: 0.0139\n",
      "Epoch 4/10\n",
      "6400/6400 [==============================] - 555s 87ms/step - loss: 0.4363 - f1_score: 0.0140 - val_loss: 0.4369 - val_f1_score: 0.0139\n",
      "Epoch 5/10\n",
      " 193/6400 [..............................] - ETA: 8:21 - loss: 0.4349 - f1_score: 0.0149"
     ]
    },
    {
     "ename": "KeyboardInterrupt",
     "evalue": "",
     "output_type": "error",
     "traceback": [
      "\u001b[0;31m\u001b[0m",
      "\u001b[0;31mKeyboardInterrupt\u001b[0mTraceback (most recent call last)",
      "\u001b[0;32m<ipython-input-12-978f843ad84f>\u001b[0m in \u001b[0;36m<module>\u001b[0;34m\u001b[0m\n\u001b[0;32m----> 1\u001b[0;31m \u001b[0mmodel\u001b[0m\u001b[0;34m.\u001b[0m\u001b[0mfit\u001b[0m\u001b[0;34m(\u001b[0m\u001b[0mx\u001b[0m\u001b[0;34m=\u001b[0m\u001b[0mwaves\u001b[0m\u001b[0;34m,\u001b[0m \u001b[0my\u001b[0m\u001b[0;34m=\u001b[0m\u001b[0mys\u001b[0m\u001b[0;34m,\u001b[0m \u001b[0mbatch_size\u001b[0m\u001b[0;34m=\u001b[0m\u001b[0;36m8\u001b[0m\u001b[0;34m,\u001b[0m \u001b[0mverbose\u001b[0m\u001b[0;34m=\u001b[0m\u001b[0;36m1\u001b[0m\u001b[0;34m,\u001b[0m \u001b[0mvalidation_split\u001b[0m\u001b[0;34m=\u001b[0m\u001b[0;36m0.2\u001b[0m\u001b[0;34m,\u001b[0m \u001b[0mepochs\u001b[0m\u001b[0;34m=\u001b[0m\u001b[0;36m10\u001b[0m\u001b[0;34m)\u001b[0m\u001b[0;34m\u001b[0m\u001b[0;34m\u001b[0m\u001b[0m\n\u001b[0m",
      "\u001b[0;32m/usr/local/lib/python3.8/dist-packages/tensorflow/python/keras/engine/training.py\u001b[0m in \u001b[0;36mfit\u001b[0;34m(self, x, y, batch_size, epochs, verbose, callbacks, validation_split, validation_data, shuffle, class_weight, sample_weight, initial_epoch, steps_per_epoch, validation_steps, validation_batch_size, validation_freq, max_queue_size, workers, use_multiprocessing)\u001b[0m\n\u001b[1;32m   1098\u001b[0m                 _r=1):\n\u001b[1;32m   1099\u001b[0m               \u001b[0mcallbacks\u001b[0m\u001b[0;34m.\u001b[0m\u001b[0mon_train_batch_begin\u001b[0m\u001b[0;34m(\u001b[0m\u001b[0mstep\u001b[0m\u001b[0;34m)\u001b[0m\u001b[0;34m\u001b[0m\u001b[0;34m\u001b[0m\u001b[0m\n\u001b[0;32m-> 1100\u001b[0;31m               \u001b[0mtmp_logs\u001b[0m \u001b[0;34m=\u001b[0m \u001b[0mself\u001b[0m\u001b[0;34m.\u001b[0m\u001b[0mtrain_function\u001b[0m\u001b[0;34m(\u001b[0m\u001b[0miterator\u001b[0m\u001b[0;34m)\u001b[0m\u001b[0;34m\u001b[0m\u001b[0;34m\u001b[0m\u001b[0m\n\u001b[0m\u001b[1;32m   1101\u001b[0m               \u001b[0;32mif\u001b[0m \u001b[0mdata_handler\u001b[0m\u001b[0;34m.\u001b[0m\u001b[0mshould_sync\u001b[0m\u001b[0;34m:\u001b[0m\u001b[0;34m\u001b[0m\u001b[0;34m\u001b[0m\u001b[0m\n\u001b[1;32m   1102\u001b[0m                 \u001b[0mcontext\u001b[0m\u001b[0;34m.\u001b[0m\u001b[0masync_wait\u001b[0m\u001b[0;34m(\u001b[0m\u001b[0;34m)\u001b[0m\u001b[0;34m\u001b[0m\u001b[0;34m\u001b[0m\u001b[0m\n",
      "\u001b[0;32m/usr/local/lib/python3.8/dist-packages/tensorflow/python/eager/def_function.py\u001b[0m in \u001b[0;36m__call__\u001b[0;34m(self, *args, **kwds)\u001b[0m\n\u001b[1;32m    826\u001b[0m     \u001b[0mtracing_count\u001b[0m \u001b[0;34m=\u001b[0m \u001b[0mself\u001b[0m\u001b[0;34m.\u001b[0m\u001b[0mexperimental_get_tracing_count\u001b[0m\u001b[0;34m(\u001b[0m\u001b[0;34m)\u001b[0m\u001b[0;34m\u001b[0m\u001b[0;34m\u001b[0m\u001b[0m\n\u001b[1;32m    827\u001b[0m     \u001b[0;32mwith\u001b[0m \u001b[0mtrace\u001b[0m\u001b[0;34m.\u001b[0m\u001b[0mTrace\u001b[0m\u001b[0;34m(\u001b[0m\u001b[0mself\u001b[0m\u001b[0;34m.\u001b[0m\u001b[0m_name\u001b[0m\u001b[0;34m)\u001b[0m \u001b[0;32mas\u001b[0m \u001b[0mtm\u001b[0m\u001b[0;34m:\u001b[0m\u001b[0;34m\u001b[0m\u001b[0;34m\u001b[0m\u001b[0m\n\u001b[0;32m--> 828\u001b[0;31m       \u001b[0mresult\u001b[0m \u001b[0;34m=\u001b[0m \u001b[0mself\u001b[0m\u001b[0;34m.\u001b[0m\u001b[0m_call\u001b[0m\u001b[0;34m(\u001b[0m\u001b[0;34m*\u001b[0m\u001b[0margs\u001b[0m\u001b[0;34m,\u001b[0m \u001b[0;34m**\u001b[0m\u001b[0mkwds\u001b[0m\u001b[0;34m)\u001b[0m\u001b[0;34m\u001b[0m\u001b[0;34m\u001b[0m\u001b[0m\n\u001b[0m\u001b[1;32m    829\u001b[0m       \u001b[0mcompiler\u001b[0m \u001b[0;34m=\u001b[0m \u001b[0;34m\"xla\"\u001b[0m \u001b[0;32mif\u001b[0m \u001b[0mself\u001b[0m\u001b[0;34m.\u001b[0m\u001b[0m_experimental_compile\u001b[0m \u001b[0;32melse\u001b[0m \u001b[0;34m\"nonXla\"\u001b[0m\u001b[0;34m\u001b[0m\u001b[0;34m\u001b[0m\u001b[0m\n\u001b[1;32m    830\u001b[0m       \u001b[0mnew_tracing_count\u001b[0m \u001b[0;34m=\u001b[0m \u001b[0mself\u001b[0m\u001b[0;34m.\u001b[0m\u001b[0mexperimental_get_tracing_count\u001b[0m\u001b[0;34m(\u001b[0m\u001b[0;34m)\u001b[0m\u001b[0;34m\u001b[0m\u001b[0;34m\u001b[0m\u001b[0m\n",
      "\u001b[0;32m/usr/local/lib/python3.8/dist-packages/tensorflow/python/eager/def_function.py\u001b[0m in \u001b[0;36m_call\u001b[0;34m(self, *args, **kwds)\u001b[0m\n\u001b[1;32m    853\u001b[0m       \u001b[0;31m# In this case we have created variables on the first call, so we run the\u001b[0m\u001b[0;34m\u001b[0m\u001b[0;34m\u001b[0m\u001b[0;34m\u001b[0m\u001b[0m\n\u001b[1;32m    854\u001b[0m       \u001b[0;31m# defunned version which is guaranteed to never create variables.\u001b[0m\u001b[0;34m\u001b[0m\u001b[0;34m\u001b[0m\u001b[0;34m\u001b[0m\u001b[0m\n\u001b[0;32m--> 855\u001b[0;31m       \u001b[0;32mreturn\u001b[0m \u001b[0mself\u001b[0m\u001b[0;34m.\u001b[0m\u001b[0m_stateless_fn\u001b[0m\u001b[0;34m(\u001b[0m\u001b[0;34m*\u001b[0m\u001b[0margs\u001b[0m\u001b[0;34m,\u001b[0m \u001b[0;34m**\u001b[0m\u001b[0mkwds\u001b[0m\u001b[0;34m)\u001b[0m  \u001b[0;31m# pylint: disable=not-callable\u001b[0m\u001b[0;34m\u001b[0m\u001b[0;34m\u001b[0m\u001b[0m\n\u001b[0m\u001b[1;32m    856\u001b[0m     \u001b[0;32melif\u001b[0m \u001b[0mself\u001b[0m\u001b[0;34m.\u001b[0m\u001b[0m_stateful_fn\u001b[0m \u001b[0;32mis\u001b[0m \u001b[0;32mnot\u001b[0m \u001b[0;32mNone\u001b[0m\u001b[0;34m:\u001b[0m\u001b[0;34m\u001b[0m\u001b[0;34m\u001b[0m\u001b[0m\n\u001b[1;32m    857\u001b[0m       \u001b[0;31m# Release the lock early so that multiple threads can perform the call\u001b[0m\u001b[0;34m\u001b[0m\u001b[0;34m\u001b[0m\u001b[0;34m\u001b[0m\u001b[0m\n",
      "\u001b[0;32m/usr/local/lib/python3.8/dist-packages/tensorflow/python/eager/function.py\u001b[0m in \u001b[0;36m__call__\u001b[0;34m(self, *args, **kwargs)\u001b[0m\n\u001b[1;32m   2940\u001b[0m       (graph_function,\n\u001b[1;32m   2941\u001b[0m        filtered_flat_args) = self._maybe_define_function(args, kwargs)\n\u001b[0;32m-> 2942\u001b[0;31m     return graph_function._call_flat(\n\u001b[0m\u001b[1;32m   2943\u001b[0m         filtered_flat_args, captured_inputs=graph_function.captured_inputs)  # pylint: disable=protected-access\n\u001b[1;32m   2944\u001b[0m \u001b[0;34m\u001b[0m\u001b[0m\n",
      "\u001b[0;32m/usr/local/lib/python3.8/dist-packages/tensorflow/python/eager/function.py\u001b[0m in \u001b[0;36m_call_flat\u001b[0;34m(self, args, captured_inputs, cancellation_manager)\u001b[0m\n\u001b[1;32m   1916\u001b[0m         and executing_eagerly):\n\u001b[1;32m   1917\u001b[0m       \u001b[0;31m# No tape is watching; skip to running the function.\u001b[0m\u001b[0;34m\u001b[0m\u001b[0;34m\u001b[0m\u001b[0;34m\u001b[0m\u001b[0m\n\u001b[0;32m-> 1918\u001b[0;31m       return self._build_call_outputs(self._inference_function.call(\n\u001b[0m\u001b[1;32m   1919\u001b[0m           ctx, args, cancellation_manager=cancellation_manager))\n\u001b[1;32m   1920\u001b[0m     forward_backward = self._select_forward_and_backward_functions(\n",
      "\u001b[0;32m/usr/local/lib/python3.8/dist-packages/tensorflow/python/eager/function.py\u001b[0m in \u001b[0;36mcall\u001b[0;34m(self, ctx, args, cancellation_manager)\u001b[0m\n\u001b[1;32m    553\u001b[0m       \u001b[0;32mwith\u001b[0m \u001b[0m_InterpolateFunctionError\u001b[0m\u001b[0;34m(\u001b[0m\u001b[0mself\u001b[0m\u001b[0;34m)\u001b[0m\u001b[0;34m:\u001b[0m\u001b[0;34m\u001b[0m\u001b[0;34m\u001b[0m\u001b[0m\n\u001b[1;32m    554\u001b[0m         \u001b[0;32mif\u001b[0m \u001b[0mcancellation_manager\u001b[0m \u001b[0;32mis\u001b[0m \u001b[0;32mNone\u001b[0m\u001b[0;34m:\u001b[0m\u001b[0;34m\u001b[0m\u001b[0;34m\u001b[0m\u001b[0m\n\u001b[0;32m--> 555\u001b[0;31m           outputs = execute.execute(\n\u001b[0m\u001b[1;32m    556\u001b[0m               \u001b[0mstr\u001b[0m\u001b[0;34m(\u001b[0m\u001b[0mself\u001b[0m\u001b[0;34m.\u001b[0m\u001b[0msignature\u001b[0m\u001b[0;34m.\u001b[0m\u001b[0mname\u001b[0m\u001b[0;34m)\u001b[0m\u001b[0;34m,\u001b[0m\u001b[0;34m\u001b[0m\u001b[0;34m\u001b[0m\u001b[0m\n\u001b[1;32m    557\u001b[0m               \u001b[0mnum_outputs\u001b[0m\u001b[0;34m=\u001b[0m\u001b[0mself\u001b[0m\u001b[0;34m.\u001b[0m\u001b[0m_num_outputs\u001b[0m\u001b[0;34m,\u001b[0m\u001b[0;34m\u001b[0m\u001b[0;34m\u001b[0m\u001b[0m\n",
      "\u001b[0;32m/usr/local/lib/python3.8/dist-packages/tensorflow/python/eager/execute.py\u001b[0m in \u001b[0;36mquick_execute\u001b[0;34m(op_name, num_outputs, inputs, attrs, ctx, name)\u001b[0m\n\u001b[1;32m     57\u001b[0m   \u001b[0;32mtry\u001b[0m\u001b[0;34m:\u001b[0m\u001b[0;34m\u001b[0m\u001b[0;34m\u001b[0m\u001b[0m\n\u001b[1;32m     58\u001b[0m     \u001b[0mctx\u001b[0m\u001b[0;34m.\u001b[0m\u001b[0mensure_initialized\u001b[0m\u001b[0;34m(\u001b[0m\u001b[0;34m)\u001b[0m\u001b[0;34m\u001b[0m\u001b[0;34m\u001b[0m\u001b[0m\n\u001b[0;32m---> 59\u001b[0;31m     tensors = pywrap_tfe.TFE_Py_Execute(ctx._handle, device_name, op_name,\n\u001b[0m\u001b[1;32m     60\u001b[0m                                         inputs, attrs, num_outputs)\n\u001b[1;32m     61\u001b[0m   \u001b[0;32mexcept\u001b[0m \u001b[0mcore\u001b[0m\u001b[0;34m.\u001b[0m\u001b[0m_NotOkStatusException\u001b[0m \u001b[0;32mas\u001b[0m \u001b[0me\u001b[0m\u001b[0;34m:\u001b[0m\u001b[0;34m\u001b[0m\u001b[0;34m\u001b[0m\u001b[0m\n",
      "\u001b[0;31mKeyboardInterrupt\u001b[0m: "
     ]
    }
   ],
   "source": [
    "model.fit(x=waves, y=ys, batch_size=8, verbose=1, validation_split=0.2, epochs=10)"
   ]
  },
  {
   "cell_type": "code",
   "execution_count": null,
   "id": "af365ada-d024-4dd3-bfae-774d05157068",
   "metadata": {},
   "outputs": [],
   "source": []
  }
 ],
 "metadata": {
  "kernelspec": {
   "display_name": "Python 3",
   "language": "python",
   "name": "python3"
  },
  "language_info": {
   "codemirror_mode": {
    "name": "ipython",
    "version": 3
   },
   "file_extension": ".py",
   "mimetype": "text/x-python",
   "name": "python",
   "nbconvert_exporter": "python",
   "pygments_lexer": "ipython3",
   "version": "3.8.5"
  },
  "widgets": {
   "application/vnd.jupyter.widget-state+json": {
    "state": {},
    "version_major": 2,
    "version_minor": 0
   }
  }
 },
 "nbformat": 4,
 "nbformat_minor": 5
}
