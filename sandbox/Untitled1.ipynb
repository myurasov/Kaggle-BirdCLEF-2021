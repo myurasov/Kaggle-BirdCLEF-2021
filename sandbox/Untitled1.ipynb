{
 "cells": [
  {
   "cell_type": "code",
   "execution_count": 28,
   "id": "dimensional-circular",
   "metadata": {},
   "outputs": [],
   "source": [
    "import numpy as np\n",
    "from tensorflow import keras\n",
    "\n",
    "from lib.utils import show_keras_model"
   ]
  },
  {
   "cell_type": "code",
   "execution_count": 52,
   "id": "curious-event",
   "metadata": {},
   "outputs": [],
   "source": [
    "i1 = keras.layers.Input(shape=(1,), name=\"i1\")\n",
    "i2 = keras.layers.Input(shape=(1,), name=\"i2\")\n",
    "x = keras.layers.Concatenate()([i1, i2])\n",
    "o = keras.layers.Dense(32)(x)"
   ]
  },
  {
   "cell_type": "code",
   "execution_count": 12,
   "id": "desirable-binary",
   "metadata": {},
   "outputs": [],
   "source": [
    "m = keras.models.Model(inputs=[i1, i2], outputs=[o])"
   ]
  },
  {
   "cell_type": "code",
   "execution_count": 13,
   "id": "monetary-russian",
   "metadata": {},
   "outputs": [
    {
     "data": {
      "image/svg+xml": [
       "<svg xmlns=\"http://www.w3.org/2000/svg\" xmlns:xlink=\"http://www.w3.org/1999/xlink\" width=\"955pt\" height=\"295pt\" viewBox=\"0.00 0.00 716.00 221.00\">\n",
       "<g id=\"graph0\" class=\"graph\" transform=\"scale(0.75 0.75) rotate(0) translate(4 217)\">\n",
       "<title>G</title>\n",
       "<polygon fill=\"white\" stroke=\"transparent\" points=\"-4,4 -4,-217 712,-217 712,4 -4,4\"/>\n",
       "<!-- 139745373118720 -->\n",
       "<g id=\"node1\" class=\"node\">\n",
       "<title>139745373118720</title>\n",
       "<polygon fill=\"none\" stroke=\"black\" points=\"0,-166.5 0,-212.5 345,-212.5 345,-166.5 0,-166.5\"/>\n",
       "<text text-anchor=\"middle\" x=\"59\" y=\"-185.8\" font-family=\"Times,serif\" font-size=\"14.00\">i1: InputLayer</text>\n",
       "<polyline fill=\"none\" stroke=\"black\" points=\"118,-166.5 118,-212.5 \"/>\n",
       "<text text-anchor=\"middle\" x=\"151\" y=\"-185.8\" font-family=\"Times,serif\" font-size=\"14.00\">float32</text>\n",
       "<polyline fill=\"none\" stroke=\"black\" points=\"184,-166.5 184,-212.5 \"/>\n",
       "<text text-anchor=\"middle\" x=\"218\" y=\"-197.3\" font-family=\"Times,serif\" font-size=\"14.00\">input:</text>\n",
       "<polyline fill=\"none\" stroke=\"black\" points=\"184,-189.5 252,-189.5 \"/>\n",
       "<text text-anchor=\"middle\" x=\"218\" y=\"-174.3\" font-family=\"Times,serif\" font-size=\"14.00\">output:</text>\n",
       "<polyline fill=\"none\" stroke=\"black\" points=\"252,-166.5 252,-212.5 \"/>\n",
       "<text text-anchor=\"middle\" x=\"298.5\" y=\"-197.3\" font-family=\"Times,serif\" font-size=\"14.00\">[(None, 1)]</text>\n",
       "<polyline fill=\"none\" stroke=\"black\" points=\"252,-189.5 345,-189.5 \"/>\n",
       "<text text-anchor=\"middle\" x=\"298.5\" y=\"-174.3\" font-family=\"Times,serif\" font-size=\"14.00\">[(None, 1)]</text>\n",
       "</g>\n",
       "<!-- 139745373118912 -->\n",
       "<g id=\"node3\" class=\"node\">\n",
       "<title>139745373118912</title>\n",
       "<polygon fill=\"none\" stroke=\"black\" points=\"94,-83.5 94,-129.5 613,-129.5 613,-83.5 94,-83.5\"/>\n",
       "<text text-anchor=\"middle\" x=\"202.5\" y=\"-102.8\" font-family=\"Times,serif\" font-size=\"14.00\">concatenate_1: Concatenate</text>\n",
       "<polyline fill=\"none\" stroke=\"black\" points=\"311,-83.5 311,-129.5 \"/>\n",
       "<text text-anchor=\"middle\" x=\"344\" y=\"-102.8\" font-family=\"Times,serif\" font-size=\"14.00\">float32</text>\n",
       "<polyline fill=\"none\" stroke=\"black\" points=\"377,-83.5 377,-129.5 \"/>\n",
       "<text text-anchor=\"middle\" x=\"411\" y=\"-114.3\" font-family=\"Times,serif\" font-size=\"14.00\">input:</text>\n",
       "<polyline fill=\"none\" stroke=\"black\" points=\"377,-106.5 445,-106.5 \"/>\n",
       "<text text-anchor=\"middle\" x=\"411\" y=\"-91.3\" font-family=\"Times,serif\" font-size=\"14.00\">output:</text>\n",
       "<polyline fill=\"none\" stroke=\"black\" points=\"445,-83.5 445,-129.5 \"/>\n",
       "<text text-anchor=\"middle\" x=\"529\" y=\"-114.3\" font-family=\"Times,serif\" font-size=\"14.00\">[(None, 1), (None, 1)]</text>\n",
       "<polyline fill=\"none\" stroke=\"black\" points=\"445,-106.5 613,-106.5 \"/>\n",
       "<text text-anchor=\"middle\" x=\"529\" y=\"-91.3\" font-family=\"Times,serif\" font-size=\"14.00\">(None, 2)</text>\n",
       "</g>\n",
       "<!-- 139745373118720&#45;&gt;139745373118912 -->\n",
       "<g id=\"edge1\" class=\"edge\">\n",
       "<title>139745373118720-&gt;139745373118912</title>\n",
       "<path fill=\"none\" stroke=\"black\" d=\"M221.96,-166.37C244.51,-156.28 271.36,-144.26 294.91,-133.72\"/>\n",
       "<polygon fill=\"black\" stroke=\"black\" points=\"296.4,-136.89 304.1,-129.61 293.54,-130.5 296.4,-136.89\"/>\n",
       "</g>\n",
       "<!-- 139745373119680 -->\n",
       "<g id=\"node2\" class=\"node\">\n",
       "<title>139745373119680</title>\n",
       "<polygon fill=\"none\" stroke=\"black\" points=\"363,-166.5 363,-212.5 708,-212.5 708,-166.5 363,-166.5\"/>\n",
       "<text text-anchor=\"middle\" x=\"422\" y=\"-185.8\" font-family=\"Times,serif\" font-size=\"14.00\">i2: InputLayer</text>\n",
       "<polyline fill=\"none\" stroke=\"black\" points=\"481,-166.5 481,-212.5 \"/>\n",
       "<text text-anchor=\"middle\" x=\"514\" y=\"-185.8\" font-family=\"Times,serif\" font-size=\"14.00\">float32</text>\n",
       "<polyline fill=\"none\" stroke=\"black\" points=\"547,-166.5 547,-212.5 \"/>\n",
       "<text text-anchor=\"middle\" x=\"581\" y=\"-197.3\" font-family=\"Times,serif\" font-size=\"14.00\">input:</text>\n",
       "<polyline fill=\"none\" stroke=\"black\" points=\"547,-189.5 615,-189.5 \"/>\n",
       "<text text-anchor=\"middle\" x=\"581\" y=\"-174.3\" font-family=\"Times,serif\" font-size=\"14.00\">output:</text>\n",
       "<polyline fill=\"none\" stroke=\"black\" points=\"615,-166.5 615,-212.5 \"/>\n",
       "<text text-anchor=\"middle\" x=\"661.5\" y=\"-197.3\" font-family=\"Times,serif\" font-size=\"14.00\">[(None, 1)]</text>\n",
       "<polyline fill=\"none\" stroke=\"black\" points=\"615,-189.5 708,-189.5 \"/>\n",
       "<text text-anchor=\"middle\" x=\"661.5\" y=\"-174.3\" font-family=\"Times,serif\" font-size=\"14.00\">[(None, 1)]</text>\n",
       "</g>\n",
       "<!-- 139745373119680&#45;&gt;139745373118912 -->\n",
       "<g id=\"edge2\" class=\"edge\">\n",
       "<title>139745373119680-&gt;139745373118912</title>\n",
       "<path fill=\"none\" stroke=\"black\" d=\"M485.77,-166.37C463.1,-156.28 436.09,-144.26 412.41,-133.72\"/>\n",
       "<polygon fill=\"black\" stroke=\"black\" points=\"413.73,-130.48 403.17,-129.61 410.89,-136.87 413.73,-130.48\"/>\n",
       "</g>\n",
       "<!-- 139745372444656 -->\n",
       "<g id=\"node4\" class=\"node\">\n",
       "<title>139745372444656</title>\n",
       "<polygon fill=\"none\" stroke=\"black\" points=\"189,-0.5 189,-46.5 518,-46.5 518,-0.5 189,-0.5\"/>\n",
       "<text text-anchor=\"middle\" x=\"245\" y=\"-19.8\" font-family=\"Times,serif\" font-size=\"14.00\">dense: Dense</text>\n",
       "<polyline fill=\"none\" stroke=\"black\" points=\"301,-0.5 301,-46.5 \"/>\n",
       "<text text-anchor=\"middle\" x=\"334\" y=\"-19.8\" font-family=\"Times,serif\" font-size=\"14.00\">float32</text>\n",
       "<polyline fill=\"none\" stroke=\"black\" points=\"367,-0.5 367,-46.5 \"/>\n",
       "<text text-anchor=\"middle\" x=\"401\" y=\"-31.3\" font-family=\"Times,serif\" font-size=\"14.00\">input:</text>\n",
       "<polyline fill=\"none\" stroke=\"black\" points=\"367,-23.5 435,-23.5 \"/>\n",
       "<text text-anchor=\"middle\" x=\"401\" y=\"-8.3\" font-family=\"Times,serif\" font-size=\"14.00\">output:</text>\n",
       "<polyline fill=\"none\" stroke=\"black\" points=\"435,-0.5 435,-46.5 \"/>\n",
       "<text text-anchor=\"middle\" x=\"476.5\" y=\"-31.3\" font-family=\"Times,serif\" font-size=\"14.00\">(None, 2)</text>\n",
       "<polyline fill=\"none\" stroke=\"black\" points=\"435,-23.5 518,-23.5 \"/>\n",
       "<text text-anchor=\"middle\" x=\"476.5\" y=\"-8.3\" font-family=\"Times,serif\" font-size=\"14.00\">(None, 1)</text>\n",
       "</g>\n",
       "<!-- 139745373118912&#45;&gt;139745372444656 -->\n",
       "<g id=\"edge3\" class=\"edge\">\n",
       "<title>139745373118912-&gt;139745372444656</title>\n",
       "<path fill=\"none\" stroke=\"black\" d=\"M353.5,-83.37C353.5,-75.15 353.5,-65.66 353.5,-56.73\"/>\n",
       "<polygon fill=\"black\" stroke=\"black\" points=\"357,-56.61 353.5,-46.61 350,-56.61 357,-56.61\"/>\n",
       "</g>\n",
       "</g>\n",
       "</svg>"
      ],
      "text/plain": [
       "<IPython.core.display.SVG object>"
      ]
     },
     "execution_count": 13,
     "metadata": {},
     "output_type": "execute_result"
    }
   ],
   "source": [
    "show_keras_model(m)"
   ]
  },
  {
   "cell_type": "code",
   "execution_count": 53,
   "id": "capable-harris",
   "metadata": {},
   "outputs": [],
   "source": [
    "m.compile(optimizer=\"sgd\", loss=\"mae\")"
   ]
  },
  {
   "cell_type": "code",
   "execution_count": 64,
   "id": "respiratory-delta",
   "metadata": {},
   "outputs": [
    {
     "name": "stdout",
     "output_type": "stream",
     "text": [
      "1/1 [==============================] - 0s 3ms/step - loss: 0.0039\n"
     ]
    },
    {
     "data": {
      "text/plain": [
       "<tensorflow.python.keras.callbacks.History at 0x7f1b277536d0>"
      ]
     },
     "execution_count": 64,
     "metadata": {},
     "output_type": "execute_result"
    }
   ],
   "source": [
    "m.fit(x=[{\"i1\": np.array([1]), \"i2\": np.array([2])}], y=np.array([3]))"
   ]
  },
  {
   "cell_type": "code",
   "execution_count": null,
   "id": "infinite-viewer",
   "metadata": {},
   "outputs": [],
   "source": []
  }
 ],
 "metadata": {
  "kernelspec": {
   "display_name": "Python 3",
   "language": "python",
   "name": "python3"
  },
  "language_info": {
   "codemirror_mode": {
    "name": "ipython",
    "version": 3
   },
   "file_extension": ".py",
   "mimetype": "text/x-python",
   "name": "python",
   "nbconvert_exporter": "python",
   "pygments_lexer": "ipython3",
   "version": "3.8.5"
  }
 },
 "nbformat": 4,
 "nbformat_minor": 5
}
