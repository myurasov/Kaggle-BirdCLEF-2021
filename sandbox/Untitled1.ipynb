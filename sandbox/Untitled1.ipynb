{
 "cells": [
  {
   "cell_type": "code",
   "execution_count": 1,
   "id": "color-publication",
   "metadata": {},
   "outputs": [],
   "source": [
    "from glob import glob\n",
    "from multiprocessing import Pool, cpu_count\n",
    "\n",
    "import IPython.display as ipd\n",
    "import librosa\n",
    "import librosa.display\n",
    "import matplotlib.pyplot as plt\n",
    "import numpy as np\n",
    "import soundfile as sf\n",
    "import tensorflow as tf\n",
    "from tqdm import tqdm"
   ]
  },
  {
   "cell_type": "code",
   "execution_count": 2,
   "id": "experienced-banner",
   "metadata": {},
   "outputs": [],
   "source": [
    "SAMPLE_FILE = \"/app/_data/competition_data/train_short_audio/acafly/XC580740.ogg\"\n",
    "TARGET_LEN_S = 5"
   ]
  },
  {
   "cell_type": "code",
   "execution_count": 11,
   "id": "threaded-participation",
   "metadata": {},
   "outputs": [
    {
     "name": "stdout",
     "output_type": "stream",
     "text": [
      "x.shape=(110250,)\n",
      "x.dtype=dtype('float32')\n",
      "sr=22050\n"
     ]
    }
   ],
   "source": [
    "x, sr = librosa.load(SAMPLE_FILE)\n",
    "x = x[: TARGET_LEN_S * sr]\n",
    "print(f\"{x.shape=}\\n{x.dtype=}\\n{sr=}\")"
   ]
  },
  {
   "cell_type": "code",
   "execution_count": null,
   "id": "executive-cassette",
   "metadata": {},
   "outputs": [],
   "source": [
    "def get_mfccs(\n",
    "    signal=None,\n",
    "    sample_rate=22500,\n",
    "    num_mfccs=13,\n",
    "    frame_length=1024,\n",
    "    frame_step=512,\n",
    "    fft_length=1024,\n",
    "    fmax=8000,\n",
    "    fmin=80,\n",
    "    num_mel_bins=64,\n",
    "):\n",
    "    \"\"\"Compute the MFCCs for audio file\n",
    "\n",
    "    Keyword Arguments:\n",
    "        signals {tensor} -- input signals as tensor or np.array in float32 type (default: {None})\n",
    "        sample_rate {int} -- sampling rate (default: {44100})\n",
    "        num_mfccs {int} -- number of mfccs to keep (default: {13})\n",
    "        frame_length {int} -- frame length to compute STFT (default: {1024})\n",
    "        frame_step {int} -- frame step to compute STFT (default: {512})\n",
    "        fft_length {int} -- FFT length to compute STFT (default: {1024})\n",
    "        fmax {int} -- Top edge of the highest frequency band (default: {8000})\n",
    "        fmin {int} -- Lower bound on the frequencies to be included in the mel spectrum (default: {80})\n",
    "\n",
    "    Returns:\n",
    "        Tensor -- mfccs as tf.Tensor\n",
    "    \"\"\"\n",
    "\n",
    "    #     if len(signal.shape) == 1:\n",
    "    #         signal = tf.reshape(signal, [1, -1])\n",
    "\n",
    "    #     # only support mono audio\n",
    "    #     assert signal.shape[0] == 1\n",
    "\n",
    "    # Step 1 : signals->stfts\n",
    "    # `stfts` is a complex64 Tensor representing the Short-time Fourier Transform of\n",
    "    \n",
    "    # each signal in `signals`. Its shape is [batch_size, ?, fft_unique_bins]\n",
    "    # where fft_unique_bins = fft_length // 2 + 1 = 513\n",
    "\n",
    "    stfts = tf.signal.stft(\n",
    "        signal,\n",
    "        frame_length=frame_length,\n",
    "        frame_step=frame_step,\n",
    "        fft_length=fft_length,\n",
    "    )\n",
    "\n",
    "    # Step2 : stfts->magnitude_spectrograms\n",
    "    # An energy spectrogram is the magnitude of the complex-valued STFT.\n",
    "\n",
    "    # A float32 Tensor of shape [batch_size, ?, 513].\n",
    "\n",
    "    magnitude_spectrograms = tf.abs(stfts)\n",
    "\n",
    "    # Step 3 : magnitude_spectrograms->mel_spectrograms\n",
    "    # Warp the linear-scale, magnitude spectrograms into the mel-scale.\n",
    "    num_spectrogram_bins = magnitude_spectrograms.shape[-1]\n",
    "\n",
    "    linear_to_mel_weight_matrix = tf.signal.linear_to_mel_weight_matrix(\n",
    "        num_mel_bins=num_mel_bins,\n",
    "        num_spectrogram_bins=num_spectrogram_bins,\n",
    "        sample_rate=sample_rate,\n",
    "        lower_edge_hertz=fmin,\n",
    "        upper_edge_hertz=fmax,\n",
    "    )\n",
    "\n",
    "    mel_spectrograms = tf.tensordot(\n",
    "        magnitude_spectrograms, linear_to_mel_weight_matrix, 1\n",
    "    )\n",
    "\n",
    "    # Step 4 : mel_spectrograms->log_mel_spectrograms\n",
    "    log_offset = 1e-6\n",
    "    log_mel_spectrograms = tf.math.log(mel_spectrograms + log_offset)\n",
    "\n",
    "    # Step 5 : log_mel_spectrograms->mfccs\n",
    "    # Keep the first `num_mfccs` MFCCs.\n",
    "    mfccs = tf.signal.mfccs_from_log_mel_spectrograms(log_mel_spectrograms)[\n",
    "        ..., :num_mfccs\n",
    "    ]\n",
    "\n",
    "    return mfccs.numpy()"
   ]
  },
  {
   "cell_type": "code",
   "execution_count": 9,
   "id": "confirmed-paraguay",
   "metadata": {},
   "outputs": [],
   "source": [
    "msg = get_mfccs(\n",
    "    signal=x,\n",
    "    sample_rate=sr,\n",
    "    num_mfccs=256,\n",
    "    frame_length=1024,\n",
    "    frame_step=427,\n",
    "    fft_length=1024,\n",
    "    fmax=8000,\n",
    "    fmin=80,\n",
    "    num_mel_bins=256,\n",
    ")\n",
    "\n",
    "# msg.numpy().shape"
   ]
  },
  {
   "cell_type": "code",
   "execution_count": 12,
   "id": "fiscal-duncan",
   "metadata": {},
   "outputs": [],
   "source": [
    "x = tf.constant(x)"
   ]
  },
  {
   "cell_type": "code",
   "execution_count": 7,
   "id": "rational-farming",
   "metadata": {},
   "outputs": [
    {
     "name": "stderr",
     "output_type": "stream",
     "text": [
      "100%|██████████| 1000/1000 [00:17<00:00, 57.28it/s]\n"
     ]
    }
   ],
   "source": [
    "for i in tqdm(range(1000)):\n",
    "    msg = get_mfccs(\n",
    "        signal=x,\n",
    "        sample_rate=sr,\n",
    "        num_mfccs=256,\n",
    "        frame_length=1024,\n",
    "        frame_step=427,\n",
    "        fft_length=1024,\n",
    "        fmax=8000,\n",
    "        fmin=80,\n",
    "        num_mel_bins=256,\n",
    "    )"
   ]
  },
  {
   "cell_type": "code",
   "execution_count": 14,
   "id": "amino-snapshot",
   "metadata": {},
   "outputs": [
    {
     "name": "stderr",
     "output_type": "stream",
     "text": [
      "  0%|          | 0/1000 [00:22<?, ?it/s]\n"
     ]
    },
    {
     "ename": "KeyboardInterrupt",
     "evalue": "",
     "output_type": "error",
     "traceback": [
      "\u001b[0;31m\u001b[0m",
      "\u001b[0;31mIndexError\u001b[0mTraceback (most recent call last)",
      "\u001b[0;32m/usr/lib/python3.8/multiprocessing/pool.py\u001b[0m in \u001b[0;36mnext\u001b[0;34m(self, timeout)\u001b[0m\n\u001b[1;32m    850\u001b[0m             \u001b[0;32mtry\u001b[0m\u001b[0;34m:\u001b[0m\u001b[0;34m\u001b[0m\u001b[0;34m\u001b[0m\u001b[0m\n\u001b[0;32m--> 851\u001b[0;31m                 \u001b[0mitem\u001b[0m \u001b[0;34m=\u001b[0m \u001b[0mself\u001b[0m\u001b[0;34m.\u001b[0m\u001b[0m_items\u001b[0m\u001b[0;34m.\u001b[0m\u001b[0mpopleft\u001b[0m\u001b[0;34m(\u001b[0m\u001b[0;34m)\u001b[0m\u001b[0;34m\u001b[0m\u001b[0;34m\u001b[0m\u001b[0m\n\u001b[0m\u001b[1;32m    852\u001b[0m             \u001b[0;32mexcept\u001b[0m \u001b[0mIndexError\u001b[0m\u001b[0;34m:\u001b[0m\u001b[0;34m\u001b[0m\u001b[0;34m\u001b[0m\u001b[0m\n",
      "\u001b[0;31mIndexError\u001b[0m: pop from an empty deque",
      "\nDuring handling of the above exception, another exception occurred:\n",
      "\u001b[0;31mKeyboardInterrupt\u001b[0mTraceback (most recent call last)",
      "\u001b[0;32m<ipython-input-14-87686fee9808>\u001b[0m in \u001b[0;36m<module>\u001b[0;34m\u001b[0m\n\u001b[1;32m     14\u001b[0m \u001b[0;34m\u001b[0m\u001b[0m\n\u001b[1;32m     15\u001b[0m \u001b[0;32mwith\u001b[0m \u001b[0mPool\u001b[0m\u001b[0;34m(\u001b[0m\u001b[0mcpu_count\u001b[0m\u001b[0;34m(\u001b[0m\u001b[0;34m)\u001b[0m \u001b[0;34m*\u001b[0m \u001b[0;36m0\u001b[0m \u001b[0;34m+\u001b[0m \u001b[0;36m2\u001b[0m\u001b[0;34m)\u001b[0m \u001b[0;32mas\u001b[0m \u001b[0mpool\u001b[0m\u001b[0;34m:\u001b[0m\u001b[0;34m\u001b[0m\u001b[0;34m\u001b[0m\u001b[0m\n\u001b[0;32m---> 16\u001b[0;31m     _ = list(\n\u001b[0m\u001b[1;32m     17\u001b[0m         tqdm(\n\u001b[1;32m     18\u001b[0m             pool.imap(\n",
      "\u001b[0;32m/usr/local/lib/python3.8/dist-packages/tqdm/std.py\u001b[0m in \u001b[0;36m__iter__\u001b[0;34m(self)\u001b[0m\n\u001b[1;32m   1176\u001b[0m \u001b[0;34m\u001b[0m\u001b[0m\n\u001b[1;32m   1177\u001b[0m         \u001b[0;32mtry\u001b[0m\u001b[0;34m:\u001b[0m\u001b[0;34m\u001b[0m\u001b[0;34m\u001b[0m\u001b[0m\n\u001b[0;32m-> 1178\u001b[0;31m             \u001b[0;32mfor\u001b[0m \u001b[0mobj\u001b[0m \u001b[0;32min\u001b[0m \u001b[0miterable\u001b[0m\u001b[0;34m:\u001b[0m\u001b[0;34m\u001b[0m\u001b[0;34m\u001b[0m\u001b[0m\n\u001b[0m\u001b[1;32m   1179\u001b[0m                 \u001b[0;32myield\u001b[0m \u001b[0mobj\u001b[0m\u001b[0;34m\u001b[0m\u001b[0;34m\u001b[0m\u001b[0m\n\u001b[1;32m   1180\u001b[0m                 \u001b[0;31m# Update and possibly print the progressbar.\u001b[0m\u001b[0;34m\u001b[0m\u001b[0;34m\u001b[0m\u001b[0;34m\u001b[0m\u001b[0m\n",
      "\u001b[0;32m/usr/lib/python3.8/multiprocessing/pool.py\u001b[0m in \u001b[0;36mnext\u001b[0;34m(self, timeout)\u001b[0m\n\u001b[1;32m    854\u001b[0m                     \u001b[0mself\u001b[0m\u001b[0;34m.\u001b[0m\u001b[0m_pool\u001b[0m \u001b[0;34m=\u001b[0m \u001b[0;32mNone\u001b[0m\u001b[0;34m\u001b[0m\u001b[0;34m\u001b[0m\u001b[0m\n\u001b[1;32m    855\u001b[0m                     \u001b[0;32mraise\u001b[0m \u001b[0mStopIteration\u001b[0m \u001b[0;32mfrom\u001b[0m \u001b[0;32mNone\u001b[0m\u001b[0;34m\u001b[0m\u001b[0;34m\u001b[0m\u001b[0m\n\u001b[0;32m--> 856\u001b[0;31m                 \u001b[0mself\u001b[0m\u001b[0;34m.\u001b[0m\u001b[0m_cond\u001b[0m\u001b[0;34m.\u001b[0m\u001b[0mwait\u001b[0m\u001b[0;34m(\u001b[0m\u001b[0mtimeout\u001b[0m\u001b[0;34m)\u001b[0m\u001b[0;34m\u001b[0m\u001b[0;34m\u001b[0m\u001b[0m\n\u001b[0m\u001b[1;32m    857\u001b[0m                 \u001b[0;32mtry\u001b[0m\u001b[0;34m:\u001b[0m\u001b[0;34m\u001b[0m\u001b[0;34m\u001b[0m\u001b[0m\n\u001b[1;32m    858\u001b[0m                     \u001b[0mitem\u001b[0m \u001b[0;34m=\u001b[0m \u001b[0mself\u001b[0m\u001b[0;34m.\u001b[0m\u001b[0m_items\u001b[0m\u001b[0;34m.\u001b[0m\u001b[0mpopleft\u001b[0m\u001b[0;34m(\u001b[0m\u001b[0;34m)\u001b[0m\u001b[0;34m\u001b[0m\u001b[0;34m\u001b[0m\u001b[0m\n",
      "\u001b[0;32m/usr/lib/python3.8/threading.py\u001b[0m in \u001b[0;36mwait\u001b[0;34m(self, timeout)\u001b[0m\n\u001b[1;32m    300\u001b[0m         \u001b[0;32mtry\u001b[0m\u001b[0;34m:\u001b[0m    \u001b[0;31m# restore state no matter what (e.g., KeyboardInterrupt)\u001b[0m\u001b[0;34m\u001b[0m\u001b[0;34m\u001b[0m\u001b[0m\n\u001b[1;32m    301\u001b[0m             \u001b[0;32mif\u001b[0m \u001b[0mtimeout\u001b[0m \u001b[0;32mis\u001b[0m \u001b[0;32mNone\u001b[0m\u001b[0;34m:\u001b[0m\u001b[0;34m\u001b[0m\u001b[0;34m\u001b[0m\u001b[0m\n\u001b[0;32m--> 302\u001b[0;31m                 \u001b[0mwaiter\u001b[0m\u001b[0;34m.\u001b[0m\u001b[0macquire\u001b[0m\u001b[0;34m(\u001b[0m\u001b[0;34m)\u001b[0m\u001b[0;34m\u001b[0m\u001b[0;34m\u001b[0m\u001b[0m\n\u001b[0m\u001b[1;32m    303\u001b[0m                 \u001b[0mgotit\u001b[0m \u001b[0;34m=\u001b[0m \u001b[0;32mTrue\u001b[0m\u001b[0;34m\u001b[0m\u001b[0;34m\u001b[0m\u001b[0m\n\u001b[1;32m    304\u001b[0m             \u001b[0;32melse\u001b[0m\u001b[0;34m:\u001b[0m\u001b[0;34m\u001b[0m\u001b[0;34m\u001b[0m\u001b[0m\n",
      "\u001b[0;31mKeyboardInterrupt\u001b[0m: "
     ]
    }
   ],
   "source": [
    "def _map(_):\n",
    "    msg = get_mfccs(\n",
    "        signal=x,\n",
    "        sample_rate=sr,\n",
    "        num_mfccs=256,\n",
    "        frame_length=1024,\n",
    "        frame_step=427,\n",
    "        fft_length=1024,\n",
    "        fmax=8000,\n",
    "        fmin=80,\n",
    "        num_mel_bins=256,\n",
    "    )\n",
    "\n",
    "\n",
    "with Pool(cpu_count() * 0 + 2) as pool:\n",
    "    _ = list(\n",
    "        tqdm(\n",
    "            pool.imap(\n",
    "                _map,\n",
    "                range(1000),\n",
    "            ),\n",
    "            total=1000,\n",
    "            smoothing=0,\n",
    "        )\n",
    "    )"
   ]
  },
  {
   "cell_type": "code",
   "execution_count": null,
   "id": "voluntary-skiing",
   "metadata": {},
   "outputs": [],
   "source": []
  }
 ],
 "metadata": {
  "kernelspec": {
   "display_name": "Python 3",
   "language": "python",
   "name": "python3"
  },
  "language_info": {
   "codemirror_mode": {
    "name": "ipython",
    "version": 3
   },
   "file_extension": ".py",
   "mimetype": "text/x-python",
   "name": "python",
   "nbconvert_exporter": "python",
   "pygments_lexer": "ipython3",
   "version": "3.8.5"
  }
 },
 "nbformat": 4,
 "nbformat_minor": 5
}
