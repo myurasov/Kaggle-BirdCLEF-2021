{
 "cells": [
  {
   "cell_type": "code",
   "execution_count": 116,
   "id": "1541af80-def9-46bb-b508-0dd7d74f4ba2",
   "metadata": {},
   "outputs": [],
   "source": [
    "from collections import defaultdict\n",
    "\n",
    "import numpy as np\n",
    "import pandas as pd\n",
    "from tqdm import tqdm\n",
    "\n",
    "from src.config import c"
   ]
  },
  {
   "cell_type": "code",
   "execution_count": 146,
   "id": "bf944aeb-e005-4717-809f-f279cdcfbe6f",
   "metadata": {},
   "outputs": [],
   "source": [
    "det_df = pd.read_csv(\"/app/res/n_nocall_predictions.csv.gz\")\n",
    "det_df = det_df[(det_df[\"nocall\"] == 0) & (det_df[\"bird\"] == 1)]\n",
    "det_df = (\n",
    "    det_df[[\"filename\", \"end_sec\"]]\n",
    "    .sort_values([\"filename\", \"end_sec\"])\n",
    "    .set_index(\"filename\")\n",
    ")"
   ]
  },
  {
   "cell_type": "code",
   "execution_count": 152,
   "id": "752ffc35-5341-4531-a65b-43aa2ad44788",
   "metadata": {},
   "outputs": [],
   "source": [
    "detections = {}  # filename -> [[from_s, to_s]...]"
   ]
  },
  {
   "cell_type": "code",
   "execution_count": 156,
   "id": "3e821a5e-517b-49b8-8b92-bcd92f1491a5",
   "metadata": {},
   "outputs": [
    {
     "name": "stderr",
     "output_type": "stream",
     "text": [
      "100%|██████████| 2559079/2559079 [00:21<00:00, 121798.65it/s]\n"
     ]
    }
   ],
   "source": [
    "with tqdm(total=det_df.shape[0]) as t:\n",
    "\n",
    "    for ix in det_df.groupby(\"filename\").indices:\n",
    "        end_secs = det_df.loc[ix][\"end_sec\"]\n",
    "        if type(end_secs) != pd.Series:\n",
    "            end_secs = [end_secs]\n",
    "        end_secs = list(end_secs)\n",
    "\n",
    "        detections[ix] = list(map(lambda x: [x - 5, x], end_secs))\n",
    "        t.update(len(end_secs))"
   ]
  },
  {
   "cell_type": "code",
   "execution_count": 160,
   "id": "592ae041-b837-4116-950d-a4892afbc2ff",
   "metadata": {},
   "outputs": [],
   "source": [
    "for k, vv in detections.items():\n",
    "    for v in vv:\n",
    "        assert v[0] >= 0\n",
    "        assert v[1] >= 0"
   ]
  },
  {
   "cell_type": "code",
   "execution_count": null,
   "id": "c7504cf0-4ae9-483f-a62f-fa3b3fd8b63b",
   "metadata": {},
   "outputs": [],
   "source": []
  }
 ],
 "metadata": {
  "kernelspec": {
   "display_name": "Python 3",
   "language": "python",
   "name": "python3"
  },
  "language_info": {
   "codemirror_mode": {
    "name": "ipython",
    "version": 3
   },
   "file_extension": ".py",
   "mimetype": "text/x-python",
   "name": "python",
   "nbconvert_exporter": "python",
   "pygments_lexer": "ipython3",
   "version": "3.8.5"
  },
  "widgets": {
   "application/vnd.jupyter.widget-state+json": {
    "state": {},
    "version_major": 2,
    "version_minor": 0
   }
  }
 },
 "nbformat": 4,
 "nbformat_minor": 5
}
