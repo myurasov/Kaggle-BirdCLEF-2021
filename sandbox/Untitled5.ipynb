{
 "cells": [
  {
   "cell_type": "code",
   "execution_count": 2,
   "id": "fe62295a-9932-46a7-9653-f1eea1290bd8",
   "metadata": {},
   "outputs": [],
   "source": [
    "import pandas as pd"
   ]
  },
  {
   "cell_type": "code",
   "execution_count": 14,
   "id": "c4359ee5-b9ad-450c-a9f7-e860380e2fd3",
   "metadata": {},
   "outputs": [],
   "source": [
    "df = pd.read_pickle('/app/_work/dataset.pickle')"
   ]
  },
  {
   "cell_type": "code",
   "execution_count": 11,
   "id": "1edc9f69-37a0-42de-a9db-bd30e6a0530e",
   "metadata": {},
   "outputs": [
    {
     "data": {
      "text/plain": [
       "(207600, 16)"
      ]
     },
     "execution_count": 11,
     "metadata": {},
     "output_type": "execute_result"
    }
   ],
   "source": [
    "df.shape"
   ]
  },
  {
   "cell_type": "code",
   "execution_count": 10,
   "id": "8c80101b-8e41-466d-94d7-768dea389e5a",
   "metadata": {},
   "outputs": [],
   "source": [
    "df.reset_index(drop=True, inplace=True)"
   ]
  },
  {
   "cell_type": "code",
   "execution_count": 16,
   "id": "d3be98b9-dd7f-4d27-bd58-9dc4d8d8681a",
   "metadata": {},
   "outputs": [],
   "source": [
    "for i in range(df.shape[0]):\n",
    "    df.loc[i]"
   ]
  },
  {
   "cell_type": "code",
   "execution_count": null,
   "id": "6cca1329-ddce-4b58-b9ee-ab0850958ea9",
   "metadata": {},
   "outputs": [],
   "source": []
  }
 ],
 "metadata": {
  "kernelspec": {
   "display_name": "Python 3",
   "language": "python",
   "name": "python3"
  },
  "language_info": {
   "codemirror_mode": {
    "name": "ipython",
    "version": 3
   },
   "file_extension": ".py",
   "mimetype": "text/x-python",
   "name": "python",
   "nbconvert_exporter": "python",
   "pygments_lexer": "ipython3",
   "version": "3.8.5"
  }
 },
 "nbformat": 4,
 "nbformat_minor": 5
}
