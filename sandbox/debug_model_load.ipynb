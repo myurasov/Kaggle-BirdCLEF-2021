{
 "cells": [
  {
   "cell_type": "code",
   "execution_count": null,
   "id": "ee798cad-25f3-460f-ac2c-065c942fdaff",
   "metadata": {},
   "outputs": [],
   "source": [
    "import tensorflow_addons as tfa\n",
    "from tensorflow import keras\n",
    "from lib.sin_cos_layer import SinCos\n",
    "\n",
    "MODEL = \"/app/_work/kaggle_models/A1.h5\"\n",
    "\n",
    "\n",
    "keras.models.load_model(MODEL, custom_objects={\"SinCos\": SinCos})"
   ]
  },
  {
   "cell_type": "code",
   "execution_count": 22,
   "id": "cfb7b452-82b8-4f8f-91b1-6f3058cfc743",
   "metadata": {},
   "outputs": [],
   "source": [
    "m = keras.applications.EfficientNetB0(\n",
    "    include_top=True, weights=\"imagenet\", classes=1000, classifier_activation=\"softmax\"\n",
    ")"
   ]
  },
  {
   "cell_type": "code",
   "execution_count": 23,
   "id": "14bb846e-8443-4542-bbff-df1691aed14f",
   "metadata": {},
   "outputs": [],
   "source": [
    "m.compile(\n",
    "    optimizer=\"adam\",\n",
    "    loss=\"bce\",\n",
    "    metrics=tfa.metrics.F1Score(\n",
    "        num_classes=1000,\n",
    "        threshold=0.5,\n",
    "        average=\"micro\",\n",
    "    ),\n",
    ")"
   ]
  },
  {
   "cell_type": "code",
   "execution_count": 24,
   "id": "f5fe4a14-e3fd-469c-974f-90f25d604546",
   "metadata": {},
   "outputs": [],
   "source": [
    "m.save(\"/app/_work/kaggle_models/tst.h5\")"
   ]
  },
  {
   "cell_type": "code",
   "execution_count": null,
   "id": "9d63aaf6-44c3-4749-85a1-ed64de11819d",
   "metadata": {},
   "outputs": [],
   "source": []
  },
  {
   "cell_type": "code",
   "execution_count": null,
   "id": "5cca8050-0fe7-43ce-8e45-94adb8eae077",
   "metadata": {},
   "outputs": [],
   "source": []
  },
  {
   "cell_type": "code",
   "execution_count": 31,
   "id": "e6e970fb-3887-4ad7-876a-3fdb714c2522",
   "metadata": {},
   "outputs": [
    {
     "data": {
      "text/plain": [
       "<tensorflow.python.keras.engine.functional.Functional at 0x7f4ee0a31940>"
      ]
     },
     "execution_count": 31,
     "metadata": {},
     "output_type": "execute_result"
    }
   ],
   "source": [
    "import tensorflow_addons as tfa\n",
    "from tensorflow import keras\n",
    "from lib.sin_cos_layer import SinCos\n",
    "\n",
    "i = keras.layers.Input(shape=(1,), dtype=\"int32\", name=\"i\")\n",
    "x = SinCos(val_range=[1, 12], name=\"sc\")(i)\n",
    "x = keras.layers.Dense(1)(x)\n",
    "m = keras.models.Model(inputs=[i], outputs=[x])\n",
    "\n",
    "m.compile(\n",
    "    optimizer=\"adam\",\n",
    "    loss=\"bce\",\n",
    "    metrics=tfa.metrics.F1Score(\n",
    "        num_classes=1000,\n",
    "        threshold=0.5,\n",
    "        average=\"micro\",\n",
    "    ),\n",
    ")\n",
    "\n",
    "m.save(\"/app/_work/kaggle_models/tst.h5\")\n",
    "\n",
    "keras.models.load_model(\"/app/_work/kaggle_models/tst.h5\", custom_objects={\"SinCos\": SinCos})"
   ]
  },
  {
   "cell_type": "code",
   "execution_count": null,
   "id": "2f05f9d6-b797-4b1a-a9ad-b4886499b747",
   "metadata": {},
   "outputs": [],
   "source": []
  }
 ],
 "metadata": {
  "kernelspec": {
   "display_name": "Python 3",
   "language": "python",
   "name": "python3"
  },
  "language_info": {
   "codemirror_mode": {
    "name": "ipython",
    "version": 3
   },
   "file_extension": ".py",
   "mimetype": "text/x-python",
   "name": "python",
   "nbconvert_exporter": "python",
   "pygments_lexer": "ipython3",
   "version": "3.8.5"
  }
 },
 "nbformat": 4,
 "nbformat_minor": 5
}
