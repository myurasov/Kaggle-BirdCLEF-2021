{
 "cells": [
  {
   "cell_type": "code",
   "execution_count": 1,
   "id": "abfc0a37-1f47-478a-9701-94cbcb049030",
   "metadata": {},
   "outputs": [],
   "source": [
    "import tensorflow.keras.backend as K\n",
    "from tensorflow import keras"
   ]
  },
  {
   "cell_type": "code",
   "execution_count": 51,
   "id": "6bae273a-9951-497e-b4b5-50e401ff8757",
   "metadata": {},
   "outputs": [],
   "source": [
    "class Float2DToRGB(keras.layers.Layer):\n",
    "    \"\"\"\n",
    "        Converts 2D float input to uint8 RGB\n",
    "\n",
    "        Use:\n",
    "\n",
    "        ```python\n",
    "        import numpy as np\n",
    "        import matplotlib.pyplot as plt\n",
    "        \n",
    "        a = np.random.randn(256, 256)\n",
    "\n",
    "        a[:, 10:30] = 0\n",
    "        a[10:30, :] = 1\n",
    "\n",
    "        i = keras.layers.Input(shape=a.shape)\n",
    "        x = Float2DToRGB()(i)\n",
    "        m = keras.models.Model(inputs=[i], outputs=[x])\n",
    "\n",
    "        r = m.predict(a[np.newaxis, ...])\n",
    "\n",
    "        plt.imshow(r[0])\n",
    "        plt.figure()\n",
    "        plt.imshow(a, cmap='gray')\n",
    "        ```\n",
    "    \"\"\"\n",
    "\n",
    "    def __init__(self, **kwargs):\n",
    "        super(Float2DToRGB, self).__init__(**kwargs)\n",
    "\n",
    "    def call(self, inputs):\n",
    "        E = 1e-5  # minimum value for division to avoid overflows\n",
    "\n",
    "        res = inputs\n",
    "        res -= K.min(res)\n",
    "        res /= K.max([K.max(res), E])\n",
    "        res *= 255.0\n",
    "        res = K.cast(res, \"uint8\")\n",
    "        res = K.expand_dims(res, axis=3)\n",
    "        res = K.repeat_elements(res, 3, 3)\n",
    "\n",
    "        return res"
   ]
  },
  {
   "cell_type": "code",
   "execution_count": 41,
   "id": "a4162a28-165d-4e87-8294-2fcd37ef9536",
   "metadata": {},
   "outputs": [],
   "source": [
    "import matplotlib.pyplot as plt\n",
    "\n",
    "a = np.random.randn(256, 256)\n",
    "\n",
    "a[:, 10:30] = 0\n",
    "a[10:30, :] = 1\n",
    "\n",
    "i = keras.layers.Input(shape=a.shape)\n",
    "x = Float2DToRGB()(i)\n",
    "m = keras.models.Model(inputs=[i], outputs=[x])\n",
    "\n",
    "r = m.predict(a[np.newaxis, ...])\n",
    "\n",
    "plt.imshow(r[0])\n",
    "plt.figure()\n",
    "plt.imshow(a, cmap='gray')"
   ]
  },
  {
   "cell_type": "code",
   "execution_count": null,
   "id": "a9bc7a79-5ce2-4350-b62f-1bd53a73face",
   "metadata": {},
   "outputs": [],
   "source": []
  }
 ],
 "metadata": {
  "kernelspec": {
   "display_name": "Python 3",
   "language": "python",
   "name": "python3"
  },
  "language_info": {
   "codemirror_mode": {
    "name": "ipython",
    "version": 3
   },
   "file_extension": ".py",
   "mimetype": "text/x-python",
   "name": "python",
   "nbconvert_exporter": "python",
   "pygments_lexer": "ipython3",
   "version": "3.8.5"
  },
  "widgets": {
   "application/vnd.jupyter.widget-state+json": {
    "state": {},
    "version_major": 2,
    "version_minor": 0
   }
  }
 },
 "nbformat": 4,
 "nbformat_minor": 5
}
