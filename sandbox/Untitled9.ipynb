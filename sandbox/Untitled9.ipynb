{
 "cells": [
  {
   "cell_type": "code",
   "execution_count": 10,
   "id": "10a6beca-cccc-4564-968a-5df0e4c52cd9",
   "metadata": {},
   "outputs": [],
   "source": [
    "import numpy as np\n",
    "from sklearn.metrics import f1_score"
   ]
  },
  {
   "cell_type": "code",
   "execution_count": 11,
   "id": "8b2397f6-6f00-4fb7-afef-6fabeef25c45",
   "metadata": {
    "tags": []
   },
   "outputs": [],
   "source": [
    "y_pred = np.array(\n",
    "    [\n",
    "        [0.4, 0.6, 0.9],\n",
    "        [0.1, 0.9, 0.8],\n",
    "        [0.1, 0.4, 0.2],\n",
    "        [0.9, 0.9, 0.9],\n",
    "    ]\n",
    ")\n",
    "\n",
    "y_true = np.array(\n",
    "    [\n",
    "        [0, 0, 1],\n",
    "        [0, 1, 1],\n",
    "        [1, 0, 1],\n",
    "        [1, 1, 1],\n",
    "    ]\n",
    ")\n",
    "\n",
    "threshold = 0.5"
   ]
  },
  {
   "cell_type": "code",
   "execution_count": 12,
   "id": "c3817206-08b6-4d47-877a-1d9cd5abb8d3",
   "metadata": {},
   "outputs": [
    {
     "data": {
      "text/plain": [
       "0.6666666666666666"
      ]
     },
     "execution_count": 12,
     "metadata": {},
     "output_type": "execute_result"
    }
   ],
   "source": [
    "f1_score(y_true, np.where(y_pred > threshold, 1, 0), average=\"samples\")"
   ]
  },
  {
   "cell_type": "code",
   "execution_count": 14,
   "id": "ef1dd60c-b790-4fb0-b25e-040087f666aa",
   "metadata": {},
   "outputs": [
    {
     "data": {
      "text/plain": [
       "0.6666666666666666"
      ]
     },
     "execution_count": 14,
     "metadata": {},
     "output_type": "execute_result"
    }
   ],
   "source": [
    "def row_wise_f1_score_micro_numpy(y_true, y_pred, threshold=0.5, count=5):\n",
    "    \"\"\"\n",
    "    @author shonenkov\n",
    "\n",
    "    y_true - 2d npy vector with gt\n",
    "    y_pred - 2d npy vector with prediction\n",
    "    threshold - for round labels\n",
    "    count - number of preds (used sorting by confidence)\n",
    "    \"\"\"\n",
    "\n",
    "    def meth_agn_v2(x, threshold):\n",
    "        (idx,) = np.where(x > threshold)\n",
    "        return idx[np.argsort(x[idx])[::-1]]\n",
    "\n",
    "    F1 = []\n",
    "    for preds, trues in zip(y_pred, y_true):\n",
    "        TP, FN, FP = 0, 0, 0\n",
    "        preds = meth_agn_v2(preds, threshold)[:count]\n",
    "        trues = meth_agn_v2(trues, threshold)\n",
    "        for true in trues:\n",
    "            if true in preds:\n",
    "                TP += 1\n",
    "            else:\n",
    "                FN += 1\n",
    "        for pred in preds:\n",
    "            if pred not in trues:\n",
    "                FP += 1\n",
    "        F1.append(2 * TP / (2 * TP + FN + FP))\n",
    "    return np.mean(F1)\n",
    "\n",
    "\n",
    "row_wise_f1_score_micro_numpy(y_true, y_pred, threshold)"
   ]
  },
  {
   "cell_type": "code",
   "execution_count": null,
   "id": "4025d5c2-2ad4-437e-8e97-9e9aff409966",
   "metadata": {},
   "outputs": [],
   "source": []
  },
  {
   "cell_type": "code",
   "execution_count": 15,
   "id": "02f57f05-b277-408f-aa09-3f51433f34d5",
   "metadata": {},
   "outputs": [],
   "source": [
    "import tensorflow_addons as tfa"
   ]
  },
  {
   "cell_type": "code",
   "execution_count": 27,
   "id": "f5f74783-1f3c-45bb-8896-2771d2edf13d",
   "metadata": {},
   "outputs": [],
   "source": [
    "tfaf1 = tfa.metrics.F1Score(\n",
    "    num_classes=3,\n",
    "    threshold=threshold,\n",
    "    average='micro',\n",
    ")"
   ]
  },
  {
   "cell_type": "code",
   "execution_count": 28,
   "id": "3669913d-eb6e-4d1c-9d08-37509e987d59",
   "metadata": {},
   "outputs": [],
   "source": [
    "tfaf1.update_state(y_true, y_pred)"
   ]
  },
  {
   "cell_type": "code",
   "execution_count": 29,
   "id": "020f1418-4aa3-4707-8c35-04b5e440ebac",
   "metadata": {},
   "outputs": [
    {
     "data": {
      "text/plain": [
       "0.79999995"
      ]
     },
     "execution_count": 29,
     "metadata": {},
     "output_type": "execute_result"
    }
   ],
   "source": [
    "tfaf1.result().numpy()"
   ]
  },
  {
   "cell_type": "code",
   "execution_count": null,
   "id": "21a815a2-5062-4109-abfc-9e81be1d3292",
   "metadata": {},
   "outputs": [],
   "source": []
  },
  {
   "cell_type": "code",
   "execution_count": null,
   "id": "0a980769-b1d3-462b-a1b5-e3027de268ce",
   "metadata": {},
   "outputs": [],
   "source": []
  }
 ],
 "metadata": {
  "kernelspec": {
   "display_name": "Python 3",
   "language": "python",
   "name": "python3"
  },
  "language_info": {
   "codemirror_mode": {
    "name": "ipython",
    "version": 3
   },
   "file_extension": ".py",
   "mimetype": "text/x-python",
   "name": "python",
   "nbconvert_exporter": "python",
   "pygments_lexer": "ipython3",
   "version": "3.8.5"
  }
 },
 "nbformat": 4,
 "nbformat_minor": 5
}
