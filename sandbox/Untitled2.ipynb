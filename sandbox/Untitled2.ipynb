{
 "cells": [
  {
   "cell_type": "code",
   "execution_count": 2,
   "id": "e4a0c14d-70c9-42fd-8f6d-c84adc6a10f3",
   "metadata": {},
   "outputs": [],
   "source": [
    "import argparse\n",
    "import datetime\n",
    "import os\n",
    "from multiprocessing import Pool, cpu_count\n",
    "from pprint import pformat\n",
    "\n",
    "import numpy as np\n",
    "import pandas as pd\n",
    "from tqdm import tqdm\n",
    "\n",
    "from lib.utils import fix_random_seed, list_indexes\n",
    "from src.config import c\n",
    "from src.data_utils import rectify_class_counts\n",
    "from src.services import get_wave_provider"
   ]
  },
  {
   "cell_type": "code",
   "execution_count": 3,
   "id": "bd046c5f-2d5f-4334-a10f-09f1317bac5b",
   "metadata": {},
   "outputs": [],
   "source": [
    "wp = get_wave_provider(c)"
   ]
  },
  {
   "cell_type": "code",
   "execution_count": 4,
   "id": "622984fa-3275-4289-b925-a929c54c422e",
   "metadata": {},
   "outputs": [
    {
     "data": {
      "text/plain": [
       "31.9358125"
      ]
     },
     "execution_count": 4,
     "metadata": {},
     "output_type": "execute_result"
    }
   ],
   "source": [
    "wp.get_audio_duration('XC157337.ogg')"
   ]
  },
  {
   "cell_type": "code",
   "execution_count": null,
   "id": "5f83110e-b796-43d0-be53-44130b3f2a8d",
   "metadata": {},
   "outputs": [],
   "source": []
  }
 ],
 "metadata": {
  "kernelspec": {
   "display_name": "Python 3",
   "language": "python",
   "name": "python3"
  },
  "language_info": {
   "codemirror_mode": {
    "name": "ipython",
    "version": 3
   },
   "file_extension": ".py",
   "mimetype": "text/x-python",
   "name": "python",
   "nbconvert_exporter": "python",
   "pygments_lexer": "ipython3",
   "version": "3.8.5"
  },
  "widgets": {
   "application/vnd.jupyter.widget-state+json": {
    "state": {},
    "version_major": 2,
    "version_minor": 0
   }
  }
 },
 "nbformat": 4,
 "nbformat_minor": 5
}
