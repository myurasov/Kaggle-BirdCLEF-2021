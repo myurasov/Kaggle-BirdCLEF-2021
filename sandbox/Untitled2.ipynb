{
 "cells": [
  {
   "cell_type": "code",
   "execution_count": 7,
   "id": "crucial-broadway",
   "metadata": {},
   "outputs": [],
   "source": [
    "from src.models import MSG_Model_Builder\n",
    "from lib.utils import save_keras_model"
   ]
  },
  {
   "cell_type": "code",
   "execution_count": 2,
   "id": "demonstrated-reunion",
   "metadata": {},
   "outputs": [],
   "source": [
    "mb = MSG_Model_Builder(n_classes=100, body=\"enb0\")"
   ]
  },
  {
   "cell_type": "code",
   "execution_count": 3,
   "id": "wrapped-decision",
   "metadata": {},
   "outputs": [],
   "source": [
    "mb.build()"
   ]
  },
  {
   "cell_type": "code",
   "execution_count": 4,
   "id": "previous-accreditation",
   "metadata": {},
   "outputs": [
    {
     "name": "stdout",
     "output_type": "stream",
     "text": [
      "Model: \"model\"\n",
      "__________________________________________________________________________________________________\n",
      "Layer (type)                    Output Shape         Param #     Connected to                     \n",
      "==================================================================================================\n",
      "input_msg (InputLayer)          [(None, 224, 224, 3) 0                                            \n",
      "__________________________________________________________________________________________________\n",
      "efficientnetb0 (Functional)     (None, None, None, 1 4049571     input_msg[0][0]                  \n",
      "__________________________________________________________________________________________________\n",
      "input_month (InputLayer)        [(None, 1)]          0                                            \n",
      "__________________________________________________________________________________________________\n",
      "input_longitude (InputLayer)    [(None, 1)]          0                                            \n",
      "__________________________________________________________________________________________________\n",
      "feature_msg (GlobalAveragePooli (None, 1280)         0           efficientnetb0[0][0]             \n",
      "__________________________________________________________________________________________________\n",
      "input_year (InputLayer)         [(None, 1)]          0                                            \n",
      "__________________________________________________________________________________________________\n",
      "feature_month_sincos (SinCosEnc (None, 2)            0           input_month[0][0]                \n",
      "__________________________________________________________________________________________________\n",
      "input_latitude (InputLayer)     [(None, 1)]          0                                            \n",
      "__________________________________________________________________________________________________\n",
      "feature_longitude_sincos (SinCo (None, 2)            0           input_longitude[0][0]            \n",
      "__________________________________________________________________________________________________\n",
      "features (Concatenate)          (None, 1286)         0           feature_msg[0][0]                \n",
      "                                                                 input_year[0][0]                 \n",
      "                                                                 feature_month_sincos[0][0]       \n",
      "                                                                 input_latitude[0][0]             \n",
      "                                                                 feature_longitude_sincos[0][0]   \n",
      "__________________________________________________________________________________________________\n",
      "output_classes (Dense)          (None, 100)          128700      features[0][0]                   \n",
      "==================================================================================================\n",
      "Total params: 4,178,271\n",
      "Trainable params: 4,136,248\n",
      "Non-trainable params: 42,023\n",
      "__________________________________________________________________________________________________\n"
     ]
    }
   ],
   "source": [
    "mb.model.summary()"
   ]
  },
  {
   "cell_type": "code",
   "execution_count": 8,
   "id": "regulated-deployment",
   "metadata": {},
   "outputs": [],
   "source": [
    "save_keras_model(mb.model)"
   ]
  },
  {
   "cell_type": "code",
   "execution_count": null,
   "id": "urban-passing",
   "metadata": {},
   "outputs": [],
   "source": []
  }
 ],
 "metadata": {
  "kernelspec": {
   "display_name": "Python 3",
   "language": "python",
   "name": "python3"
  },
  "language_info": {
   "codemirror_mode": {
    "name": "ipython",
    "version": 3
   },
   "file_extension": ".py",
   "mimetype": "text/x-python",
   "name": "python",
   "nbconvert_exporter": "python",
   "pygments_lexer": "ipython3",
   "version": "3.8.5"
  }
 },
 "nbformat": 4,
 "nbformat_minor": 5
}
