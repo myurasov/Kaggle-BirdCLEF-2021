{
 "cells": [
  {
   "cell_type": "code",
   "execution_count": 1,
   "id": "fb49dd8b-afb1-49b8-92a8-be197d08b65f",
   "metadata": {},
   "outputs": [
    {
     "data": {
      "text/html": [
       "<iframe\n",
       "    scrolling=\"no\"\n",
       "    width=\"100%\"\n",
       "    height=\"545px\"\n",
       "    src=\"iframe_figures/figure_13.html\"\n",
       "    frameborder=\"0\"\n",
       "    allowfullscreen\n",
       "></iframe>\n"
      ]
     },
     "metadata": {},
     "output_type": "display_data"
    }
   ],
   "source": [
    "import plotly.figure_factory as ff\n",
    "import plotly.io as pio\n",
    "\n",
    "pio.renderers.default = \"iframe\"\n",
    "\n",
    "z = [\n",
    "    [0.1, 0.3, 0.5, 0.2],\n",
    "    [1.0, 0.8, 0.6, 0.1],\n",
    "    [0.1, 0.3, 0.6, 0.9],\n",
    "    [0.6, 0.4, 0.2, 0.2],\n",
    "]\n",
    "\n",
    "x = [\"healthy\", \"multiple diseases\", \"rust\", \"scab\"]\n",
    "y = [\"healthy\", \"multiple diseases\", \"rust\", \"scab\"]\n",
    "\n",
    "# change each element of z to type string for annotations\n",
    "z_text = [[str(y) for y in x] for x in z]\n",
    "\n",
    "# set up figure\n",
    "fig = ff.create_annotated_heatmap(\n",
    "    z, x=x, y=y, annotation_text=z, colorscale=\"Viridis\"\n",
    ")\n",
    "\n",
    "# add title\n",
    "fig.update_layout(\n",
    "    title_text=\"<i><b>Confusion matrix</b></i>\",\n",
    "    # xaxis = dict(title='x'),\n",
    "    # yaxis = dict(title='x')\n",
    ")\n",
    "\n",
    "# add custom xaxis title\n",
    "fig.add_annotation(\n",
    "    dict(\n",
    "        font=dict(color=\"black\", size=14),\n",
    "        x=0.5,\n",
    "        y=-0.15,\n",
    "        showarrow=False,\n",
    "        text=\"Predicted value\",\n",
    "        xref=\"paper\",\n",
    "        yref=\"paper\",\n",
    "    )\n",
    ")\n",
    "\n",
    "# add custom yaxis title\n",
    "fig.add_annotation(\n",
    "    dict(\n",
    "        font=dict(color=\"black\", size=14),\n",
    "        x=-0.35,\n",
    "        y=0.5,\n",
    "        showarrow=False,\n",
    "        text=\"Real value\",\n",
    "        textangle=-90,\n",
    "        xref=\"paper\",\n",
    "        yref=\"paper\",\n",
    "    )\n",
    ")\n",
    "\n",
    "# adjust margins to make room for yaxis title\n",
    "fig.update_layout(margin=dict(t=50, l=200))\n",
    "\n",
    "# add colorbar\n",
    "fig[\"data\"][0][\"showscale\"] = True\n",
    "fig.show()"
   ]
  },
  {
   "cell_type": "code",
   "execution_count": 2,
   "id": "8fdde344-1f08-428c-94e5-d4ea2568d74d",
   "metadata": {},
   "outputs": [
    {
     "data": {
      "text/plain": [
       "[['0.1', '0.3', '0.5', '0.2'],\n",
       " ['1.0', '0.8', '0.6', '0.1'],\n",
       " ['0.1', '0.3', '0.6', '0.9'],\n",
       " ['0.6', '0.4', '0.2', '0.2']]"
      ]
     },
     "execution_count": 2,
     "metadata": {},
     "output_type": "execute_result"
    }
   ],
   "source": [
    "z_text"
   ]
  },
  {
   "cell_type": "code",
   "execution_count": 5,
   "id": "2955ba07-f9db-4bf5-8f9f-eb7fe1d26110",
   "metadata": {},
   "outputs": [],
   "source": [
    "import numpy as np"
   ]
  },
  {
   "cell_type": "code",
   "execution_count": 10,
   "id": "0f14155d-01ae-4215-baa8-039d535d3db2",
   "metadata": {},
   "outputs": [
    {
     "data": {
      "text/plain": [
       "array([['0.1', '0.3', '0.5', '0.2'],\n",
       "       ['1.0', '0.8', '0.6', '0.1'],\n",
       "       ['0.1', '0.3', '0.6', '0.9'],\n",
       "       ['0.6', '0.4', '0.2', '0.2']], dtype='<U32')"
      ]
     },
     "execution_count": 10,
     "metadata": {},
     "output_type": "execute_result"
    }
   ],
   "source": [
    "np.array(z).astype(np.str)"
   ]
  },
  {
   "cell_type": "code",
   "execution_count": null,
   "id": "bae6f123-437e-4775-9e67-0bc743c2c002",
   "metadata": {},
   "outputs": [],
   "source": []
  }
 ],
 "metadata": {
  "kernelspec": {
   "display_name": "Python 3",
   "language": "python",
   "name": "python3"
  },
  "language_info": {
   "codemirror_mode": {
    "name": "ipython",
    "version": 3
   },
   "file_extension": ".py",
   "mimetype": "text/x-python",
   "name": "python",
   "nbconvert_exporter": "python",
   "pygments_lexer": "ipython3",
   "version": "3.8.5"
  }
 },
 "nbformat": 4,
 "nbformat_minor": 5
}
