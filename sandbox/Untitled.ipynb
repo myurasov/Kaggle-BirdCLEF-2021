{
 "cells": [
  {
   "cell_type": "code",
   "execution_count": 3,
   "id": "running-introduction",
   "metadata": {},
   "outputs": [],
   "source": [
    "import numpy as np\n",
    "from tensorflow import keras\n",
    "\n",
    "from lib.sin_cos_layer import SinCos\n",
    "from lib.utils import save_keras_model\n",
    "\n",
    "import tensorflow.keras.backend as K"
   ]
  },
  {
   "cell_type": "code",
   "execution_count": 4,
   "id": "annual-establishment",
   "metadata": {},
   "outputs": [],
   "source": [
    "i_m = keras.layers.Input(shape=(1,), dtype=\"int32\", name=\"i_m\")\n",
    "i_y = keras.layers.Input(shape=(1,), dtype=\"int32\", name=\"i_y\")\n",
    "f_m_sincos = SinCos(val_range=[1, 12], name=\"f_m_sincos\")(i_m)\n",
    "f_date = keras.layers.Lambda(\n",
    "    lambda x: K.cast(x[1] * 12 + x[0], 'float32'),\n",
    ")([i_y, i_m])\n",
    "\n",
    "m = keras.models.Model(inputs=[i_y, i_m], outputs=[f_m_sincos, f_date])"
   ]
  },
  {
   "cell_type": "code",
   "execution_count": 5,
   "id": "opening-instrument",
   "metadata": {},
   "outputs": [
    {
     "data": {
      "text/plain": [
       "[array([[-0.75574957, -0.65486073]]), array([[24257.]], dtype=float32)]"
      ]
     },
     "execution_count": 5,
     "metadata": {},
     "output_type": "execute_result"
    }
   ],
   "source": [
    "m.predict(x=[{\"i_y\": np.array([2021]), \"i_m\": np.array([5])}])"
   ]
  },
  {
   "cell_type": "code",
   "execution_count": 6,
   "id": "opening-blank",
   "metadata": {},
   "outputs": [],
   "source": [
    "save_keras_model(m, 'model.png')"
   ]
  },
  {
   "cell_type": "code",
   "execution_count": null,
   "id": "north-peoples",
   "metadata": {},
   "outputs": [],
   "source": []
  }
 ],
 "metadata": {
  "kernelspec": {
   "display_name": "Python 3",
   "language": "python",
   "name": "python3"
  },
  "language_info": {
   "codemirror_mode": {
    "name": "ipython",
    "version": 3
   },
   "file_extension": ".py",
   "mimetype": "text/x-python",
   "name": "python",
   "nbconvert_exporter": "python",
   "pygments_lexer": "ipython3",
   "version": "3.8.5"
  }
 },
 "nbformat": 4,
 "nbformat_minor": 5
}
