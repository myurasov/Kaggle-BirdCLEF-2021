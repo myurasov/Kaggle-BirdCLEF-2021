{
 "cells": [
  {
   "cell_type": "code",
   "execution_count": 1,
   "id": "2ac5225c-eb22-4087-a671-2d1a69d3a7f2",
   "metadata": {},
   "outputs": [],
   "source": [
    "import argparse\n",
    "import os\n",
    "import shlex\n",
    "import sys\n",
    "from pprint import pformat\n",
    "\n",
    "import numpy as np\n",
    "import pandas as pd\n",
    "import tensorflow_addons as tfa\n",
    "from tensorflow import keras\n",
    "\n",
    "from augmentation import c as aug_levels\n",
    "from lib.keras_tb_logger import TensorBoard_Logger, gpu_temp_logger, lr_logger\n",
    "from lib.utils import (\n",
    "    create_dir,\n",
    "    fix_random_seed,\n",
    "    read_json,\n",
    "    save_keras_model,\n",
    "    write_json,\n",
    ")\n",
    "from src.config import c\n",
    "from src.generator import Generator\n",
    "from src.models import Wave_Model_Builder\n",
    "from src.services import get_msg_provider, get_wave_provider"
   ]
  },
  {
   "cell_type": "code",
   "execution_count": 2,
   "id": "c281d615-7463-4a27-a965-b816b3412bf8",
   "metadata": {},
   "outputs": [],
   "source": [
    "mb = Wave_Model_Builder(\n",
    "    n_classes=100,\n",
    "    wave_len_samples=32000 * 5,\n",
    "    wave_sample_rate=32000,\n",
    "    n_fft=2048,\n",
    "    spec_power=2,\n",
    "    body=\"enb0\",\n",
    "    imagenet_weights=False,\n",
    "    extra_dense_layers=None,\n",
    "    dropout=None,\n",
    ")"
   ]
  },
  {
   "cell_type": "code",
   "execution_count": 3,
   "id": "5a8e698e-1810-4240-9d00-5cff0de51266",
   "metadata": {},
   "outputs": [],
   "source": [
    "m = mb.build()"
   ]
  },
  {
   "cell_type": "code",
   "execution_count": 4,
   "id": "ce2cb3c4-b88c-408f-aeae-cbcc712e8245",
   "metadata": {},
   "outputs": [],
   "source": [
    "save_keras_model(m, \"model.png\", dpi=75, rankdir=\"LR\")"
   ]
  },
  {
   "cell_type": "code",
   "execution_count": 5,
   "id": "cb4b81b4-7239-4394-aa5d-09b0996e4d4f",
   "metadata": {},
   "outputs": [
    {
     "name": "stdout",
     "output_type": "stream",
     "text": [
      "i_wave\n",
      "mel_spectrogram\n",
      "power_to_db\n",
      "float2d_to_rgb\n",
      "efficientnetb0\n",
      "i_year\n",
      "i_month\n",
      "i_lat\n",
      "i_lon\n",
      "f_msg\n",
      "f_date\n",
      "f_month_sincos\n",
      "f_lat\n",
      "f_lon_sincos\n",
      "features\n",
      "o_classes\n"
     ]
    }
   ],
   "source": [
    "for i, layer in enumerate(m.layers):\n",
    "    print(layer.name)"
   ]
  },
  {
   "cell_type": "code",
   "execution_count": 7,
   "id": "b99883d2-1a92-45c7-85aa-5754cd2d3996",
   "metadata": {},
   "outputs": [
    {
     "data": {
      "text/plain": [
       "True"
      ]
     },
     "execution_count": 7,
     "metadata": {},
     "output_type": "execute_result"
    }
   ],
   "source": [
    "'i_wave' in [layer.name for layer  in m.layers]"
   ]
  },
  {
   "cell_type": "code",
   "execution_count": null,
   "id": "b1751133-e2cc-46fc-ae2b-9e6a4acc2f51",
   "metadata": {},
   "outputs": [],
   "source": []
  }
 ],
 "metadata": {
  "kernelspec": {
   "display_name": "Python 3",
   "language": "python",
   "name": "python3"
  },
  "language_info": {
   "codemirror_mode": {
    "name": "ipython",
    "version": 3
   },
   "file_extension": ".py",
   "mimetype": "text/x-python",
   "name": "python",
   "nbconvert_exporter": "python",
   "pygments_lexer": "ipython3",
   "version": "3.8.5"
  },
  "widgets": {
   "application/vnd.jupyter.widget-state+json": {
    "state": {},
    "version_major": 2,
    "version_minor": 0
   }
  }
 },
 "nbformat": 4,
 "nbformat_minor": 5
}
