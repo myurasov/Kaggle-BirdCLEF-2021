{
 "cells": [
  {
   "cell_type": "code",
   "execution_count": 10,
   "id": "unavailable-oliver",
   "metadata": {},
   "outputs": [],
   "source": [
    "import IPython.display as ipd\n",
    "import numpy as np\n",
    "\n",
    "from src.services import get_wave_provider"
   ]
  },
  {
   "cell_type": "code",
   "execution_count": 15,
   "id": "ideal-basket",
   "metadata": {},
   "outputs": [],
   "source": [
    "bads = [\"XC579430.ogg\", \"XC590621.ogg\"]"
   ]
  },
  {
   "cell_type": "code",
   "execution_count": 16,
   "id": "working-antigua",
   "metadata": {},
   "outputs": [],
   "source": [
    "w = get_wave_provider()"
   ]
  },
  {
   "cell_type": "code",
   "execution_count": 20,
   "id": "scenic-slide",
   "metadata": {},
   "outputs": [],
   "source": [
    "x = w.get_audio_fragment(bads[1])"
   ]
  },
  {
   "cell_type": "code",
   "execution_count": 21,
   "id": "indian-adult",
   "metadata": {},
   "outputs": [
    {
     "data": {
      "text/plain": [
       "(array([], dtype=int64),)"
      ]
     },
     "execution_count": 21,
     "metadata": {},
     "output_type": "execute_result"
    }
   ],
   "source": [
    "np.where(x != 0)"
   ]
  },
  {
   "cell_type": "code",
   "execution_count": null,
   "id": "meaningful-nightlife",
   "metadata": {},
   "outputs": [],
   "source": []
  }
 ],
 "metadata": {
  "kernelspec": {
   "display_name": "Python 3",
   "language": "python",
   "name": "python3"
  },
  "language_info": {
   "codemirror_mode": {
    "name": "ipython",
    "version": 3
   },
   "file_extension": ".py",
   "mimetype": "text/x-python",
   "name": "python",
   "nbconvert_exporter": "python",
   "pygments_lexer": "ipython3",
   "version": "3.8.5"
  }
 },
 "nbformat": 4,
 "nbformat_minor": 5
}
