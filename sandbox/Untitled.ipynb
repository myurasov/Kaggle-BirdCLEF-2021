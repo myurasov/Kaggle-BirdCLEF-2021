{
 "cells": [
  {
   "cell_type": "code",
   "execution_count": 1,
   "id": "sharing-booking",
   "metadata": {},
   "outputs": [],
   "source": [
    "import numpy as np\n",
    "from tensorflow import keras"
   ]
  },
  {
   "cell_type": "code",
   "execution_count": 2,
   "id": "dutch-india",
   "metadata": {},
   "outputs": [],
   "source": [
    "def save_keras_model(model, filename=\"model.svg\", expand_nested=False, **kwargs):\n",
    "    with open(filename, \"wb+\") as f:\n",
    "        f.write(\n",
    "            keras.utils.model_to_dot(\n",
    "                model=model,\n",
    "                show_shapes=True,\n",
    "                show_dtype=True,\n",
    "                show_layer_names=True,\n",
    "                expand_nested=expand_nested,\n",
    "                **kwargs\n",
    "            ).create_svg()\n",
    "        )"
   ]
  },
  {
   "cell_type": "code",
   "execution_count": 3,
   "id": "announced-geneva",
   "metadata": {},
   "outputs": [],
   "source": [
    "INPUT_SHAPE = (224, 224, 3)\n",
    "N_CLASSES = 399"
   ]
  },
  {
   "cell_type": "code",
   "execution_count": 4,
   "id": "forty-yahoo",
   "metadata": {},
   "outputs": [],
   "source": [
    "# m = keras.applications.EfficientNetB0(include_top=True, weights=None)"
   ]
  },
  {
   "cell_type": "code",
   "execution_count": 5,
   "id": "enclosed-ceremony",
   "metadata": {},
   "outputs": [],
   "source": [
    "input_msg = keras.layers.Input(\n",
    "    shape=INPUT_SHAPE,\n",
    "    dtype=\"uint8\",\n",
    "    name=\"input_msg\",\n",
    ")\n",
    "input_year = keras.layers.Input(shape=(1,), dtype=\"float32\", name=\"input_year\")\n",
    "\n",
    "\n",
    "x = keras.applications.EfficientNetB0(\n",
    "    include_top=False,\n",
    "    weights=None,\n",
    ")(input_msg)\n",
    "\n",
    "features_msg = keras.layers.GlobalAveragePooling2D(name=\"features_msg\")(x)\n",
    "features = keras.layers.Concatenate(axis=1)([features_msg, input_year])\n",
    "\n",
    "output_1 = keras.layers.Dense(N_CLASSES, name=\"out_classes\", activation=\"sigmoid\")(\n",
    "    features\n",
    ")"
   ]
  },
  {
   "cell_type": "code",
   "execution_count": 6,
   "id": "major-gossip",
   "metadata": {},
   "outputs": [],
   "source": [
    "m = keras.Model(inputs=[input_msg, input_year], outputs=[output_1])"
   ]
  },
  {
   "cell_type": "code",
   "execution_count": null,
   "id": "widespread-mention",
   "metadata": {},
   "outputs": [],
   "source": []
  },
  {
   "cell_type": "code",
   "execution_count": 30,
   "id": "corporate-mission",
   "metadata": {},
   "outputs": [
    {
     "data": {
      "text/plain": [
       "6.283185307179586"
      ]
     },
     "execution_count": 30,
     "metadata": {},
     "output_type": "execute_result"
    }
   ],
   "source": [
    "2 * np.pi"
   ]
  },
  {
   "cell_type": "code",
   "execution_count": 5,
   "id": "medium-berry",
   "metadata": {},
   "outputs": [],
   "source": [
    "import tensorflow.keras.backend as K\n",
    "\n",
    "\n",
    "class SinCos(keras.layers.Layer):\n",
    "    def __init__(self, val_range=[0, 1], **kwargs):\n",
    "        super(SinCos, self).__init__(**kwargs)\n",
    "        self.val_range = val_range\n",
    "\n",
    "    def call(self, inputs, training=None):\n",
    "\n",
    "        norm_inputs = (\n",
    "            (inputs - self.val_range[0])\n",
    "            / (self.val_range[1] - self.val_range[0])\n",
    "            * 2\n",
    "            * np.pi\n",
    "        )\n",
    "\n",
    "        return K.concatenate(\n",
    "            [K.sin(norm_inputs), K.cos(norm_inputs)],\n",
    "        )\n",
    "\n",
    "    def get_config(self):\n",
    "        return {\"val_range\": self.val_range}"
   ]
  },
  {
   "cell_type": "code",
   "execution_count": 6,
   "id": "descending-seventh",
   "metadata": {},
   "outputs": [],
   "source": [
    "i1 = keras.layers.Input(shape=(1,), dtype=\"float32\", name=\"input_month\")\n",
    "x = SinCos(val_range=[1, 12])(i1)\n",
    "m = keras.Model(inputs=[i1], outputs=[x])"
   ]
  },
  {
   "cell_type": "code",
   "execution_count": 7,
   "id": "military-makeup",
   "metadata": {},
   "outputs": [],
   "source": [
    "# m.build((1,)"
   ]
  },
  {
   "cell_type": "code",
   "execution_count": 8,
   "id": "institutional-reconstruction",
   "metadata": {},
   "outputs": [],
   "source": [
    "save_keras_model(m)"
   ]
  },
  {
   "cell_type": "code",
   "execution_count": 9,
   "id": "adjacent-toilet",
   "metadata": {},
   "outputs": [],
   "source": [
    "r = np.array(m.predict(np.arange(1, 13)))"
   ]
  },
  {
   "cell_type": "code",
   "execution_count": 10,
   "id": "coral-fellowship",
   "metadata": {},
   "outputs": [
    {
     "data": {
      "text/plain": [
       "array([[ 0.0000000e+00,  1.0000000e+00],\n",
       "       [ 5.4064083e-01,  8.4125352e-01],\n",
       "       [ 9.0963203e-01,  4.1541496e-01],\n",
       "       [ 9.8982143e-01, -1.4231496e-01],\n",
       "       [ 7.5574946e-01, -6.5486085e-01],\n",
       "       [ 2.8173238e-01, -9.5949304e-01],\n",
       "       [-2.8173277e-01, -9.5949292e-01],\n",
       "       [-7.5574976e-01, -6.5486056e-01],\n",
       "       [-9.8982149e-01, -1.4231454e-01],\n",
       "       [-9.0963197e-01,  4.1541508e-01],\n",
       "       [-5.4064047e-01,  8.4125376e-01],\n",
       "       [ 6.5168274e-07,  1.0000000e+00]], dtype=float32)"
      ]
     },
     "execution_count": 10,
     "metadata": {},
     "output_type": "execute_result"
    }
   ],
   "source": [
    "r"
   ]
  },
  {
   "cell_type": "code",
   "execution_count": 11,
   "id": "guilty-samba",
   "metadata": {},
   "outputs": [
    {
     "data": {
      "text/plain": [
       "1.0"
      ]
     },
     "execution_count": 11,
     "metadata": {},
     "output_type": "execute_result"
    }
   ],
   "source": [
    "v = 12\n",
    "np.sin((v - 1) / 11 * 2 * np.pi)\n",
    "np.cos((v - 1) / 11 * 2 * np.pi)"
   ]
  },
  {
   "cell_type": "code",
   "execution_count": 13,
   "id": "julian-villa",
   "metadata": {},
   "outputs": [
    {
     "ename": "RuntimeError",
     "evalue": "You must compile your model before training/testing. Use `model.compile(optimizer, loss)`.",
     "output_type": "error",
     "traceback": [
      "\u001b[0;31m\u001b[0m",
      "\u001b[0;31mRuntimeError\u001b[0mTraceback (most recent call last)",
      "\u001b[0;32m<ipython-input-13-466ef478bdfb>\u001b[0m in \u001b[0;36m<module>\u001b[0;34m\u001b[0m\n\u001b[0;32m----> 1\u001b[0;31m \u001b[0mm\u001b[0m\u001b[0;34m.\u001b[0m\u001b[0mfit\u001b[0m\u001b[0;34m(\u001b[0m\u001b[0;34m[\u001b[0m\u001b[0;34m]\u001b[0m\u001b[0;34m)\u001b[0m\u001b[0;34m\u001b[0m\u001b[0;34m\u001b[0m\u001b[0m\n\u001b[0m",
      "\u001b[0;32m/usr/local/lib/python3.8/dist-packages/tensorflow/python/keras/engine/training.py\u001b[0m in \u001b[0;36mfit\u001b[0;34m(self, x, y, batch_size, epochs, verbose, callbacks, validation_split, validation_data, shuffle, class_weight, sample_weight, initial_epoch, steps_per_epoch, validation_steps, validation_batch_size, validation_freq, max_queue_size, workers, use_multiprocessing)\u001b[0m\n\u001b[1;32m   1030\u001b[0m     \u001b[0;31m# Legacy graph support is contained in `training_v1.Model`.\u001b[0m\u001b[0;34m\u001b[0m\u001b[0;34m\u001b[0m\u001b[0;34m\u001b[0m\u001b[0m\n\u001b[1;32m   1031\u001b[0m     \u001b[0mversion_utils\u001b[0m\u001b[0;34m.\u001b[0m\u001b[0mdisallow_legacy_graph\u001b[0m\u001b[0;34m(\u001b[0m\u001b[0;34m'Model'\u001b[0m\u001b[0;34m,\u001b[0m \u001b[0;34m'fit'\u001b[0m\u001b[0;34m)\u001b[0m\u001b[0;34m\u001b[0m\u001b[0;34m\u001b[0m\u001b[0m\n\u001b[0;32m-> 1032\u001b[0;31m     \u001b[0mself\u001b[0m\u001b[0;34m.\u001b[0m\u001b[0m_assert_compile_was_called\u001b[0m\u001b[0;34m(\u001b[0m\u001b[0;34m)\u001b[0m\u001b[0;34m\u001b[0m\u001b[0;34m\u001b[0m\u001b[0m\n\u001b[0m\u001b[1;32m   1033\u001b[0m     \u001b[0mself\u001b[0m\u001b[0;34m.\u001b[0m\u001b[0m_check_call_args\u001b[0m\u001b[0;34m(\u001b[0m\u001b[0;34m'fit'\u001b[0m\u001b[0;34m)\u001b[0m\u001b[0;34m\u001b[0m\u001b[0;34m\u001b[0m\u001b[0m\n\u001b[1;32m   1034\u001b[0m     \u001b[0m_disallow_inside_tf_function\u001b[0m\u001b[0;34m(\u001b[0m\u001b[0;34m'fit'\u001b[0m\u001b[0;34m)\u001b[0m\u001b[0;34m\u001b[0m\u001b[0;34m\u001b[0m\u001b[0m\n",
      "\u001b[0;32m/usr/local/lib/python3.8/dist-packages/tensorflow/python/keras/engine/training.py\u001b[0m in \u001b[0;36m_assert_compile_was_called\u001b[0;34m(self)\u001b[0m\n\u001b[1;32m   2590\u001b[0m     \u001b[0;31m# (i.e. whether the model is built and its inputs/outputs are set).\u001b[0m\u001b[0;34m\u001b[0m\u001b[0;34m\u001b[0m\u001b[0;34m\u001b[0m\u001b[0m\n\u001b[1;32m   2591\u001b[0m     \u001b[0;32mif\u001b[0m \u001b[0;32mnot\u001b[0m \u001b[0mself\u001b[0m\u001b[0;34m.\u001b[0m\u001b[0m_is_compiled\u001b[0m\u001b[0;34m:\u001b[0m\u001b[0;34m\u001b[0m\u001b[0;34m\u001b[0m\u001b[0m\n\u001b[0;32m-> 2592\u001b[0;31m       raise RuntimeError('You must compile your model before '\n\u001b[0m\u001b[1;32m   2593\u001b[0m                          \u001b[0;34m'training/testing. '\u001b[0m\u001b[0;34m\u001b[0m\u001b[0;34m\u001b[0m\u001b[0m\n\u001b[1;32m   2594\u001b[0m                          'Use `model.compile(optimizer, loss)`.')\n",
      "\u001b[0;31mRuntimeError\u001b[0m: You must compile your model before training/testing. Use `model.compile(optimizer, loss)`."
     ]
    }
   ],
   "source": [
    "m.get"
   ]
  },
  {
   "cell_type": "code",
   "execution_count": null,
   "id": "perfect-naples",
   "metadata": {},
   "outputs": [],
   "source": []
  }
 ],
 "metadata": {
  "kernelspec": {
   "display_name": "Python 3",
   "language": "python",
   "name": "python3"
  },
  "language_info": {
   "codemirror_mode": {
    "name": "ipython",
    "version": 3
   },
   "file_extension": ".py",
   "mimetype": "text/x-python",
   "name": "python",
   "nbconvert_exporter": "python",
   "pygments_lexer": "ipython3",
   "version": "3.8.5"
  }
 },
 "nbformat": 4,
 "nbformat_minor": 5
}
