{
 "cells": [
  {
   "cell_type": "code",
   "execution_count": 1,
   "metadata": {},
   "outputs": [],
   "source": [
    "import os\n",
    "import sys\n",
    "\n",
    "import matplotlib.pyplot as plt\n",
    "import numpy as np\n",
    "import pandas as pd\n",
    "import tensorflow_addons as tfa\n",
    "from sklearn.metrics import f1_score\n",
    "from tensorflow import keras\n",
    "from tqdm import tqdm\n",
    "\n",
    "from lib.utils import fix_random_seed, read_json\n",
    "from src.config import c\n",
    "from src.data_utils import (\n",
    "    boost_multiple_occurences,\n",
    "    geofilter_predictions,\n",
    "    normalize_soundscapes_df,\n",
    "    predictions_to_text_labels,\n",
    "    read_soundscapes_info,\n",
    ")\n",
    "from src.generator import Generator\n",
    "from src.geo_filter import filters as geo_filters\n",
    "from src.models import Div, SinCos, YMToDate\n",
    "from src.services import get_msg_provider, get_wave_provider\n",
    "\n",
    "from tqdm import tqdm"
   ]
  },
  {
   "cell_type": "code",
   "execution_count": 2,
   "metadata": {},
   "outputs": [],
   "source": [
    "IN_CSV = \"/kaggle/input/birdclef-2021/train_soundscape_labels.csv\"\n",
    "MODEL = \"/kaggle/input/bc21-models/B1_nrsw_2.h5\""
   ]
  },
  {
   "cell_type": "code",
   "execution_count": 3,
   "metadata": {},
   "outputs": [],
   "source": [
    "# metadata from model training run\n",
    "meta = read_json(MODEL.replace(\".h5\", \".json\"))\n",
    "\n",
    "for k in [\n",
    "    \"WORK_DIR\",\n",
    "    \"CACHE_DIR\",\n",
    "    \"COMPETITION_DATA\",\n",
    "    \"SRC_DATA_DIRS\",\n",
    "    \"CACHE_AUDIO_FRAGMENTS\",\n",
    "]:\n",
    "    meta[\"config\"][k] = c[k]"
   ]
  },
  {
   "cell_type": "code",
   "execution_count": 4,
   "metadata": {},
   "outputs": [],
   "source": [
    "# prepare soundscapes df\n",
    "df = pd.read_csv(IN_CSV)\n",
    "df = normalize_soundscapes_df(df, quiet=True, seconds=5)"
   ]
  },
  {
   "cell_type": "code",
   "execution_count": 5,
   "metadata": {},
   "outputs": [],
   "source": [
    "if os.path.isfile(\"Y_pred.npy\"):\n",
    "\n",
    "    Y_pred = np.load(\"Y_pred.npy\")\n",
    "\n",
    "else:\n",
    "\n",
    "    # load model\n",
    "    model = keras.models.load_model(\n",
    "        MODEL,\n",
    "        custom_objects={\n",
    "            \"SinCos\": SinCos,\n",
    "            \"Div\": Div,\n",
    "            \"YMToDate\": YMToDate,\n",
    "        },\n",
    "    )\n",
    "\n",
    "    # create generator\n",
    "    input_shape = model.get_layer(\"i_msg\").input_shape[0][1:]\n",
    "    wave_p = get_wave_provider(meta[\"config\"])\n",
    "    msg_p = get_msg_provider(\n",
    "        meta[\"config\"], n_mels=input_shape[0], time_steps=input_shape[1]\n",
    "    )\n",
    "\n",
    "    g = Generator(\n",
    "        df=df,\n",
    "        shuffle=False,\n",
    "        augmentation=None,\n",
    "        rating_as_sw=False,\n",
    "        rareness_as_sw=False,\n",
    "        msg_provider=msg_p,\n",
    "        wave_provider=wave_p,\n",
    "        msg_as_rgb=(3 == input_shape[-1]),\n",
    "        geo_coordinates_bins=meta[\"config\"][\"GEO_COORDINATES_BINS\"],\n",
    "        batch_size=1,\n",
    "    )\n",
    "\n",
    "    # predict\n",
    "    Y_pred = model.predict(\n",
    "        x=g,\n",
    "        use_multiprocessing=True,\n",
    "        workers=4,\n",
    "        verbose=1,\n",
    "    )\n",
    "\n",
    "    np.save(\"Y_pred\", Y_pred)\n",
    "\n",
    "df[\"_y_pred\"] = list(map(lambda x: x, Y_pred))"
   ]
  },
  {
   "cell_type": "code",
   "execution_count": null,
   "metadata": {},
   "outputs": [],
   "source": []
  },
  {
   "cell_type": "code",
   "execution_count": 9,
   "metadata": {},
   "outputs": [
    {
     "name": "stderr",
     "output_type": "stream",
     "text": [
      "  0%|          | 0/39 [00:00<?, ?it/s]"
     ]
    },
    {
     "name": "stdout",
     "output_type": "stream",
     "text": [
      "2\n"
     ]
    },
    {
     "name": "stderr",
     "output_type": "stream",
     "text": [
      "100%|██████████| 39/39 [00:13<00:00,  2.79it/s]\n",
      "  0%|          | 0/39 [00:00<?, ?it/s]"
     ]
    },
    {
     "name": "stdout",
     "output_type": "stream",
     "text": [
      "3\n"
     ]
    },
    {
     "name": "stderr",
     "output_type": "stream",
     "text": [
      "100%|██████████| 39/39 [00:13<00:00,  2.86it/s]\n",
      "  0%|          | 0/39 [00:00<?, ?it/s]"
     ]
    },
    {
     "name": "stdout",
     "output_type": "stream",
     "text": [
      "4\n"
     ]
    },
    {
     "name": "stderr",
     "output_type": "stream",
     "text": [
      "100%|██████████| 39/39 [00:13<00:00,  2.80it/s]\n"
     ]
    }
   ],
   "source": [
    "scores = {}\n",
    "\n",
    "for m in np.arange(2, 10, 1):\n",
    "\n",
    "    print(m)\n",
    "    bs = []\n",
    "    f1s = []\n",
    "\n",
    "    # convert predictions to words\n",
    "    for b in tqdm(np.arange(1.05, 3, 0.05)):\n",
    "\n",
    "        df = boost_multiple_occurences(\n",
    "            df=df,\n",
    "            labels=meta[\"labels\"],\n",
    "            pred_col=\"_y_pred\",\n",
    "            out_col=\"_y_pred_boosted\",\n",
    "            boost_coef=b,\n",
    "            max_boost_coef=b * 4,\n",
    "            threshold=0.5,\n",
    "        )\n",
    "\n",
    "        bs.append(b)\n",
    "    #     print(\"\\n\", b)\n",
    "\n",
    "        labels_pred = predictions_to_text_labels(\n",
    "            np.array(list(df[\"_y_pred\"])),\n",
    "            meta[\"labels\"],\n",
    "            default_label=\"nocall\",\n",
    "            max_labels=None,\n",
    "            priority_to_nocall=False,\n",
    "        )\n",
    "\n",
    "        df[\"birds\"] = labels_pred\n",
    "\n",
    "        labels_pred = predictions_to_text_labels(\n",
    "            np.array(list(df[\"_y_pred_boosted\"])),\n",
    "            meta[\"labels\"],\n",
    "            default_label=\"nocall\",\n",
    "            max_labels=None,\n",
    "            priority_to_nocall=False,\n",
    "        )\n",
    "\n",
    "        df[\"birds_boosted\"] = labels_pred\n",
    "\n",
    "    #     f1 = f1_score(\n",
    "    #         df[\"_primary_labels\"],\n",
    "    #         df[\"birds\"],\n",
    "    #         labels=meta[\"labels\"],\n",
    "    #         average=\"micro\",\n",
    "    #     )\n",
    "    #     print(\"f1:\", f1)\n",
    "\n",
    "        f1s.append(\n",
    "            f1_score(\n",
    "                df[\"_primary_labels\"],\n",
    "                df[\"birds_boosted\"],\n",
    "                labels=meta[\"labels\"],\n",
    "                average=\"micro\",\n",
    "            )\n",
    "        )\n",
    "\n",
    "    #     print(\"f1 boosted:\", f1s[-1])\n",
    "    \n",
    "    scores[m] = (bs, f1s)"
   ]
  },
  {
   "cell_type": "code",
   "execution_count": null,
   "metadata": {},
   "outputs": [],
   "source": []
  },
  {
   "cell_type": "code",
   "execution_count": 24,
   "metadata": {},
   "outputs": [
    {
     "data": {
      "image/png": "[encoded data removed]",
      "text/plain": [
       "<Figure size 432x288 with 1 Axes>"
      ]
     },
     "metadata": {
      "image/png": {
       "height": 248,
       "width": 395
      },
      "needs_background": "light"
     },
     "output_type": "display_data"
    }
   ],
   "source": [
    "# plt.plot(bs, range(len(bs)))\n",
    "for k, v in scores.items():\n",
    "    plt.plot(*v)"
   ]
  },
  {
   "cell_type": "code",
   "execution_count": 26,
   "metadata": {},
   "outputs": [
    {
     "data": {
      "image/png": "[encoded data removed]",
      "text/plain": [
       "<Figure size 432x288 with 1 Axes>"
      ]
     },
     "metadata": {
      "image/png": {
       "height": 248,
       "width": 378
      },
      "needs_background": "light"
     },
     "output_type": "display_data"
    }
   ],
   "source": [
    "for k, v in scores.items():\n",
    "    plt.plot()"
   ]
  },
  {
   "cell_type": "code",
   "execution_count": 28,
   "metadata": {},
   "outputs": [
    {
     "data": {
      "text/plain": [
       "27"
      ]
     },
     "execution_count": 28,
     "metadata": {},
     "output_type": "execute_result"
    }
   ],
   "source": [
    "np.argmax(scores[k][1])"
   ]
  },
  {
   "cell_type": "code",
   "execution_count": 29,
   "metadata": {},
   "outputs": [
    {
     "data": {
      "text/plain": [
       "2.4000000000000012"
      ]
     },
     "execution_count": 29,
     "metadata": {},
     "output_type": "execute_result"
    }
   ],
   "source": [
    "scores[2][0][27]"
   ]
  },
  {
   "cell_type": "code",
   "execution_count": null,
   "metadata": {},
   "outputs": [],
   "source": [
    "# df[df[\"_primary_labels\"] != df[\"birds\"]].to_csv(\"wrong.csv\")"
   ]
  },
  {
   "cell_type": "code",
   "execution_count": null,
   "metadata": {},
   "outputs": [],
   "source": [
    "print(\n",
    "    \"f1:\",\n",
    "    f1_score(\n",
    "        df[\"_primary_labels\"],\n",
    "        df[\"birds\"],\n",
    "        labels=meta[\"labels\"],\n",
    "        average=\"micro\",\n",
    "    ),\n",
    ")\n",
    "\n",
    "print(\n",
    "    \"f1:\",\n",
    "    f1_score(\n",
    "        df[\"_primary_labels\"],\n",
    "        df[\"birds_boosted\"],\n",
    "        labels=meta[\"labels\"],\n",
    "        average=\"micro\",\n",
    "    ),\n",
    ")"
   ]
  },
  {
   "cell_type": "code",
   "execution_count": null,
   "metadata": {},
   "outputs": [],
   "source": [
    "# df[[\"row_id\", \"birds\"]].to_csv(\"submission.csv\", index=False)"
   ]
  }
 ],
 "metadata": {
  "kernelspec": {
   "display_name": "Python 3",
   "language": "python",
   "name": "python3"
  },
  "language_info": {
   "codemirror_mode": {
    "name": "ipython",
    "version": 3
   },
   "file_extension": ".py",
   "mimetype": "text/x-python",
   "name": "python",
   "nbconvert_exporter": "python",
   "pygments_lexer": "ipython3",
   "version": "3.8.5"
  }
 },
 "nbformat": 4,
 "nbformat_minor": 4
}
