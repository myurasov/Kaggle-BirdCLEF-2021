{
 "cells": [
  {
   "cell_type": "code",
   "execution_count": null,
   "metadata": {},
   "outputs": [],
   "source": [
    "! touch submission.csv"
   ]
  },
  {
   "cell_type": "code",
   "execution_count": null,
   "metadata": {},
   "outputs": [],
   "source": [
    "# environment setup\n",
    "\n",
    "import os\n",
    "import sys\n",
    "\n",
    "os.environ[\"__KAGGLE__\"] = \"1\"\n",
    "sys.path.append(\"/kaggle/input/bc21-code/\")"
   ]
  },
  {
   "cell_type": "code",
   "execution_count": null,
   "metadata": {},
   "outputs": [],
   "source": [
    "import numpy as np\n",
    "import pandas as pd\n",
    "import tensorflow_addons as tfa\n",
    "from sklearn.metrics import f1_score\n",
    "from tensorflow import keras\n",
    "from tqdm import tqdm\n",
    "\n",
    "from lib.utils import fix_random_seed, read_json\n",
    "from src.config import c\n",
    "from src.data_utils import (\n",
    "    geofilter_predictions,\n",
    "    normalize_soundscapes_df,\n",
    "    predictions_to_text_labels,\n",
    "    read_soundscapes_info,\n",
    ")\n",
    "from src.generator import Generator\n",
    "from src.geo_filter import filters as geo_filters\n",
    "from src.models import Div, SinCos, YMToDate\n",
    "from src.services import get_msg_provider, get_wave_provider"
   ]
  },
  {
   "cell_type": "code",
   "execution_count": null,
   "metadata": {},
   "outputs": [],
   "source": [
    "IN_KAGGLE_SUBMIT = (('KAGGLE_KERNEL_RUN_TYPE' not in os.environ) or\n",
    "    (os.environ[\"KAGGLE_KERNEL_RUN_TYPE\"] != \"Interactive\"))\n",
    "\n",
    "IN_CSV = (\n",
    "    \"/kaggle/input/birdclef-2021/test.csv\"\n",
    "    if IN_KAGGLE_SUBMIT\n",
    "    else \"/kaggle/input/birdclef-2021/train_soundscape_labels.csv\"\n",
    ")\n",
    "\n",
    "MODEL = \"/kaggle/input/bc21-models/B1_nrsw_2.h5\"\n",
    "\n",
    "# GEOFILTER = \"all-500mi-last_5y-1mo_tolerance\"\n",
    "GEOFILTER = None"
   ]
  },
  {
   "cell_type": "code",
   "execution_count": null,
   "metadata": {},
   "outputs": [],
   "source": [
    "# metadata from model training run\n",
    "meta = read_json(MODEL.replace(\".h5\", \".json\"))\n",
    "\n",
    "# copy kaggle-specific configs\n",
    "for k in [\n",
    "    \"WORK_DIR\",\n",
    "    \"CACHE_DIR\",\n",
    "    \"COMPETITION_DATA\",\n",
    "    \"SRC_DATA_DIRS\",\n",
    "    \"CACHE_AUDIO_FRAGMENTS\",\n",
    "]:\n",
    "    meta[\"config\"][k] = c[k]"
   ]
  },
  {
   "cell_type": "code",
   "execution_count": null,
   "metadata": {},
   "outputs": [],
   "source": [
    "# prepare soundscapes df\n",
    "df = pd.read_csv(IN_CSV)\n",
    "df = normalize_soundscapes_df(df, quiet=True, seconds=5)"
   ]
  },
  {
   "cell_type": "code",
   "execution_count": null,
   "metadata": {},
   "outputs": [],
   "source": [
    "# load model\n",
    "model = keras.models.load_model(\n",
    "    MODEL,\n",
    "    custom_objects={\n",
    "        \"SinCos\": SinCos,\n",
    "        \"Div\": Div,\n",
    "        \"YMToDate\": YMToDate,\n",
    "    },\n",
    ")"
   ]
  },
  {
   "cell_type": "code",
   "execution_count": null,
   "metadata": {},
   "outputs": [],
   "source": [
    "# create generator\n",
    "input_shape = model.get_layer(\"i_msg\").input_shape[0][1:]\n",
    "wave_p = get_wave_provider(meta[\"config\"])\n",
    "msg_p = get_msg_provider(\n",
    "    meta[\"config\"], n_mels=input_shape[0], time_steps=input_shape[1]\n",
    ")\n",
    "\n",
    "g = Generator(\n",
    "    df=df,\n",
    "    shuffle=False,\n",
    "    augmentation=None,\n",
    "    rating_as_sw=False,\n",
    "    rareness_as_sw=False,\n",
    "    msg_provider=msg_p,\n",
    "    wave_provider=wave_p,\n",
    "    msg_as_rgb=(3 == input_shape[-1]),\n",
    "    geo_coordinates_bins=meta[\"config\"][\"GEO_COORDINATES_BINS\"],\n",
    "    batch_size=1,\n",
    ")"
   ]
  },
  {
   "cell_type": "code",
   "execution_count": null,
   "metadata": {},
   "outputs": [],
   "source": [
    "# predict\n",
    "Y_pred = model.predict(\n",
    "    x=g,\n",
    "    use_multiprocessing=False,\n",
    "    verbose=0 if IN_KAGGLE_SUBMIT else 1,\n",
    ")"
   ]
  },
  {
   "cell_type": "code",
   "execution_count": null,
   "metadata": {},
   "outputs": [],
   "source": [
    "# geofiltering\n",
    "\n",
    "if GEOFILTER is not None:\n",
    "\n",
    "    Y_pred = geofilter_predictions(\n",
    "        df=df,\n",
    "        Y_pred=Y_pred,\n",
    "        site_labels=geo_filters[GEOFILTER],\n",
    "        labels=meta[\"labels\"],\n",
    "        downgrade_const=0.0,\n",
    "    )"
   ]
  },
  {
   "cell_type": "code",
   "execution_count": null,
   "metadata": {},
   "outputs": [],
   "source": [
    "# convert predictions to words\n",
    "\n",
    "labels_pred = predictions_to_text_labels(\n",
    "    Y_pred,\n",
    "    meta[\"labels\"],\n",
    "    default_label=\"nocall\",\n",
    "    max_labels=None,\n",
    "    priority_to_nocall=False,\n",
    ")\n",
    "\n",
    "df[\"birds\"] = labels_pred"
   ]
  },
  {
   "cell_type": "code",
   "execution_count": null,
   "metadata": {},
   "outputs": [],
   "source": [
    "if not IN_KAGGLE_SUBMIT:\n",
    "\n",
    "    df[df[\"_primary_labels\"] != df[\"birds\"]].to_csv(\"wrong.csv\")\n",
    "\n",
    "    print(\n",
    "        \"f1:\",\n",
    "        f1_score(\n",
    "            df[\"_primary_labels\"],\n",
    "            df[\"birds\"],\n",
    "            labels=meta[\"labels\"],\n",
    "            average=\"micro\",\n",
    "        ),\n",
    "    )"
   ]
  },
  {
   "cell_type": "code",
   "execution_count": null,
   "metadata": {},
   "outputs": [],
   "source": [
    "df[[\"row_id\", \"birds\"]].to_csv(\"submission.csv\", index=False)"
   ]
  }
 ],
 "metadata": {
  "kernelspec": {
   "display_name": "Python 3",
   "language": "python",
   "name": "python3"
  },
  "language_info": {
   "codemirror_mode": {
    "name": "ipython",
    "version": 3
   },
   "file_extension": ".py",
   "mimetype": "text/x-python",
   "name": "python",
   "nbconvert_exporter": "python",
   "pygments_lexer": "ipython3",
   "version": "3.8.5"
  }
 },
 "nbformat": 4,
 "nbformat_minor": 4
}
