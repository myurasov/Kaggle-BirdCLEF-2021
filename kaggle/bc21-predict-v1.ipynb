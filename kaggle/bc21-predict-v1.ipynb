{
 "cells": [
  {
   "cell_type": "code",
   "execution_count": 1,
   "metadata": {},
   "outputs": [],
   "source": [
    "# environment setup\n",
    "\n",
    "import os\n",
    "import sys\n",
    "\n",
    "os.environ[\"__KAGGLE__\"] = \"1\"\n",
    "sys.path.append(\"/kaggle/input/bc21-code/\")"
   ]
  },
  {
   "cell_type": "code",
   "execution_count": 2,
   "metadata": {},
   "outputs": [
    {
     "name": "stderr",
     "output_type": "stream",
     "text": [
      "/opt/conda/lib/python3.7/site-packages/torchaudio/backend/utils.py:54: UserWarning: \"sox\" backend is being deprecated. The default backend will be changed to \"sox_io\" backend in 0.8.0 and \"sox\" backend will be removed in 0.9.0. Please migrate to \"sox_io\" backend. Please refer to https://github.com/pytorch/audio/issues/903 for the detail.\n",
      "  '\"sox\" backend is being deprecated. '\n"
     ]
    }
   ],
   "source": [
    "import matplotlib.pyplot as plt\n",
    "import numpy as np\n",
    "import pandas as pd\n",
    "import tensorflow_addons as tfa\n",
    "from sklearn.metrics import f1_score\n",
    "from tensorflow import keras\n",
    "from tqdm import tqdm\n",
    "\n",
    "from lib.utils import fix_random_seed, read_json\n",
    "from src.config import c\n",
    "from src.data_utils import (\n",
    "    geofilter_predictions,\n",
    "    normalize_soundscapes_df,\n",
    "    predictions_to_text_labels,\n",
    "    read_soundscapes_info,\n",
    ")\n",
    "from src.generator import Generator\n",
    "from src.geo_filter import filters as geo_filters\n",
    "from src.models import Div, SinCos, YMToDate\n",
    "from src.services import get_msg_provider, get_wave_provider"
   ]
  },
  {
   "cell_type": "code",
   "execution_count": 13,
   "metadata": {},
   "outputs": [],
   "source": [
    "# IN_KAGGLE_SUBMIT = os.environ[\"KAGGLE_KERNEL_RUN_TYPE\"] != \"Interactive\"\n",
    "IN_KAGGLE_SUBMIT = True\n",
    "\n",
    "IN_CSV = (\n",
    "    \"/kaggle/input/birdclef-2021/test.csv\"\n",
    "    if IN_KAGGLE_SUBMIT\n",
    "    else \"/kaggle/input/birdclef-2021/train_soundscape_labels.csv\"\n",
    ")\n",
    "\n",
    "MODEL = \"/kaggle/input/bc21-models/B1_nrsw_2.h5\"\n",
    "\n",
    "GEOFILTER = \"all-500mi-last_5y-1mo_tolerance\"\n",
    "# GEOFILTER = None"
   ]
  },
  {
   "cell_type": "code",
   "execution_count": 4,
   "metadata": {},
   "outputs": [],
   "source": [
    "# metadata from model training run\n",
    "meta = read_json(MODEL.replace(\".h5\", \".json\"))\n",
    "\n",
    "# copy kaggle-specific configs\n",
    "for k in [\"WORK_DIR\", \"CACHE_DIR\", \"COMPETITION_DATA\", \"SRC_DATA_DIRS\"]:\n",
    "    meta[\"config\"][k] = c[k]"
   ]
  },
  {
   "cell_type": "code",
   "execution_count": 5,
   "metadata": {},
   "outputs": [],
   "source": [
    "# prepare soundscapes df\n",
    "df = pd.read_csv(IN_CSV)\n",
    "df = normalize_soundscapes_df(df, quiet=True, seconds=5)"
   ]
  },
  {
   "cell_type": "code",
   "execution_count": 6,
   "metadata": {},
   "outputs": [],
   "source": [
    "# load model\n",
    "model = keras.models.load_model(\n",
    "    MODEL,\n",
    "    custom_objects={\n",
    "        \"SinCos\": SinCos,\n",
    "        \"Div\": Div,\n",
    "        \"YMToDate\": YMToDate,\n",
    "    },\n",
    ")"
   ]
  },
  {
   "cell_type": "code",
   "execution_count": 7,
   "metadata": {},
   "outputs": [
    {
     "name": "stderr",
     "output_type": "stream",
     "text": [
      "/opt/conda/lib/python3.7/site-packages/torchaudio/functional.py:318: UserWarning: At least one mel filterbank has all zero values. The value for `n_mels` (380) may be set too high. Or, the value for `n_freqs` (1025) may be set too low.\n",
      "  \"At least one mel filterbank has all zero values. \"\n"
     ]
    }
   ],
   "source": [
    "# create generator\n",
    "input_shape = model.get_layer(\"i_msg\").input_shape[0][1:]\n",
    "wave_p = get_wave_provider(meta[\"config\"])\n",
    "msg_p = get_msg_provider(\n",
    "    meta[\"config\"], n_mels=input_shape[0], time_steps=input_shape[1]\n",
    ")\n",
    "\n",
    "g = Generator(\n",
    "    df=df,\n",
    "    shuffle=False,\n",
    "    augmentation=None,\n",
    "    rating_as_sw=False,\n",
    "    rareness_as_sw=False,\n",
    "    msg_provider=msg_p,\n",
    "    wave_provider=wave_p,\n",
    "    msg_as_rgb=(3 == input_shape[-1]),\n",
    "    geo_coordinates_bins=meta[\"config\"][\"GEO_COORDINATES_BINS\"],\n",
    "    batch_size=1,\n",
    ")"
   ]
  },
  {
   "cell_type": "code",
   "execution_count": 8,
   "metadata": {},
   "outputs": [
    {
     "name": "stderr",
     "output_type": "stream",
     "text": [
      "/opt/conda/lib/python3.7/site-packages/torch/functional.py:516: UserWarning: stft will require the return_complex parameter be explicitly  specified in a future PyTorch release. Use return_complex=False  to preserve the current behavior or return_complex=True to return  a complex output. (Triggered internally at  /opt/conda/conda-bld/pytorch_1603729138878/work/aten/src/ATen/native/SpectralOps.cpp:653.)\n",
      "  normalized, onesided, return_complex)\n",
      "/opt/conda/lib/python3.7/site-packages/torch/functional.py:516: UserWarning: The function torch.rfft is deprecated and will be removed in a future PyTorch release. Use the new torch.fft module functions, instead, by importing torch.fft and calling torch.fft.fft or torch.fft.rfft. (Triggered internally at  /opt/conda/conda-bld/pytorch_1603729138878/work/aten/src/ATen/native/SpectralOps.cpp:590.)\n",
      "  normalized, onesided, return_complex)\n"
     ]
    },
    {
     "name": "stdout",
     "output_type": "stream",
     "text": [
      "2400/2400 [==============================] - 159s 63ms/step\n"
     ]
    }
   ],
   "source": [
    "# predict\n",
    "Y_pred = model.predict(\n",
    "    x=g,\n",
    "    use_multiprocessing=False,\n",
    "    verbose=0 if IN_KAGGLE_SUBMIT else 1,\n",
    ")"
   ]
  },
  {
   "cell_type": "code",
   "execution_count": 14,
   "metadata": {},
   "outputs": [],
   "source": [
    "# geofiltering\n",
    "\n",
    "if GEOFILTER is not None:\n",
    "\n",
    "    Y_pred = geofilter_predictions(\n",
    "        df=df,\n",
    "        Y_pred=Y_pred,\n",
    "        site_labels=geo_filters[GEOFILTER],\n",
    "        labels=meta[\"labels\"],\n",
    "        downgrade_const=0.0,\n",
    "    )"
   ]
  },
  {
   "cell_type": "code",
   "execution_count": 15,
   "metadata": {},
   "outputs": [],
   "source": [
    "# convert predictions to words\n",
    "\n",
    "labels_pred = predictions_to_text_labels(\n",
    "    Y_pred,\n",
    "    meta[\"labels\"],\n",
    "    default_label=\"nocall\",\n",
    "    max_labels=None,\n",
    "    priority_to_nocall=False,\n",
    ")\n",
    "\n",
    "df[\"birds\"] = labels_pred"
   ]
  },
  {
   "cell_type": "code",
   "execution_count": 16,
   "metadata": {},
   "outputs": [
    {
     "name": "stdout",
     "output_type": "stream",
     "text": [
      "f1: 0.9393600358021928\n"
     ]
    }
   ],
   "source": [
    "if not IN_KAGGLE_SUBMIT:\n",
    "\n",
    "    df[df[\"_primary_labels\"] != df[\"birds\"]].to_csv(\"wrong.csv\")\n",
    "\n",
    "    print(\n",
    "        \"f1:\",\n",
    "        f1_score(\n",
    "            df[\"_primary_labels\"],\n",
    "            df[\"birds\"],\n",
    "            labels=meta[\"labels\"],\n",
    "            average=\"micro\",\n",
    "        ),\n",
    "    )"
   ]
  },
  {
   "cell_type": "code",
   "execution_count": 17,
   "metadata": {},
   "outputs": [],
   "source": [
    "df[[\"row_id\", \"birds\"]].to_csv(\"submission.csv\", index=False)"
   ]
  },
  {
   "cell_type": "code",
   "execution_count": null,
   "metadata": {},
   "outputs": [],
   "source": []
  }
 ],
 "metadata": {
  "kernelspec": {
   "display_name": "Python 3",
   "language": "python",
   "name": "python3"
  },
  "language_info": {
   "codemirror_mode": {
    "name": "ipython",
    "version": 3
   },
   "file_extension": ".py",
   "mimetype": "text/x-python",
   "name": "python",
   "nbconvert_exporter": "python",
   "pygments_lexer": "ipython3",
   "version": "3.8.5"
  }
 },
 "nbformat": 4,
 "nbformat_minor": 4
}
