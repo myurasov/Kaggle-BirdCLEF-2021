{
 "cells": [
  {
   "cell_type": "code",
   "execution_count": 1,
   "metadata": {},
   "outputs": [],
   "source": [
    "! touch submission.csv"
   ]
  },
  {
   "cell_type": "code",
   "execution_count": 2,
   "metadata": {},
   "outputs": [],
   "source": [
    "# environment setup\n",
    "\n",
    "import os\n",
    "import sys\n",
    "\n",
    "os.environ[\"__KAGGLE__\"] = \"1\"\n",
    "sys.path.append(\"/kaggle/input/bc21-code/\")"
   ]
  },
  {
   "cell_type": "code",
   "execution_count": 10,
   "metadata": {},
   "outputs": [],
   "source": [
    "import numpy as np\n",
    "import pandas as pd\n",
    "import tensorflow_addons as tfa\n",
    "from sklearn.metrics import f1_score\n",
    "from tensorflow import keras\n",
    "from tqdm import tqdm\n",
    "\n",
    "from lib.utils import fix_random_seed, read_json\n",
    "from src.config import c\n",
    "from src.data_utils import (\n",
    "    boost_multiple_occurences,\n",
    "    geofilter_predictions,\n",
    "    normalize_soundscapes_df,\n",
    "    predictions_to_text_labels,\n",
    "    read_soundscapes_info,\n",
    ")\n",
    "from src.generator import Generator\n",
    "from src.geo_filter import filters as geo_filters\n",
    "from src.models import Div, SinCos, YMToDate\n",
    "from src.services import get_msg_provider, get_wave_provider"
   ]
  },
  {
   "cell_type": "code",
   "execution_count": 4,
   "metadata": {},
   "outputs": [],
   "source": [
    "IN_KAGGLE_SUBMIT = os.environ[\"KAGGLE_KERNEL_RUN_TYPE\"] != \"Interactive\"\n",
    "\n",
    "IN_CSV = (\n",
    "    \"/kaggle/input/birdclef-2021/test.csv\"\n",
    "    if IN_KAGGLE_SUBMIT\n",
    "    else \"/kaggle/input/birdclef-2021/train_soundscape_labels.csv\"\n",
    ")\n",
    "\n",
    "MODEL = \"/kaggle/input/bc21-models/B1_nrsw_2.h5\"\n",
    "GEOFILTER = \"all-500mi-last_5y-1mo_tolerance\""
   ]
  },
  {
   "cell_type": "code",
   "execution_count": 5,
   "metadata": {},
   "outputs": [],
   "source": [
    "# metadata from model training run\n",
    "meta = read_json(MODEL.replace(\".h5\", \".json\"))\n",
    "\n",
    "# copy kaggle-specific configs\n",
    "for k in [\n",
    "    \"WORK_DIR\",\n",
    "    \"CACHE_DIR\",\n",
    "    \"COMPETITION_DATA\",\n",
    "    \"SRC_DATA_DIRS\",\n",
    "    \"CACHE_AUDIO_FRAGMENTS\",\n",
    "]:\n",
    "    meta[\"config\"][k] = c[k]"
   ]
  },
  {
   "cell_type": "code",
   "execution_count": 6,
   "metadata": {},
   "outputs": [],
   "source": [
    "# prepare soundscapes df\n",
    "df = pd.read_csv(IN_CSV)\n",
    "df = normalize_soundscapes_df(df, quiet=True, seconds=5)"
   ]
  },
  {
   "cell_type": "code",
   "execution_count": 7,
   "metadata": {},
   "outputs": [
    {
     "name": "stdout",
     "output_type": "stream",
     "text": [
      "INFO:tensorflow:Mixed precision compatibility check (mixed_float16): OK\n",
      "Your GPU will likely run quickly with dtype policy mixed_float16 as it has compute capability of at least 7.0. Your GPU: NVIDIA Tesla V100-DGXS-32GB, compute capability 7.0\n"
     ]
    }
   ],
   "source": [
    "# load model\n",
    "model = keras.models.load_model(\n",
    "    MODEL,\n",
    "    custom_objects={\n",
    "        \"SinCos\": SinCos,\n",
    "        \"Div\": Div,\n",
    "        \"YMToDate\": YMToDate,\n",
    "    },\n",
    ")"
   ]
  },
  {
   "cell_type": "code",
   "execution_count": 8,
   "metadata": {},
   "outputs": [
    {
     "name": "stderr",
     "output_type": "stream",
     "text": [
      "/usr/local/lib/python3.8/dist-packages/torchaudio/functional/functional.py:357: UserWarning: At least one mel filterbank has all zero values. The value for `n_mels` (380) may be set too high. Or, the value for `n_freqs` (1025) may be set too low.\n",
      "  warnings.warn(\n"
     ]
    }
   ],
   "source": [
    "# create generator\n",
    "\n",
    "input_shape = model.get_layer(\"i_msg\").input_shape[0][1:]\n",
    "wave_p = get_wave_provider(meta[\"config\"])\n",
    "msg_p = get_msg_provider(\n",
    "    meta[\"config\"], n_mels=input_shape[0], time_steps=input_shape[1]\n",
    ")\n",
    "\n",
    "generator = Generator(\n",
    "    df=df,\n",
    "    shuffle=False,\n",
    "    augmentation=None,\n",
    "    rating_as_sw=False,\n",
    "    rareness_as_sw=False,\n",
    "    msg_provider=msg_p,\n",
    "    wave_provider=wave_p,\n",
    "    msg_as_rgb=(3 == input_shape[-1]),\n",
    "    geo_coordinates_bins=meta[\"config\"][\"GEO_COORDINATES_BINS\"],\n",
    "    batch_size=1,\n",
    ")"
   ]
  },
  {
   "cell_type": "code",
   "execution_count": 9,
   "metadata": {},
   "outputs": [
    {
     "name": "stdout",
     "output_type": "stream",
     "text": [
      "2400/2400 [==============================] - 121s 46ms/step\n"
     ]
    }
   ],
   "source": [
    "# predict\n",
    "Y_pred = model.predict(\n",
    "    x=generator,\n",
    "    use_multiprocessing=False,\n",
    "    verbose=0 if IN_KAGGLE_SUBMIT else 1,\n",
    ")"
   ]
  },
  {
   "cell_type": "code",
   "execution_count": 12,
   "metadata": {},
   "outputs": [],
   "source": [
    "df[\"_y_pred\"] = list(map(lambda x: x, Y_pred))"
   ]
  },
  {
   "cell_type": "code",
   "execution_count": 25,
   "metadata": {},
   "outputs": [],
   "source": [
    "# boost\n",
    "\n",
    "BOOST_COEF = 2.4\n",
    "MAX_BOOST_COEF = 2.4 * 5\n",
    "THRESHOLD = 0.5\n",
    "\n",
    "\n",
    "df = boost_multiple_occurences(\n",
    "    df=df,\n",
    "    labels=meta[\"labels\"],\n",
    "    pred_col=\"_y_pred\",\n",
    "    out_col=\"_y_pred_boosted\",\n",
    "    boost_coef=BOOST_COEF,\n",
    "    max_boost_coef=MAX_BOOST_COEF,\n",
    "    threshold=THRESHOLD,\n",
    ")\n",
    "\n",
    "# geofiltering\n",
    "\n",
    "if GEOFILTER is not None:\n",
    "\n",
    "    yp = geofilter_predictions(\n",
    "        df=df,\n",
    "        Y_pred=np.array(list(df[\"_y_pred\"])),\n",
    "        site_labels=geo_filters[GEOFILTER],\n",
    "        labels=meta[\"labels\"],\n",
    "        downgrade_const=0.0,\n",
    "    )\n",
    "    df[\"_y_pred_geof\"] = list(map(lambda x: x, yp))\n",
    "\n",
    "    yp = geofilter_predictions(\n",
    "        df=df,\n",
    "        Y_pred=np.array(list(df[\"_y_pred_boosted\"])),\n",
    "        site_labels=geo_filters[GEOFILTER],\n",
    "        labels=meta[\"labels\"],\n",
    "        downgrade_const=0.0,\n",
    "    )\n",
    "    df[\"_y_pred_geof_boosted\"] = list(map(lambda x: x, yp))"
   ]
  },
  {
   "cell_type": "code",
   "execution_count": 27,
   "metadata": {},
   "outputs": [
    {
     "name": "stdout",
     "output_type": "stream",
     "text": [
      "birds f1 0.9393600358021928\n",
      "birds_boosted f1 0.9580838323353293\n",
      "birds_geof f1 0.9393600358021928\n",
      "birds_geof_boosted f1 0.9580838323353293\n"
     ]
    }
   ],
   "source": [
    "# convert predictions to words\n",
    "\n",
    "labels_cols = []\n",
    "\n",
    "for col in [\n",
    "    \"_y_pred\",\n",
    "    \"_y_pred_boosted\",\n",
    "    \"_y_pred_geof\",\n",
    "    \"_y_pred_geof_boosted\",\n",
    "]:\n",
    "    if col in df:\n",
    "\n",
    "        labels_pred = predictions_to_text_labels(\n",
    "            np.array(list(df[col])),\n",
    "            meta[\"labels\"],\n",
    "            default_label=\"nocall\",\n",
    "            max_labels=None,\n",
    "            priority_to_nocall=False,\n",
    "            threshold=THRESHOLD,\n",
    "        )\n",
    "\n",
    "        labels_col = col.replace(\"_y_pred\", \"birds\")\n",
    "        labels_cols.append(labels_col)\n",
    "        df[labels_col] = labels_pred\n",
    "\n",
    "        if not IN_KAGGLE_SUBMIT:\n",
    "\n",
    "            df[df[\"_primary_labels\"] != df[\"birds\"]][\n",
    "                [\"filename\", \"_primary_labels\"] + labels_cols\n",
    "            ].to_csv(\"wrong.csv\", index=False)\n",
    "\n",
    "            print(\n",
    "                labels_col,\n",
    "                \"f1\",\n",
    "                f1_score(\n",
    "                    df[\"_primary_labels\"],\n",
    "                    df[labels_col],\n",
    "                    labels=meta[\"labels\"],\n",
    "                    average=\"micro\",\n",
    "                ),\n",
    "            )"
   ]
  },
  {
   "cell_type": "code",
   "execution_count": 28,
   "metadata": {},
   "outputs": [],
   "source": [
    "# df[[\"row_id\", \"birds\"]].to_csv(\"submission.csv\", index=False)"
   ]
  },
  {
   "cell_type": "code",
   "execution_count": null,
   "metadata": {},
   "outputs": [],
   "source": []
  }
 ],
 "metadata": {
  "kernelspec": {
   "display_name": "Python 3",
   "language": "python",
   "name": "python3"
  },
  "language_info": {
   "codemirror_mode": {
    "name": "ipython",
    "version": 3
   },
   "file_extension": ".py",
   "mimetype": "text/x-python",
   "name": "python",
   "nbconvert_exporter": "python",
   "pygments_lexer": "ipython3",
   "version": "3.8.5"
  }
 },
 "nbformat": 4,
 "nbformat_minor": 4
}
