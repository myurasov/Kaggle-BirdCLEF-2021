{
 "cells": [
  {
   "cell_type": "code",
   "execution_count": 1,
   "id": "bf8db99a-a9b6-4524-9fb2-51ccde7faf0f",
   "metadata": {},
   "outputs": [],
   "source": [
    "# environment setup\n",
    "\n",
    "import os\n",
    "import sys\n",
    "\n",
    "os.environ[\"__KAGGLE__\"] = \"1\"\n",
    "sys.path.append(\"/kaggle/input/bc21-code/\")"
   ]
  },
  {
   "cell_type": "code",
   "execution_count": 2,
   "id": "625bad93-7b66-45a1-bce3-a64811cbad39",
   "metadata": {},
   "outputs": [],
   "source": [
    "import matplotlib.pyplot as plt\n",
    "import numpy as np\n",
    "import pandas as pd\n",
    "import tensorflow_addons as tfa\n",
    "from sklearn.metrics import f1_score\n",
    "from tensorflow import keras\n",
    "from tqdm import tqdm\n",
    "\n",
    "from lib.utils import fix_random_seed, read_json\n",
    "from src.config import c\n",
    "from src.data_utils import (\n",
    "    geofilter_predictions,\n",
    "    normalize_soundscapes_df,\n",
    "    predictions_to_text_labels,\n",
    "    read_soundscapes_info,\n",
    ")\n",
    "from src.generator import Generator\n",
    "from src.geo_filter import filters as geo_filters\n",
    "from src.models import Div, SinCos, YMToDate\n",
    "from src.services import get_msg_provider, get_wave_provider"
   ]
  },
  {
   "cell_type": "code",
   "execution_count": 13,
   "id": "c72dc0b1-e39a-46b4-a753-975dcc8f57c4",
   "metadata": {},
   "outputs": [],
   "source": [
    "IN_KAGGLE_SUBMIT = os.environ[\"KAGGLE_KERNEL_RUN_TYPE\"] != \"Interactive\"\n",
    "\n",
    "IN_CSV = (\n",
    "    \"/kaggle/input/birdclef-2021/test.csv\"\n",
    "    if IN_KAGGLE_SUBMIT\n",
    "    else \"/app/_data/competition_data/train_soundscape_labels.csv\"\n",
    ")\n",
    "\n",
    "MODEL = \"/kaggle/input/bc21-models/B1_nrsw_2.h5\"\n",
    "\n",
    "# GEOFILTER = \"all-500mi-last_5y-1mo_tolerance\"\n",
    "GEOFILTER = None"
   ]
  },
  {
   "cell_type": "code",
   "execution_count": 4,
   "id": "bd29cca1-e868-41f5-8d8b-9bfe3b00e904",
   "metadata": {},
   "outputs": [],
   "source": [
    "# metadata from model training run\n",
    "meta = read_json(MODEL.replace(\".h5\", \".json\"))"
   ]
  },
  {
   "cell_type": "code",
   "execution_count": 5,
   "id": "3f6494df-5e50-466a-9955-843bef1a00ca",
   "metadata": {},
   "outputs": [],
   "source": [
    "# prepare soundscapes df\n",
    "df = pd.read_csv(IN_CSV)\n",
    "df = normalize_soundscapes_df(df, quiet=True, seconds=5)"
   ]
  },
  {
   "cell_type": "code",
   "execution_count": 6,
   "id": "887f47e6-5186-4cbd-9338-3acb5e9b17c7",
   "metadata": {},
   "outputs": [
    {
     "name": "stdout",
     "output_type": "stream",
     "text": [
      "INFO:tensorflow:Mixed precision compatibility check (mixed_float16): OK\n",
      "Your GPU will likely run quickly with dtype policy mixed_float16 as it has compute capability of at least 7.0. Your GPU: NVIDIA Tesla V100-DGXS-32GB, compute capability 7.0\n"
     ]
    }
   ],
   "source": [
    "# load model\n",
    "model = keras.models.load_model(\n",
    "    MODEL,\n",
    "    custom_objects={\n",
    "        \"SinCos\": SinCos,\n",
    "        \"Div\": Div,\n",
    "        \"YMToDate\": YMToDate,\n",
    "    },\n",
    ")"
   ]
  },
  {
   "cell_type": "code",
   "execution_count": 7,
   "id": "55dfa5e7-1bd4-4780-a18a-592ca4a24872",
   "metadata": {},
   "outputs": [
    {
     "name": "stderr",
     "output_type": "stream",
     "text": [
      "/usr/local/lib/python3.8/dist-packages/torchaudio/functional/functional.py:357: UserWarning: At least one mel filterbank has all zero values. The value for `n_mels` (380) may be set too high. Or, the value for `n_freqs` (1025) may be set too low.\n",
      "  warnings.warn(\n"
     ]
    }
   ],
   "source": [
    "# create generator\n",
    "\n",
    "input_shape = model.get_layer(\"i_msg\").input_shape[0][1:]\n",
    "wave_p = get_wave_provider(meta[\"config\"])\n",
    "msg_p = get_msg_provider(\n",
    "    meta[\"config\"], n_mels=input_shape[0], time_steps=input_shape[1]\n",
    ")\n",
    "\n",
    "g = Generator(\n",
    "    df=df,\n",
    "    shuffle=False,\n",
    "    augmentation=None,\n",
    "    rating_as_sw=False,\n",
    "    rareness_as_sw=False,\n",
    "    msg_provider=msg_p,\n",
    "    wave_provider=wave_p,\n",
    "    msg_as_rgb=(3 == input_shape[-1]),\n",
    "    geo_coordinates_bins=meta[\"config\"][\"GEO_COORDINATES_BINS\"],\n",
    "    batch_size=1,\n",
    ")"
   ]
  },
  {
   "cell_type": "code",
   "execution_count": 8,
   "id": "3e52e267-599c-421e-9990-543839ab5998",
   "metadata": {},
   "outputs": [
    {
     "name": "stdout",
     "output_type": "stream",
     "text": [
      "2400/2400 [==============================] - 64s 23ms/step\n"
     ]
    }
   ],
   "source": [
    "# predict\n",
    "Y_pred = model.predict(\n",
    "    x=g,\n",
    "    use_multiprocessing=False,\n",
    "    verbose=0 if IN_KAGGLE_SUBMIT else 1,\n",
    ")"
   ]
  },
  {
   "cell_type": "code",
   "execution_count": 14,
   "id": "d0034eca-3eec-4275-b918-119b1dbc1575",
   "metadata": {},
   "outputs": [],
   "source": [
    "# geofiltering\n",
    "\n",
    "if GEOFILTER is not None:\n",
    "\n",
    "    Y_pred = geofilter_predictions(\n",
    "        df=df,\n",
    "        Y_pred=Y_pred,\n",
    "        site_labels=geo_filters[GEOFILTER],\n",
    "        labels=meta[\"labels\"],\n",
    "        downgrade_const=0.0,\n",
    "    )"
   ]
  },
  {
   "cell_type": "code",
   "execution_count": 15,
   "id": "2daa94cc-9587-4068-a440-e763d5246f09",
   "metadata": {},
   "outputs": [],
   "source": [
    "# convert predictions to words\n",
    "\n",
    "labels_pred = predictions_to_text_labels(\n",
    "    Y_pred,\n",
    "    meta[\"labels\"],\n",
    "    default_label=\"nocall\",\n",
    "    max_labels=None,\n",
    "    priority_to_nocall=False,\n",
    ")\n",
    "\n",
    "df[\"birds\"] = labels_pred"
   ]
  },
  {
   "cell_type": "code",
   "execution_count": 16,
   "id": "0540f3c6-82c6-4bc5-b306-f5fbbe5f114f",
   "metadata": {},
   "outputs": [
    {
     "name": "stdout",
     "output_type": "stream",
     "text": [
      "f1: 0.9393600358021928\n"
     ]
    }
   ],
   "source": [
    "if not IN_KAGGLE_SUBMIT:\n",
    "\n",
    "    df[df[\"_primary_labels\"] != df[\"birds\"]].to_csv(\"wrong.csv\")\n",
    "\n",
    "    print(\n",
    "        \"f1:\",\n",
    "        f1_score(\n",
    "            df[\"_primary_labels\"],\n",
    "            df[\"birds\"],\n",
    "            labels=meta[\"labels\"],\n",
    "            average=\"micro\",\n",
    "        ),\n",
    "    )"
   ]
  },
  {
   "cell_type": "code",
   "execution_count": 17,
   "id": "dcde2be8-c1c2-4991-9fba-3673938eff7d",
   "metadata": {},
   "outputs": [],
   "source": [
    "df[[\"row_id\", \"birds\"]].to_csv(\"/kaggle/working/submission.csv\", index=False)"
   ]
  },
  {
   "cell_type": "code",
   "execution_count": null,
   "id": "e974062b-d67e-4df4-aca7-27fd1abc542a",
   "metadata": {},
   "outputs": [],
   "source": []
  }
 ],
 "metadata": {
  "kernelspec": {
   "display_name": "Python 3",
   "language": "python",
   "name": "python3"
  },
  "language_info": {
   "codemirror_mode": {
    "name": "ipython",
    "version": 3
   },
   "file_extension": ".py",
   "mimetype": "text/x-python",
   "name": "python",
   "nbconvert_exporter": "python",
   "pygments_lexer": "ipython3",
   "version": "3.8.5"
  }
 },
 "nbformat": 4,
 "nbformat_minor": 5
}
